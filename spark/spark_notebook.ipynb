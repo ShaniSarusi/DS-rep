{
 "cells": [
  {
   "cell_type": "code",
   "execution_count": 2,
   "metadata": {
    "collapsed": false
   },
   "outputs": [],
   "source": [
    "import os \n",
    "data_path = '/home/lfaivish/PycharmProjects/Deepshit/DATA_FOLDER'\n",
    "os.chdir(\"C:\\\\Users\\\\awagner\\\\Documents\\\\DataScientists\")\n",
    "\n",
    "from spark import utils_function_spark\n",
    "from spark import arrange_intervals\n",
    "\n",
    "import gc\n",
    "import numpy as np\n",
    "from pyspark import SQLContext\n",
    "from pyspark.sql.functions import udf\n",
    "from pyspark.sql import SparkSession\n",
    "from pyspark.sql.functions import col\n",
    "from pyspark.sql.window import Window\n",
    "from pyspark.sql.functions import ceil, unix_timestamp\n",
    "from pyspark.sql.functions import rank\n",
    "from pyspark.sql.functions import collect_list, array\n",
    "from pyspark.mllib.linalg import Vectors, VectorUDT\n",
    "from pyspark.sql.types import *\n",
    "import time\n",
    "\n",
    "from scipy.interpolate import interpolate\n",
    "import pywt\n",
    "from future.utils import lmap\n",
    "import numpy as np\n",
    "from functools import partial\n"
   ]
  },
  {
   "cell_type": "code",
   "execution_count": 3,
   "metadata": {
    "collapsed": true
   },
   "outputs": [],
   "source": [
    "spark = SparkSession.builder.appName(\"some_testing2\").master(\"local\").getOrCreate()\n",
    "raw_data = spark.read.format('com.databricks.spark.csv').option(\"header\", \"True\").option(\"delimiter\", \",\")\\\n",
    "                      .load('C:/Users/awagner/Desktop/For_Tom/'+'AllLabData.csv')\n"
   ]
  },
  {
   "cell_type": "code",
   "execution_count": 4,
   "metadata": {
    "collapsed": false
   },
   "outputs": [
    {
     "name": "stdout",
     "output_type": "stream",
     "text": [
      "stage1 0.799109935760498\n",
      "stage2 334.1456081867218\n",
      "stage3 346.24051666259766\n",
      "stage4 346.83390712738037\n"
     ]
    }
   ],
   "source": [
    "\n",
    "t = time.time()\n",
    "raw_data = arrange_intervals.casting_data(raw_data)\n",
    "print('stage1 ' + str(time.time() - t))\n",
    "data_frame = arrange_intervals.make_inteval_per_task(raw_data)\n",
    "print('stage2 ' + str(time.time() - t))\n",
    "\n",
    "data_frame = arrange_intervals.tasks_to_intervals(data_frame,\n",
    "                                                  slide = 2.5, window = 5)\n",
    "print('tasks_to_intervals ' + str(time.time() - t))\n",
    "\n",
    "data_frame = arrange_intervals.get_features(data_frame)\n",
    "print('stage4 ' + str(time.time() - t))\n",
    "\n",
    "\n"
   ]
  },
  {
   "cell_type": "code",
   "execution_count": 5,
   "metadata": {
    "collapsed": false
   },
   "outputs": [
    {
     "name": "stdout",
     "output_type": "stream",
     "text": [
      "+--------------------+--------------------+--------------------+--------------------+--------------------+\n",
      "|                 key|    rel_features_ver|   cont_features_ver|    rel_features_hor|   cont_features_hor|\n",
      "+--------------------+--------------------+--------------------+--------------------+--------------------+\n",
      "|[3.1923658E7,0.0,...|[0.0,0.0060506603...|[8.326673E-17,0.0...|[0.0,0.07433381,0...|[2.7755576E-17,0....|\n",
      "|[3.1923658E7,0.0,...|[0.0,0.024748635,...|[5.551115E-17,0.2...|[0.0,0.038538158,...|[1.6653345E-16,0....|\n",
      "|[3.1923658E7,0.0,...|[0.0,0.03884047,0...|[5.551115E-17,0.4...|[0.0,0.034145087,...|[6.938894E-17,0.1...|\n",
      "|[3.1923658E7,0.0,...|[0.0,0.056474645,...|[3.8857806E-16,0....|[0.0,0.024905436,...|[6.938894E-17,0.1...|\n",
      "|[3.1923658E7,0.0,...|[0.0,0.015611432,...|[4.1633363E-17,0....|[0.0,0.05458911,0...|[5.551115E-17,0.3...|\n",
      "+--------------------+--------------------+--------------------+--------------------+--------------------+\n",
      "only showing top 5 rows\n",
      "\n",
      "data_frame_show 823.344319820404\n"
     ]
    }
   ],
   "source": [
    "del raw_data\n",
    "gc.collect()\n",
    "\n",
    "data_frame.show(5)\n",
    "print('data_frame_show ' + str(time.time() - t))"
   ]
  },
  {
   "cell_type": "code",
   "execution_count": null,
   "metadata": {
    "collapsed": true
   },
   "outputs": [],
   "source": []
  }
 ],
 "metadata": {
  "kernelspec": {
   "display_name": "Python 3",
   "language": "python",
   "name": "python3"
  },
  "language_info": {
   "codemirror_mode": {
    "name": "ipython",
    "version": 3
   },
   "file_extension": ".py",
   "mimetype": "text/x-python",
   "name": "python",
   "nbconvert_exporter": "python",
   "pygments_lexer": "ipython3",
   "version": "3.6.0"
  }
 },
 "nbformat": 4,
 "nbformat_minor": 2
}
