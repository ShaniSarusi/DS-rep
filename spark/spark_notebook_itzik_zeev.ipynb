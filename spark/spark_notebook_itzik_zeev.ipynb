{
 "cells": [
  {
   "cell_type": "markdown",
   "metadata": {
    "toc": "true"
   },
   "source": [
    "# Table of Contents\n",
    " <p>"
   ]
  },
  {
   "cell_type": "code",
   "execution_count": 1,
   "metadata": {
    "ExecuteTime": {
     "end_time": "2017-11-09T14:05:51.492263Z",
     "start_time": "2017-11-09T14:05:51.002259Z"
    },
    "collapsed": true
   },
   "outputs": [],
   "source": [
    "import os \n",
    "# data_path = '/home/lfaivish/PycharmProjects/Deepshit/DATA_FOLDER'\n",
    "os.chdir(\"C:\\\\Users\\\\imazeh\\\\Itzik\\\\Health_prof\\\\git_team\\\\DataScientists\")\n",
    "\n",
    "from spark import utils_function_spark\n",
    "from spark import arrange_intervals\n",
    "\n",
    "import gc\n",
    "import numpy as np\n",
    "from pyspark import SQLContext\n",
    "from pyspark.sql.functions import udf\n",
    "from pyspark.sql import SparkSession\n",
    "from pyspark.sql.functions import col\n",
    "from pyspark.sql.window import Window\n",
    "from pyspark.sql.functions import ceil, unix_timestamp\n",
    "from pyspark.sql.functions import rank\n",
    "from pyspark.sql.functions import collect_list, array\n",
    "from pyspark.mllib.linalg import Vectors, VectorUDT\n",
    "from pyspark.sql.types import *\n",
    "import time\n",
    "\n",
    "from scipy.interpolate import interpolate\n",
    "import pywt\n",
    "from future.utils import lmap\n",
    "import numpy as np\n",
    "from functools import partial\n",
    "\n",
    "#ML imports:\n",
    "from pyspark.ml import Pipeline\n",
    "from pyspark.ml.classification import RandomForestClassifier\n",
    "from pyspark.ml.feature import IndexToString, StringIndexer, VectorIndexer, VectorAssembler\n",
    "from pyspark.ml.evaluation import MulticlassClassificationEvaluator"
   ]
  },
  {
   "cell_type": "code",
   "execution_count": 2,
   "metadata": {
    "ExecuteTime": {
     "end_time": "2017-11-09T14:05:52.819924Z",
     "start_time": "2017-11-09T14:05:51.717924Z"
    }
   },
   "outputs": [
    {
     "name": "stderr",
     "output_type": "stream",
     "text": [
      "C:\\Users\\imazeh\\AppData\\Local\\Continuum\\Anaconda3\\lib\\site-packages\\statsmodels\\compat\\pandas.py:56: FutureWarning: The pandas.core.datetools module is deprecated and will be removed in a future version. Please use the pandas.tseries module instead.\n",
      "  from pandas.core import datetools\n"
     ]
    }
   ],
   "source": [
    "from tsfresh import extract_features\n",
    "from tsfresh.feature_extraction import feature_calculators\n",
    "from tsfresh.feature_extraction.settings import ComprehensiveFCParameters, MinimalFCParameters, EfficientFCParameters\n",
    "from Utils.Features import ts_fresh\n",
    "import pandas as pd"
   ]
  },
  {
   "cell_type": "code",
   "execution_count": 3,
   "metadata": {
    "ExecuteTime": {
     "end_time": "2017-11-09T14:05:57.597969Z",
     "start_time": "2017-11-09T14:05:52.821923Z"
    },
    "collapsed": true
   },
   "outputs": [],
   "source": [
    "spark = SparkSession.builder.appName(\"full_flow\").getOrCreate()\n",
    "# .config(\"spark.sql.shuffle.partitions\", \"3\")"
   ]
  },
  {
   "cell_type": "code",
   "execution_count": 4,
   "metadata": {
    "ExecuteTime": {
     "end_time": "2017-11-09T14:06:01.144925Z",
     "start_time": "2017-11-09T14:05:57.599924Z"
    },
    "collapsed": true
   },
   "outputs": [],
   "source": [
    "raw_data = spark.read.format('com.databricks.spark.csv').option(\"header\", \"True\").option(\"delimiter\", \",\")\\\n",
    "                      .load('C:/Users/imazeh/Itzik/Health_prof/L_dopa/Large_data/'+'all_lab_data.csv')"
   ]
  },
  {
   "cell_type": "code",
   "execution_count": 5,
   "metadata": {
    "ExecuteTime": {
     "end_time": "2017-11-09T14:08:07.017200Z",
     "start_time": "2017-11-09T14:06:01.146925Z"
    }
   },
   "outputs": [
    {
     "name": "stdout",
     "output_type": "stream",
     "text": [
      "stage1 0.5450022220611572\n",
      "stage2 116.92121052742004\n",
      "tasks_to_intervals 125.86327147483826\n"
     ]
    }
   ],
   "source": [
    "t = time.time()\n",
    "raw_data = arrange_intervals.casting_data(raw_data)\n",
    "print('stage1 ' + str(time.time() - t))\n",
    "data_frame = arrange_intervals.make_inteval_per_task(raw_data)\n",
    "print('stage2 ' + str(time.time() - t))\n",
    "\n",
    "data_frame = arrange_intervals.tasks_to_intervals(data_frame,\n",
    "                                                  slide = 2.5, window = 5)\n",
    "print('tasks_to_intervals ' + str(time.time() - t))"
   ]
  },
  {
   "cell_type": "code",
   "execution_count": null,
   "metadata": {
    "ExecuteTime": {
     "end_time": "2017-11-08T09:00:43.208232Z",
     "start_time": "2017-11-08T09:00:42.955223Z"
    },
    "collapsed": true
   },
   "outputs": [],
   "source": [
    "#data_frame = arrange_intervals.get_features(data_frame)\n",
    "#print('stage4 ' + str(time.time() - t))"
   ]
  },
  {
   "cell_type": "code",
   "execution_count": 6,
   "metadata": {
    "ExecuteTime": {
     "end_time": "2017-11-09T14:08:23.294259Z",
     "start_time": "2017-11-09T14:08:14.246197Z"
    }
   },
   "outputs": [
    {
     "name": "stdout",
     "output_type": "stream",
     "text": [
      "+--------------------+--------------------+--------------------+--------------------+\n",
      "|                 key|                   X|                   Y|                   Z|\n",
      "+--------------------+--------------------+--------------------+--------------------+\n",
      "|[3.1923658E7,0.0,...|[0.86584275960922...|[-0.0852674022316...|[-0.2327923923730...|\n",
      "|[3.1923658E7,0.0,...|[0.84788239002227...|[-0.0777988657355...|[-0.3939299285411...|\n",
      "|[3.1923658E7,0.0,...|[0.60710769891738...|[-0.0039055959787...|[-0.2368490248918...|\n",
      "|[3.1923658E7,0.0,...|[0.93031895160675...|[-0.1709642708301...|[-0.3897138833999...|\n",
      "|[3.1923658E7,0.0,...|[0.73621869087219...|[0.46842575073242...|[-0.2064738124608...|\n",
      "+--------------------+--------------------+--------------------+--------------------+\n",
      "only showing top 5 rows\n",
      "\n",
      "data_frame_show 142.1353325843811\n"
     ]
    }
   ],
   "source": [
    "gc.collect()\n",
    "\n",
    "data_frame.show(5)\n",
    "print('data_frame_show ' + str(time.time() - t))"
   ]
  },
  {
   "cell_type": "code",
   "execution_count": 8,
   "metadata": {
    "ExecuteTime": {
     "end_time": "2017-11-09T14:09:19.975508Z",
     "start_time": "2017-11-09T14:09:19.964554Z"
    },
    "collapsed": true
   },
   "outputs": [],
   "source": [
    "df_sample = data_frame.sample(False, 0.001)"
   ]
  },
  {
   "cell_type": "code",
   "execution_count": 85,
   "metadata": {
    "ExecuteTime": {
     "end_time": "2017-11-09T08:08:03.255867Z",
     "start_time": "2017-11-09T08:08:02.920866Z"
    }
   },
   "outputs": [
    {
     "name": "stdout",
     "output_type": "stream",
     "text": [
      "44\n",
      "<class 'pyspark.sql.dataframe.DataFrame'>\n"
     ]
    }
   ],
   "source": [
    "print(df_sample.count())\n",
    "print(type(df_sample))"
   ]
  },
  {
   "cell_type": "code",
   "execution_count": null,
   "metadata": {
    "ExecuteTime": {
     "start_time": "2017-11-09T14:09:28.135Z"
    }
   },
   "outputs": [],
   "source": [
    "sub_df = df_sample.take(30)\n",
    "print(type(sub_df))"
   ]
  },
  {
   "cell_type": "code",
   "execution_count": null,
   "metadata": {
    "ExecuteTime": {
     "end_time": "2017-11-08T08:30:36.569132Z",
     "start_time": "2017-11-08T08:30:36.566133Z"
    },
    "collapsed": true
   },
   "outputs": [],
   "source": [
    "sub_df_x = []\n",
    "for window in sub_df:\n",
    "#     print(len(window[1]))\n",
    "    sub_df_x.append(window[1])"
   ]
  },
  {
   "cell_type": "code",
   "execution_count": 94,
   "metadata": {
    "ExecuteTime": {
     "end_time": "2017-11-09T08:15:47.257918Z",
     "start_time": "2017-11-09T08:15:47.249918Z"
    }
   },
   "outputs": [
    {
     "name": "stdout",
     "output_type": "stream",
     "text": [
      "<class 'list'> 251\n"
     ]
    }
   ],
   "source": [
    "sub_df_x = sub_df[0][1]\n",
    "print(type(sub_df_x), len(sub_df_x))"
   ]
  },
  {
   "cell_type": "code",
   "execution_count": null,
   "metadata": {
    "ExecuteTime": {
     "end_time": "2017-11-08T08:16:34.989530Z",
     "start_time": "2017-11-08T08:16:34.974549Z"
    },
    "collapsed": true
   },
   "outputs": [],
   "source": [
    "sub_tsf = ts_fresh.convert_signals_for_ts_fresh(sub_df_x, dimension_name='x')"
   ]
  },
  {
   "cell_type": "code",
   "execution_count": null,
   "metadata": {
    "ExecuteTime": {
     "end_time": "2017-11-08T08:26:05.251926Z",
     "start_time": "2017-11-08T08:26:03.092963Z"
    },
    "collapsed": true
   },
   "outputs": [],
   "source": [
    "sub_tsf_features = extract_features(sub_tsf, default_fc_parameters=MinimalFCParameters(),\n",
    "                                        column_id=\"signal_id\", column_sort=\"time\")"
   ]
  },
  {
   "cell_type": "code",
   "execution_count": 17,
   "metadata": {
    "ExecuteTime": {
     "end_time": "2017-11-08T09:35:52.558559Z",
     "start_time": "2017-11-08T09:35:52.531598Z"
    }
   },
   "outputs": [
    {
     "data": {
      "text/plain": [
       "DataFrame[key: struct<_1:double,_2:double,_3:double,_4:double>, X: array<double>, Y: array<double>, Z: array<double>]"
      ]
     },
     "execution_count": 17,
     "metadata": {},
     "output_type": "execute_result"
    }
   ],
   "source": [
    "df_sample.cache()"
   ]
  },
  {
   "cell_type": "code",
   "execution_count": null,
   "metadata": {
    "ExecuteTime": {
     "end_time": "2017-11-09T14:01:34.453333Z",
     "start_time": "2017-11-09T14:01:21.653Z"
    },
    "collapsed": true
   },
   "outputs": [],
   "source": [
    "features_dict = {'abs_energy': None,\n",
    "                 'absolute_sum_of_changes': None,\n",
    "                 'approximate_entropy': [{'m': 2, 'r': 0.25},\n",
    "                                         {'m': 2, 'r': 0.5},\n",
    "                                         {'m': 2, 'r': 0.75}]\n",
    "                }"
   ]
  },
  {
   "cell_type": "code",
   "execution_count": 7,
   "metadata": {
    "ExecuteTime": {
     "end_time": "2017-11-09T14:01:51.883926Z",
     "start_time": "2017-11-09T14:01:51.868928Z"
    },
    "collapsed": true
   },
   "outputs": [],
   "source": [
    "def extract_our_features(signal, features_dict):\n",
    "    features_names = []\n",
    "    features_vals = []\n",
    "    for feature in features_dict:\n",
    "        if features_dict[feature]==None:\n",
    "            feat_method = 'feature_calculators.'+feature\n",
    "            features_names.append(feat_method.split('.')[1])\n",
    "            feat_val = eval(feat_method)(x = signal)\n",
    "            features_vals.append(feat_val)\n",
    "        else:\n",
    "            for param_comb in features_dict[feature]:\n",
    "                args = ['x=signal']\n",
    "                name = [feature]\n",
    "                for param in param_comb.keys():\n",
    "                    val = param_comb[param]\n",
    "                    arg = str(param)+'='+str(val)\n",
    "                    args.append(arg)\n",
    "                    name.append(arg)\n",
    "                features_names.append('_'.join(name))\n",
    "                args_string = ', '.join(args)\n",
    "                feat_method = 'feature_calculators.'+feature+'('+args_string+')'\n",
    "                feat_val = eval(feat_method)\n",
    "                features_vals.append(feat_val)\n",
    "    return features_names, features_vals"
   ]
  },
  {
   "cell_type": "code",
   "execution_count": 192,
   "metadata": {
    "ExecuteTime": {
     "end_time": "2017-11-09T13:07:49.875110Z",
     "start_time": "2017-11-09T13:07:49.853076Z"
    },
    "collapsed": true
   },
   "outputs": [],
   "source": [
    "for i\n",
    "names, features = extract_our_features(sub_df_x, features_dict=features_dict)"
   ]
  },
  {
   "cell_type": "code",
   "execution_count": 193,
   "metadata": {
    "ExecuteTime": {
     "end_time": "2017-11-09T13:07:51.537727Z",
     "start_time": "2017-11-09T13:07:51.528726Z"
    }
   },
   "outputs": [
    {
     "name": "stdout",
     "output_type": "stream",
     "text": [
      "['abs_energy', 'absolute_sum_of_changes', 'approximate_entropy_m=2_r=0.25', 'approximate_entropy_m=2_r=0.5', 'approximate_entropy_m=2_r=0.75']\n",
      "[3.2672816213142664, 17.14395582373254, 1.1422319036582578, 1.1115601464756923, 0.8749603393165799]\n"
     ]
    }
   ],
   "source": [
    "print(names)\n",
    "print(features)"
   ]
  },
  {
   "cell_type": "code",
   "execution_count": 98,
   "metadata": {
    "ExecuteTime": {
     "end_time": "2017-11-09T08:30:43.687706Z",
     "start_time": "2017-11-09T08:30:43.681698Z"
    }
   },
   "outputs": [
    {
     "data": {
      "text/plain": [
       "114"
      ]
     },
     "execution_count": 98,
     "metadata": {},
     "output_type": "execute_result"
    }
   ],
   "source": [
    "bla = 'feature_calculators.abs_energy'\n",
    "eval(bla + '()')([10,1,2,3])"
   ]
  },
  {
   "cell_type": "code",
   "execution_count": 78,
   "metadata": {
    "ExecuteTime": {
     "end_time": "2017-11-09T07:13:23.600585Z",
     "start_time": "2017-11-09T07:13:23.572623Z"
    },
    "collapsed": true
   },
   "outputs": [
    {
     "data": {
      "text/plain": [
       "{'abs_energy': None,\n",
       " 'absolute_sum_of_changes': None,\n",
       " 'agg_linear_trend': [{'attr': 'rvalue', 'chunk_len': 5, 'f_agg': 'max'},\n",
       "  {'attr': 'rvalue', 'chunk_len': 5, 'f_agg': 'min'},\n",
       "  {'attr': 'rvalue', 'chunk_len': 5, 'f_agg': 'mean'},\n",
       "  {'attr': 'rvalue', 'chunk_len': 5, 'f_agg': 'var'},\n",
       "  {'attr': 'rvalue', 'chunk_len': 10, 'f_agg': 'max'},\n",
       "  {'attr': 'rvalue', 'chunk_len': 10, 'f_agg': 'min'},\n",
       "  {'attr': 'rvalue', 'chunk_len': 10, 'f_agg': 'mean'},\n",
       "  {'attr': 'rvalue', 'chunk_len': 10, 'f_agg': 'var'},\n",
       "  {'attr': 'rvalue', 'chunk_len': 50, 'f_agg': 'max'},\n",
       "  {'attr': 'rvalue', 'chunk_len': 50, 'f_agg': 'min'},\n",
       "  {'attr': 'rvalue', 'chunk_len': 50, 'f_agg': 'mean'},\n",
       "  {'attr': 'rvalue', 'chunk_len': 50, 'f_agg': 'var'},\n",
       "  {'attr': 'intercept', 'chunk_len': 5, 'f_agg': 'max'},\n",
       "  {'attr': 'intercept', 'chunk_len': 5, 'f_agg': 'min'},\n",
       "  {'attr': 'intercept', 'chunk_len': 5, 'f_agg': 'mean'},\n",
       "  {'attr': 'intercept', 'chunk_len': 5, 'f_agg': 'var'},\n",
       "  {'attr': 'intercept', 'chunk_len': 10, 'f_agg': 'max'},\n",
       "  {'attr': 'intercept', 'chunk_len': 10, 'f_agg': 'min'},\n",
       "  {'attr': 'intercept', 'chunk_len': 10, 'f_agg': 'mean'},\n",
       "  {'attr': 'intercept', 'chunk_len': 10, 'f_agg': 'var'},\n",
       "  {'attr': 'intercept', 'chunk_len': 50, 'f_agg': 'max'},\n",
       "  {'attr': 'intercept', 'chunk_len': 50, 'f_agg': 'min'},\n",
       "  {'attr': 'intercept', 'chunk_len': 50, 'f_agg': 'mean'},\n",
       "  {'attr': 'intercept', 'chunk_len': 50, 'f_agg': 'var'},\n",
       "  {'attr': 'slope', 'chunk_len': 5, 'f_agg': 'max'},\n",
       "  {'attr': 'slope', 'chunk_len': 5, 'f_agg': 'min'},\n",
       "  {'attr': 'slope', 'chunk_len': 5, 'f_agg': 'mean'},\n",
       "  {'attr': 'slope', 'chunk_len': 5, 'f_agg': 'var'},\n",
       "  {'attr': 'slope', 'chunk_len': 10, 'f_agg': 'max'},\n",
       "  {'attr': 'slope', 'chunk_len': 10, 'f_agg': 'min'},\n",
       "  {'attr': 'slope', 'chunk_len': 10, 'f_agg': 'mean'},\n",
       "  {'attr': 'slope', 'chunk_len': 10, 'f_agg': 'var'},\n",
       "  {'attr': 'slope', 'chunk_len': 50, 'f_agg': 'max'},\n",
       "  {'attr': 'slope', 'chunk_len': 50, 'f_agg': 'min'},\n",
       "  {'attr': 'slope', 'chunk_len': 50, 'f_agg': 'mean'},\n",
       "  {'attr': 'slope', 'chunk_len': 50, 'f_agg': 'var'},\n",
       "  {'attr': 'stderr', 'chunk_len': 5, 'f_agg': 'max'},\n",
       "  {'attr': 'stderr', 'chunk_len': 5, 'f_agg': 'min'},\n",
       "  {'attr': 'stderr', 'chunk_len': 5, 'f_agg': 'mean'},\n",
       "  {'attr': 'stderr', 'chunk_len': 5, 'f_agg': 'var'},\n",
       "  {'attr': 'stderr', 'chunk_len': 10, 'f_agg': 'max'},\n",
       "  {'attr': 'stderr', 'chunk_len': 10, 'f_agg': 'min'},\n",
       "  {'attr': 'stderr', 'chunk_len': 10, 'f_agg': 'mean'},\n",
       "  {'attr': 'stderr', 'chunk_len': 10, 'f_agg': 'var'},\n",
       "  {'attr': 'stderr', 'chunk_len': 50, 'f_agg': 'max'},\n",
       "  {'attr': 'stderr', 'chunk_len': 50, 'f_agg': 'min'},\n",
       "  {'attr': 'stderr', 'chunk_len': 50, 'f_agg': 'mean'},\n",
       "  {'attr': 'stderr', 'chunk_len': 50, 'f_agg': 'var'}],\n",
       " 'ar_coefficient': [{'coeff': 0, 'k': 10},\n",
       "  {'coeff': 1, 'k': 10},\n",
       "  {'coeff': 2, 'k': 10},\n",
       "  {'coeff': 3, 'k': 10},\n",
       "  {'coeff': 4, 'k': 10}],\n",
       " 'augmented_dickey_fuller': None,\n",
       " 'autocorrelation': [{'lag': 0},\n",
       "  {'lag': 1},\n",
       "  {'lag': 2},\n",
       "  {'lag': 3},\n",
       "  {'lag': 4},\n",
       "  {'lag': 5},\n",
       "  {'lag': 6},\n",
       "  {'lag': 7},\n",
       "  {'lag': 8},\n",
       "  {'lag': 9}],\n",
       " 'binned_entropy': [{'max_bins': 10}],\n",
       " 'count_above_mean': None,\n",
       " 'count_below_mean': None,\n",
       " 'cwt_coefficients': [{'coeff': 0, 'w': 2, 'widths': (2, 5, 10, 20)},\n",
       "  {'coeff': 0, 'w': 5, 'widths': (2, 5, 10, 20)},\n",
       "  {'coeff': 0, 'w': 10, 'widths': (2, 5, 10, 20)},\n",
       "  {'coeff': 0, 'w': 20, 'widths': (2, 5, 10, 20)},\n",
       "  {'coeff': 1, 'w': 2, 'widths': (2, 5, 10, 20)},\n",
       "  {'coeff': 1, 'w': 5, 'widths': (2, 5, 10, 20)},\n",
       "  {'coeff': 1, 'w': 10, 'widths': (2, 5, 10, 20)},\n",
       "  {'coeff': 1, 'w': 20, 'widths': (2, 5, 10, 20)},\n",
       "  {'coeff': 2, 'w': 2, 'widths': (2, 5, 10, 20)},\n",
       "  {'coeff': 2, 'w': 5, 'widths': (2, 5, 10, 20)},\n",
       "  {'coeff': 2, 'w': 10, 'widths': (2, 5, 10, 20)},\n",
       "  {'coeff': 2, 'w': 20, 'widths': (2, 5, 10, 20)},\n",
       "  {'coeff': 3, 'w': 2, 'widths': (2, 5, 10, 20)},\n",
       "  {'coeff': 3, 'w': 5, 'widths': (2, 5, 10, 20)},\n",
       "  {'coeff': 3, 'w': 10, 'widths': (2, 5, 10, 20)},\n",
       "  {'coeff': 3, 'w': 20, 'widths': (2, 5, 10, 20)},\n",
       "  {'coeff': 4, 'w': 2, 'widths': (2, 5, 10, 20)},\n",
       "  {'coeff': 4, 'w': 5, 'widths': (2, 5, 10, 20)},\n",
       "  {'coeff': 4, 'w': 10, 'widths': (2, 5, 10, 20)},\n",
       "  {'coeff': 4, 'w': 20, 'widths': (2, 5, 10, 20)},\n",
       "  {'coeff': 5, 'w': 2, 'widths': (2, 5, 10, 20)},\n",
       "  {'coeff': 5, 'w': 5, 'widths': (2, 5, 10, 20)},\n",
       "  {'coeff': 5, 'w': 10, 'widths': (2, 5, 10, 20)},\n",
       "  {'coeff': 5, 'w': 20, 'widths': (2, 5, 10, 20)},\n",
       "  {'coeff': 6, 'w': 2, 'widths': (2, 5, 10, 20)},\n",
       "  {'coeff': 6, 'w': 5, 'widths': (2, 5, 10, 20)},\n",
       "  {'coeff': 6, 'w': 10, 'widths': (2, 5, 10, 20)},\n",
       "  {'coeff': 6, 'w': 20, 'widths': (2, 5, 10, 20)},\n",
       "  {'coeff': 7, 'w': 2, 'widths': (2, 5, 10, 20)},\n",
       "  {'coeff': 7, 'w': 5, 'widths': (2, 5, 10, 20)},\n",
       "  {'coeff': 7, 'w': 10, 'widths': (2, 5, 10, 20)},\n",
       "  {'coeff': 7, 'w': 20, 'widths': (2, 5, 10, 20)},\n",
       "  {'coeff': 8, 'w': 2, 'widths': (2, 5, 10, 20)},\n",
       "  {'coeff': 8, 'w': 5, 'widths': (2, 5, 10, 20)},\n",
       "  {'coeff': 8, 'w': 10, 'widths': (2, 5, 10, 20)},\n",
       "  {'coeff': 8, 'w': 20, 'widths': (2, 5, 10, 20)},\n",
       "  {'coeff': 9, 'w': 2, 'widths': (2, 5, 10, 20)},\n",
       "  {'coeff': 9, 'w': 5, 'widths': (2, 5, 10, 20)},\n",
       "  {'coeff': 9, 'w': 10, 'widths': (2, 5, 10, 20)},\n",
       "  {'coeff': 9, 'w': 20, 'widths': (2, 5, 10, 20)},\n",
       "  {'coeff': 10, 'w': 2, 'widths': (2, 5, 10, 20)},\n",
       "  {'coeff': 10, 'w': 5, 'widths': (2, 5, 10, 20)},\n",
       "  {'coeff': 10, 'w': 10, 'widths': (2, 5, 10, 20)},\n",
       "  {'coeff': 10, 'w': 20, 'widths': (2, 5, 10, 20)},\n",
       "  {'coeff': 11, 'w': 2, 'widths': (2, 5, 10, 20)},\n",
       "  {'coeff': 11, 'w': 5, 'widths': (2, 5, 10, 20)},\n",
       "  {'coeff': 11, 'w': 10, 'widths': (2, 5, 10, 20)},\n",
       "  {'coeff': 11, 'w': 20, 'widths': (2, 5, 10, 20)},\n",
       "  {'coeff': 12, 'w': 2, 'widths': (2, 5, 10, 20)},\n",
       "  {'coeff': 12, 'w': 5, 'widths': (2, 5, 10, 20)},\n",
       "  {'coeff': 12, 'w': 10, 'widths': (2, 5, 10, 20)},\n",
       "  {'coeff': 12, 'w': 20, 'widths': (2, 5, 10, 20)},\n",
       "  {'coeff': 13, 'w': 2, 'widths': (2, 5, 10, 20)},\n",
       "  {'coeff': 13, 'w': 5, 'widths': (2, 5, 10, 20)},\n",
       "  {'coeff': 13, 'w': 10, 'widths': (2, 5, 10, 20)},\n",
       "  {'coeff': 13, 'w': 20, 'widths': (2, 5, 10, 20)},\n",
       "  {'coeff': 14, 'w': 2, 'widths': (2, 5, 10, 20)},\n",
       "  {'coeff': 14, 'w': 5, 'widths': (2, 5, 10, 20)},\n",
       "  {'coeff': 14, 'w': 10, 'widths': (2, 5, 10, 20)},\n",
       "  {'coeff': 14, 'w': 20, 'widths': (2, 5, 10, 20)}],\n",
       " 'fft_coefficient': [{'coeff': 0},\n",
       "  {'coeff': 1},\n",
       "  {'coeff': 2},\n",
       "  {'coeff': 3},\n",
       "  {'coeff': 4},\n",
       "  {'coeff': 5},\n",
       "  {'coeff': 6},\n",
       "  {'coeff': 7},\n",
       "  {'coeff': 8},\n",
       "  {'coeff': 9}],\n",
       " 'first_location_of_maximum': None,\n",
       " 'first_location_of_minimum': None,\n",
       " 'friedrich_coefficients': [{'coeff': 0, 'm': 3, 'r': 30},\n",
       "  {'coeff': 1, 'm': 3, 'r': 30},\n",
       "  {'coeff': 2, 'm': 3, 'r': 30},\n",
       "  {'coeff': 3, 'm': 3, 'r': 30}],\n",
       " 'has_duplicate': None,\n",
       " 'has_duplicate_max': None,\n",
       " 'has_duplicate_min': None,\n",
       " 'index_mass_quantile': [{'q': 0.1},\n",
       "  {'q': 0.2},\n",
       "  {'q': 0.3},\n",
       "  {'q': 0.4},\n",
       "  {'q': 0.6},\n",
       "  {'q': 0.7},\n",
       "  {'q': 0.8},\n",
       "  {'q': 0.9}],\n",
       " 'kurtosis': None,\n",
       " 'large_number_of_peaks': [{'n': 1}, {'n': 3}, {'n': 5}],\n",
       " 'large_standard_deviation': [{'r': 0.0},\n",
       "  {'r': 0.05},\n",
       "  {'r': 0.1},\n",
       "  {'r': 0.15000000000000002},\n",
       "  {'r': 0.2},\n",
       "  {'r': 0.25},\n",
       "  {'r': 0.30000000000000004},\n",
       "  {'r': 0.35000000000000003},\n",
       "  {'r': 0.4},\n",
       "  {'r': 0.45}],\n",
       " 'last_location_of_maximum': None,\n",
       " 'last_location_of_minimum': None,\n",
       " 'length': None,\n",
       " 'linear_trend': [{'attr': 'pvalue'},\n",
       "  {'attr': 'rvalue'},\n",
       "  {'attr': 'intercept'},\n",
       "  {'attr': 'slope'},\n",
       "  {'attr': 'stderr'}],\n",
       " 'longest_strike_above_mean': None,\n",
       " 'longest_strike_below_mean': None,\n",
       " 'max_langevin_fixed_point': [{'m': 3, 'r': 30}],\n",
       " 'maximum': None,\n",
       " 'mean': None,\n",
       " 'mean_abs_change': None,\n",
       " 'mean_abs_change_quantiles': [{'qh': 0.2, 'ql': 0.0},\n",
       "  {'qh': 0.4, 'ql': 0.0},\n",
       "  {'qh': 0.6, 'ql': 0.0},\n",
       "  {'qh': 0.8, 'ql': 0.0},\n",
       "  {'qh': 1.0, 'ql': 0.0},\n",
       "  {'qh': 0.2, 'ql': 0.2},\n",
       "  {'qh': 0.4, 'ql': 0.2},\n",
       "  {'qh': 0.6, 'ql': 0.2},\n",
       "  {'qh': 0.8, 'ql': 0.2},\n",
       "  {'qh': 1.0, 'ql': 0.2},\n",
       "  {'qh': 0.2, 'ql': 0.4},\n",
       "  {'qh': 0.4, 'ql': 0.4},\n",
       "  {'qh': 0.6, 'ql': 0.4},\n",
       "  {'qh': 0.8, 'ql': 0.4},\n",
       "  {'qh': 1.0, 'ql': 0.4},\n",
       "  {'qh': 0.2, 'ql': 0.6},\n",
       "  {'qh': 0.4, 'ql': 0.6},\n",
       "  {'qh': 0.6, 'ql': 0.6},\n",
       "  {'qh': 0.8, 'ql': 0.6},\n",
       "  {'qh': 1.0, 'ql': 0.6},\n",
       "  {'qh': 0.2, 'ql': 0.8},\n",
       "  {'qh': 0.4, 'ql': 0.8},\n",
       "  {'qh': 0.6, 'ql': 0.8},\n",
       "  {'qh': 0.8, 'ql': 0.8},\n",
       "  {'qh': 1.0, 'ql': 0.8}],\n",
       " 'mean_autocorrelation': None,\n",
       " 'mean_change': None,\n",
       " 'mean_second_derivate_central': None,\n",
       " 'median': None,\n",
       " 'minimum': None,\n",
       " 'number_cwt_peaks': [{'n': 1}, {'n': 5}],\n",
       " 'number_peaks': [{'n': 1}, {'n': 3}, {'n': 5}],\n",
       " 'percentage_of_reoccurring_datapoints_to_all_datapoints': None,\n",
       " 'percentage_of_reoccurring_values_to_all_values': None,\n",
       " 'quantile': [{'q': 0.1},\n",
       "  {'q': 0.2},\n",
       "  {'q': 0.3},\n",
       "  {'q': 0.4},\n",
       "  {'q': 0.6},\n",
       "  {'q': 0.7},\n",
       "  {'q': 0.8},\n",
       "  {'q': 0.9}],\n",
       " 'range_count': [{'max': 1, 'min': -1}],\n",
       " 'ratio_value_number_to_time_series_length': None,\n",
       " 'skewness': None,\n",
       " 'spkt_welch_density': [{'coeff': 2}, {'coeff': 5}, {'coeff': 8}],\n",
       " 'standard_deviation': None,\n",
       " 'sum_of_reoccurring_data_points': None,\n",
       " 'sum_of_reoccurring_values': None,\n",
       " 'sum_values': None,\n",
       " 'symmetry_looking': [{'r': 0.0},\n",
       "  {'r': 0.05},\n",
       "  {'r': 0.1},\n",
       "  {'r': 0.15000000000000002},\n",
       "  {'r': 0.2},\n",
       "  {'r': 0.25},\n",
       "  {'r': 0.30000000000000004},\n",
       "  {'r': 0.35000000000000003},\n",
       "  {'r': 0.4},\n",
       "  {'r': 0.45},\n",
       "  {'r': 0.5},\n",
       "  {'r': 0.55},\n",
       "  {'r': 0.6000000000000001},\n",
       "  {'r': 0.65},\n",
       "  {'r': 0.7000000000000001},\n",
       "  {'r': 0.75},\n",
       "  {'r': 0.8},\n",
       "  {'r': 0.8500000000000001},\n",
       "  {'r': 0.9},\n",
       "  {'r': 0.9500000000000001}],\n",
       " 'time_reversal_asymmetry_statistic': [{'lag': 1}, {'lag': 2}, {'lag': 3}],\n",
       " 'value_count': [{'value': 0},\n",
       "  {'value': 1},\n",
       "  {'value': nan},\n",
       "  {'value': inf},\n",
       "  {'value': -inf}],\n",
       " 'variance': None,\n",
       " 'variance_larger_than_standard_deviation': None}"
      ]
     },
     "execution_count": 78,
     "metadata": {},
     "output_type": "execute_result"
    }
   ],
   "source": [
    "EfficientFCParameters()"
   ]
  },
  {
   "cell_type": "code",
   "execution_count": 59,
   "metadata": {
    "ExecuteTime": {
     "end_time": "2017-11-08T11:54:40.987683Z",
     "start_time": "2017-11-08T11:54:40.981705Z"
    },
    "collapsed": true
   },
   "outputs": [],
   "source": [
    "def tsf_features_for_single_window(signal_as_list, dimension_name='x', tsf_features=MinimalFCParameters()):\n",
    "    signal = [signal_as_list]\n",
    "    signal_for_tsf = ts_fresh.convert_signals_for_ts_fresh(signal, dimension_name=dimension_name)\n",
    "    features = extract_features(signal_for_tsf, default_fc_parameters=tsf_features,\n",
    "                                        column_id=\"signal_id\", column_sort=\"time\")\n",
    "    feat = features.iloc[0]\n",
    "    flt_feat = [float(i) for i in feat]\n",
    "    return flt_feat"
   ]
  },
  {
   "cell_type": "code",
   "execution_count": 60,
   "metadata": {
    "ExecuteTime": {
     "end_time": "2017-11-08T11:54:41.256435Z",
     "start_time": "2017-11-08T11:54:41.217425Z"
    },
    "collapsed": true
   },
   "outputs": [],
   "source": [
    "x = df_sample.take(1)[0][1]"
   ]
  },
  {
   "cell_type": "code",
   "execution_count": 61,
   "metadata": {
    "ExecuteTime": {
     "end_time": "2017-11-08T11:54:43.602368Z",
     "start_time": "2017-11-08T11:54:41.439311Z"
    }
   },
   "outputs": [
    {
     "name": "stderr",
     "output_type": "stream",
     "text": [
      "Feature Extraction: 100%|████████████████████████████████████████████████████████████████| 1/1 [00:01<00:00,  1.97s/it]\n"
     ]
    }
   ],
   "source": [
    "feat = tsf_features_for_single_window(x)"
   ]
  },
  {
   "cell_type": "code",
   "execution_count": 62,
   "metadata": {
    "ExecuteTime": {
     "end_time": "2017-11-08T11:54:56.680654Z",
     "start_time": "2017-11-08T11:54:56.663654Z"
    }
   },
   "outputs": [
    {
     "name": "stdout",
     "output_type": "stream",
     "text": [
      "<class 'float'>\n",
      "<class 'float'>\n",
      "<class 'float'>\n",
      "<class 'float'>\n",
      "<class 'float'>\n",
      "<class 'float'>\n",
      "<class 'float'>\n",
      "<class 'float'>\n"
     ]
    }
   ],
   "source": [
    "for f in feat:\n",
    "#     ff = float(f)\n",
    "    print(type(f))"
   ]
  },
  {
   "cell_type": "code",
   "execution_count": 63,
   "metadata": {
    "ExecuteTime": {
     "end_time": "2017-11-08T11:55:09.744903Z",
     "start_time": "2017-11-08T11:55:09.737903Z"
    },
    "collapsed": true
   },
   "outputs": [],
   "source": [
    "schema = StructType([\n",
    "    StructField(\"F1\", FloatType(), False),\n",
    "    StructField(\"F2\", FloatType(), False),\n",
    "    StructField(\"F3\", FloatType(), False),\n",
    "    StructField(\"F4\", FloatType(), False),\n",
    "    StructField(\"F5\", FloatType(), False),\n",
    "    StructField(\"F6\", FloatType(), False),\n",
    "    StructField(\"F7\", FloatType(), False),\n",
    "    StructField(\"F8\", FloatType(), False)\n",
    "])\n",
    "\n",
    "tsf_features_for_single_window_udf = udf(tsf_features_for_single_window, schema)"
   ]
  },
  {
   "cell_type": "code",
   "execution_count": 64,
   "metadata": {
    "ExecuteTime": {
     "end_time": "2017-11-08T11:55:12.605662Z",
     "start_time": "2017-11-08T11:55:12.577661Z"
    },
    "collapsed": true
   },
   "outputs": [],
   "source": [
    "data_frame_new = df_sample.withColumn('x_features', tsf_features_for_single_window_udf('X'))"
   ]
  },
  {
   "cell_type": "code",
   "execution_count": 65,
   "metadata": {
    "ExecuteTime": {
     "end_time": "2017-11-08T11:55:38.804443Z",
     "start_time": "2017-11-08T11:55:14.216295Z"
    }
   },
   "outputs": [
    {
     "name": "stdout",
     "output_type": "stream",
     "text": [
      "+--------------------+--------------------+--------------------+--------------------+--------------------+\n",
      "|                 key|                   X|                   Y|                   Z|          x_features|\n",
      "+--------------------+--------------------+--------------------+--------------------+--------------------+\n",
      "|[4.8335001E7,2.0,...|[-0.1336321979761...|[0.44264653325080...|[0.87043887376785...|[-23.021496,-0.09...|\n",
      "|[6.2129201E7,0.0,...|[-0.8657528162002...|[0.41265270113945...|[-0.0724230185151...|[-216.77802,-0.83...|\n",
      "|[6.213751E7,0.0,0...|[-0.0735217779874...|[0.80493259429931...|[0.57482403516769...|[-20.981024,-0.08...|\n",
      "+--------------------+--------------------+--------------------+--------------------+--------------------+\n",
      "only showing top 3 rows\n",
      "\n"
     ]
    }
   ],
   "source": [
    "data_frame_new.show(3)"
   ]
  },
  {
   "cell_type": "code",
   "execution_count": 75,
   "metadata": {
    "ExecuteTime": {
     "end_time": "2017-11-08T13:31:36.051985Z",
     "start_time": "2017-11-08T13:31:35.945002Z"
    }
   },
   "outputs": [
    {
     "name": "stdout",
     "output_type": "stream",
     "text": [
      "+-----------+------+-----+----------+--------------------+\n",
      "|        key|tremor|brady|dyskinesia|          x_features|\n",
      "+-----------+------+-----+----------+--------------------+\n",
      "|4.8335001E7|   2.0|  1.0|       0.0|[-23.021496,-0.09...|\n",
      "|6.2129201E7|   0.0|  1.0|       0.0|[-216.77802,-0.83...|\n",
      "| 6.213751E7|   0.0|  0.0|       0.0|[-20.981024,-0.08...|\n",
      "|6.9924382E7|   0.0|  1.0|       0.0|[81.5845,0.347206...|\n",
      "|6.9928378E7|   2.0|  1.0|       0.0|[-89.13931,-0.237...|\n",
      "+-----------+------+-----+----------+--------------------+\n",
      "only showing top 5 rows\n",
      "\n"
     ]
    }
   ],
   "source": [
    "data_frame_new.select('key.*','x_features').withColumnRenamed('_1', 'key')\\\n",
    "                                           .withColumnRenamed('_2', 'tremor')\\\n",
    "                                           .withColumnRenamed('_3', 'brady')\\\n",
    "                                           .withColumnRenamed('_4', 'dyskinesia').show(5)"
   ]
  },
  {
   "cell_type": "code",
   "execution_count": null,
   "metadata": {
    "collapsed": true
   },
   "outputs": [],
   "source": []
  },
  {
   "cell_type": "code",
   "execution_count": 68,
   "metadata": {
    "ExecuteTime": {
     "end_time": "2017-11-08T12:02:21.615019Z",
     "start_time": "2017-11-08T12:02:21.579030Z"
    }
   },
   "outputs": [
    {
     "data": {
      "text/plain": [
       "DataFrame[key: struct<_1:double,_2:double,_3:double,_4:double>, X: array<double>, Y: array<double>, Z: array<double>, x_features: struct<F1:float,F2:float,F3:float,F4:float,F5:float,F6:float,F7:float,F8:float>]"
      ]
     },
     "execution_count": 68,
     "metadata": {},
     "output_type": "execute_result"
    }
   ],
   "source": [
    "data_frame_new.cache()"
   ]
  },
  {
   "cell_type": "code",
   "execution_count": null,
   "metadata": {
    "ExecuteTime": {
     "end_time": "2017-11-08T08:41:23.579448Z",
     "start_time": "2017-11-08T08:41:21.412110Z"
    },
    "collapsed": true
   },
   "outputs": [],
   "source": [
    "feat = tsf_features_for_single_window(x_signal, dimension_name, tsf_features)"
   ]
  },
  {
   "cell_type": "code",
   "execution_count": null,
   "metadata": {
    "collapsed": true
   },
   "outputs": [],
   "source": []
  },
  {
   "cell_type": "code",
   "execution_count": null,
   "metadata": {
    "collapsed": true
   },
   "outputs": [],
   "source": [
    "assembler = VectorAssembler(inputCols=names, outputCol=\"features\")\n",
    "df = assembler.transform(df)\n",
    "df = df.select([c for c in df.columns if c not in feature_cols])\n",
    "\n",
    "\n",
    "# Index labels, adding metadata to the label column.\n",
    "# Fit on whole dataset to include all labels in index.\n",
    "labelIndexer = StringIndexer(inputCol=\"tremor\", outputCol=\"indexedLabel\").fit(df)\n",
    "\n",
    "# Automatically identify categorical features, and index them.\n",
    "# Set maxCategories so features with > 4 distinct values are treated as continuous.\n",
    "featureIndexer =VectorIndexer(inputCol=\"features\", outputCol=\"indexedFeatures\", maxCategories=2).fit(df)\n",
    "\n",
    "# Split the data into training and test sets (30% held out for testing)\n",
    "(trainingData, testData) = df.randomSplit([0.7, 0.3])\n",
    "\n",
    "# Train a RandomForest model.\n",
    "rf = RandomForestClassifier(labelCol=\"indexedLabel\", featuresCol=\"features\", numTrees=10)\n",
    "\n",
    "# Convert indexed labels back to original labels.\n",
    "labelConverter = IndexToString(inputCol=\"prediction\", outputCol=\"predictedLabel\", labels=labelIndexer.labels)\n",
    "\n",
    "# Chain indexers and forest in a Pipeline\n",
    "pipeline = Pipeline(stages=[labelIndexer, rf, labelConverter])\n",
    "\n",
    "# Train model.  This also runs the indexers.\n",
    "model = pipeline.fit(trainingData)\n",
    "\n",
    "# Make predictions.\n",
    "predictions = model.transform(testData)\n",
    "\n",
    "# Select example rows to display.\n",
    "predictions.select(\"predictedLabel\", \"tremor\", \"features\").show(5)\n",
    "\n",
    "# Select (prediction, true label) and compute test error\n",
    "evaluator = MulticlassClassificationEvaluator(labelCol=\"indexedLabel\", predictionCol=\"prediction\",\n",
    "                                              metricName=\"accuracy\")\n",
    "accuracy = evaluator.evaluate(predictions)\n",
    "print(\"Test Error = %g\" % (1.0 - accuracy))\n",
    "\n",
    "rfModel = model.stages[2]\n",
    "print(rfModel)  # summary only\n",
    "# $example off$\n",
    "\n",
    "spark.stop()"
   ]
  }
 ],
 "metadata": {
  "kernelspec": {
   "display_name": "Python 3",
   "language": "python",
   "name": "python3"
  },
  "language_info": {
   "codemirror_mode": {
    "name": "ipython",
    "version": 3
   },
   "file_extension": ".py",
   "mimetype": "text/x-python",
   "name": "python",
   "nbconvert_exporter": "python",
   "pygments_lexer": "ipython3",
   "version": "3.6.1"
  },
  "toc": {
   "colors": {
    "hover_highlight": "#DAA520",
    "navigate_num": "#000000",
    "navigate_text": "#333333",
    "running_highlight": "#FF0000",
    "selected_highlight": "#FFD700",
    "sidebar_border": "#EEEEEE",
    "wrapper_background": "#FFFFFF"
   },
   "moveMenuLeft": true,
   "nav_menu": {
    "height": "12px",
    "width": "252px"
   },
   "navigate_menu": true,
   "number_sections": true,
   "sideBar": true,
   "threshold": 4,
   "toc_cell": true,
   "toc_section_display": "block",
   "toc_window_display": false,
   "widenNotebook": false
  }
 },
 "nbformat": 4,
 "nbformat_minor": 2
}
