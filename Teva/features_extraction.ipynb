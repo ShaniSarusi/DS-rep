{
 "cells": [
  {
   "cell_type": "markdown",
   "metadata": {
    "toc": "true"
   },
   "source": [
    "# Table of Contents\n",
    " <p><div class=\"lev1 toc-item\"><a href=\"#Imports:\" data-toc-modified-id=\"Imports:-1\"><span class=\"toc-item-num\">1&nbsp;&nbsp;</span>Imports:</a></div><div class=\"lev1 toc-item\"><a href=\"#Set-some-important-variables-+-working-environment:\" data-toc-modified-id=\"Set-some-important-variables-+-working-environment:-2\"><span class=\"toc-item-num\">2&nbsp;&nbsp;</span>Set some important variables + working environment:</a></div><div class=\"lev1 toc-item\"><a href=\"#Read-raw-data:\" data-toc-modified-id=\"Read-raw-data:-3\"><span class=\"toc-item-num\">3&nbsp;&nbsp;</span>Read raw data:</a></div><div class=\"lev1 toc-item\"><a href=\"#Data-preparation:\" data-toc-modified-id=\"Data-preparation:-4\"><span class=\"toc-item-num\">4&nbsp;&nbsp;</span>Data preparation:</a></div><div class=\"lev2 toc-item\"><a href=\"#Convert-watch-accelerometer-to-phone-units-(m/sec^2):\" data-toc-modified-id=\"Convert-watch-accelerometer-to-phone-units-(m/sec^2):-41\"><span class=\"toc-item-num\">4.1&nbsp;&nbsp;</span>Convert watch accelerometer to phone units ($m/sec^2$):</a></div><div class=\"lev2 toc-item\"><a href=\"#Trim-steps'-transition-data:\" data-toc-modified-id=\"Trim-steps'-transition-data:-42\"><span class=\"toc-item-num\">4.2&nbsp;&nbsp;</span>Trim steps' transition data:</a></div><div class=\"lev2 toc-item\"><a href=\"#For-each-sample,-add-(1)-accelerometer-norm-and-(2)-step's-norm-STD:\" data-toc-modified-id=\"For-each-sample,-add-(1)-accelerometer-norm-and-(2)-step's-norm-STD:-43\"><span class=\"toc-item-num\">4.3&nbsp;&nbsp;</span>For each sample, add (1) accelerometer norm and (2) step's norm STD:</a></div><div class=\"lev1 toc-item\"><a href=\"#Some-initial-data-exploration:\" data-toc-modified-id=\"Some-initial-data-exploration:-5\"><span class=\"toc-item-num\">5&nbsp;&nbsp;</span>Some initial data exploration:</a></div><div class=\"lev2 toc-item\"><a href=\"#Check-which-users-appear-in-which-datasets:\" data-toc-modified-id=\"Check-which-users-appear-in-which-datasets:-51\"><span class=\"toc-item-num\">5.1&nbsp;&nbsp;</span>Check which users appear in which datasets:</a></div><div class=\"lev2 toc-item\"><a href=\"#Present-reports-from-the-lab,-per-assessment:\" data-toc-modified-id=\"Present-reports-from-the-lab,-per-assessment:-52\"><span class=\"toc-item-num\">5.2&nbsp;&nbsp;</span>Present reports from the lab, per assessment:</a></div><div class=\"lev3 toc-item\"><a href=\"#Inspect-the-per-patient-distribution-of-the-accelerometer-norm,-for-step-&quot;Sit-relaxed&quot;:\" data-toc-modified-id=\"Inspect-the-per-patient-distribution-of-the-accelerometer-norm,-for-step-&quot;Sit-relaxed&quot;:-521\"><span class=\"toc-item-num\">5.2.1&nbsp;&nbsp;</span>Inspect the per patient distribution of the accelerometer norm, for step \"Sit relaxed\":</a></div><div class=\"lev3 toc-item\"><a href=\"#And-for-the-entire-data-(without-specifying-a-step):\" data-toc-modified-id=\"And-for-the-entire-data-(without-specifying-a-step):-522\"><span class=\"toc-item-num\">5.2.2&nbsp;&nbsp;</span>And for the entire data (without specifying a step):</a></div><div class=\"lev3 toc-item\"><a href=\"#Inspect-the-per-patient-distribution-of-the-(per-step)-accelerometer-mean,-over-time,-for-step-&quot;Sit-relaxed&quot;:\" data-toc-modified-id=\"Inspect-the-per-patient-distribution-of-the-(per-step)-accelerometer-mean,-over-time,-for-step-&quot;Sit-relaxed&quot;:-523\"><span class=\"toc-item-num\">5.2.3&nbsp;&nbsp;</span>Inspect the per patient distribution of the (per-step) accelerometer mean, over time, for step \"Sit relaxed\":</a></div><div class=\"lev2 toc-item\"><a href=\"#Explore-activity-level-for-static-steps:\" data-toc-modified-id=\"Explore-activity-level-for-static-steps:-53\"><span class=\"toc-item-num\">5.3&nbsp;&nbsp;</span>Explore activity level for static steps:</a></div><div class=\"lev2 toc-item\"><a href=\"#Show-box-plots-for-per-assessment-activity-level-vs.-reported-chorea:\" data-toc-modified-id=\"Show-box-plots-for-per-assessment-activity-level-vs.-reported-chorea:-54\"><span class=\"toc-item-num\">5.4&nbsp;&nbsp;</span>Show box-plots for per-assessment activity level vs. reported chorea:</a></div><div class=\"lev1 toc-item\"><a href=\"#Raw-accelerometer-data-analysis:\" data-toc-modified-id=\"Raw-accelerometer-data-analysis:-6\"><span class=\"toc-item-num\">6&nbsp;&nbsp;</span>Raw accelerometer data analysis:</a></div><div class=\"lev2 toc-item\"><a href=\"#Clinic-Raw-Data-Exploration:\" data-toc-modified-id=\"Clinic-Raw-Data-Exploration:-61\"><span class=\"toc-item-num\">6.1&nbsp;&nbsp;</span>Clinic Raw Data Exploration:</a></div><div class=\"lev2 toc-item\"><a href=\"#Home-Raw-Data-Exploration:\" data-toc-modified-id=\"Home-Raw-Data-Exploration:-62\"><span class=\"toc-item-num\">6.2&nbsp;&nbsp;</span>Home Raw Data Exploration:</a></div><div class=\"lev2 toc-item\"><a href=\"#Drill-downs:\" data-toc-modified-id=\"Drill-downs:-63\"><span class=\"toc-item-num\">6.3&nbsp;&nbsp;</span>Drill-downs:</a></div>"
   ]
  },
  {
   "cell_type": "markdown",
   "metadata": {},
   "source": [
    "# Imports:"
   ]
  },
  {
   "cell_type": "code",
   "execution_count": 1,
   "metadata": {
    "ExecuteTime": {
     "end_time": "2017-10-26T12:19:04.302585Z",
     "start_time": "2017-10-26T12:18:58.946754Z"
    },
    "collapsed": true
   },
   "outputs": [],
   "source": [
    "import os\n",
    "os.chdir('C:\\\\Users\\\\imazeh\\\\Itzik\\\\Health_prof\\\\git_team\\\\DataScientists')\n",
    "from Utils.Visualization import box_plot\n",
    "import pandas as pd\n",
    "import numpy as np\n",
    "import scipy.stats as stats\n",
    "from scipy.stats.stats import pearsonr, ttest_ind\n",
    "from os.path import join, sep\n",
    "import Teva.config as c\n",
    "import matplotlib.pyplot as plt\n",
    "from matplotlib.ticker import MaxNLocator\n",
    "%matplotlib inline"
   ]
  },
  {
   "cell_type": "markdown",
   "metadata": {},
   "source": [
    "# Set some important variables + working environment:"
   ]
  },
  {
   "cell_type": "code",
   "execution_count": 2,
   "metadata": {
    "ExecuteTime": {
     "end_time": "2017-10-26T12:19:07.520923Z",
     "start_time": "2017-10-26T12:19:07.513922Z"
    },
    "collapsed": true
   },
   "outputs": [],
   "source": [
    "valid_users = c.valid_users\n",
    "watch_acc_base = c.watch_acc_baseline\n",
    "phone_acc_base = c.phone_acc_baseline\n",
    "statistics = ['median', 'mean', np.std]\n",
    "min_val = c.report_values[0]\n",
    "max_val = c.report_values[-1]\n",
    "\n",
    "static_steps_clinic = ['Sit extended', 'Sit relaxed', 'Stand']\n",
    "static_steps_home = ['Sit relaxed', 'Stand']"
   ]
  },
  {
   "cell_type": "code",
   "execution_count": 3,
   "metadata": {
    "ExecuteTime": {
     "end_time": "2017-10-26T12:19:09.241050Z",
     "start_time": "2017-10-26T12:19:09.235033Z"
    },
    "collapsed": true
   },
   "outputs": [],
   "source": [
    "trim_dict = {'TUaG': {'start':2, 'end':2},\n",
    "             'Sit relaxed': {'start':2, 'end':0},\n",
    "             'Sit extended': {'start':2, 'end':0},\n",
    "             'Stand': {'start':2, 'end':0},\n",
    "             'Walk': {'start':2, 'end':2},\n",
    "             'Drink': {'start':2, 'end':2},\n",
    "             'Rotate hands': {'start':2, 'end':0}\n",
    "            }"
   ]
  },
  {
   "cell_type": "code",
   "execution_count": 4,
   "metadata": {
    "ExecuteTime": {
     "end_time": "2017-10-26T12:19:10.774941Z",
     "start_time": "2017-10-26T12:19:10.771939Z"
    },
    "collapsed": true
   },
   "outputs": [],
   "source": [
    "cloud = False\n",
    "if cloud:\n",
    "    data_path = c.cloud_data_path\n",
    "else:\n",
    "    data_path = c.data_path"
   ]
  },
  {
   "cell_type": "markdown",
   "metadata": {},
   "source": [
    "# Read raw data:"
   ]
  },
  {
   "cell_type": "code",
   "execution_count": 5,
   "metadata": {
    "ExecuteTime": {
     "end_time": "2017-10-26T12:19:21.719334Z",
     "start_time": "2017-10-26T12:19:19.548964Z"
    },
    "collapsed": true,
    "scrolled": true
   },
   "outputs": [],
   "source": [
    "# clinic_assessments_watch_acc_df = pd.read_pickle(c.clinic_assessments_watch_acc_pkl_file_path)\n",
    "# clinic_assessments_watch_acc_df.name = 'clinic_assessments_watch_acc'\n",
    "\n",
    "clinic_steps_watch_acc_df = pd.read_pickle(c.clinic_steps_watch_acc_pkl_file_path)\n",
    "clinic_steps_watch_acc_df.name = 'clinic_steps_watch_acc'\n",
    "\n",
    "# home_assessments_watch_acc_df = pd.read_pickle(c.home_assessments_watch_acc_pkl_file_path)\n",
    "# home_assessments_watch_acc_df.name = 'home_assessments_watch_acc'\n",
    "\n",
    "home_steps_watch_acc_df = pd.read_pickle(c.home_steps_watch_acc_pkl_file_path)\n",
    "home_steps_watch_acc_df.name = 'home_steps_watch_acc'\n",
    "\n",
    "# home_reminders_watch_acc_df = pd.read_pickle(c.home_reminders_watch_acc_pkl_file_path)\n",
    "# home_reminders_watch_acc_df.name = 'home_reminders_watch_acc'\n",
    "\n",
    "clinic_steps_phone_acc_df = pd.read_pickle(c.clinic_steps_phone_acc_pkl_file_path)\n",
    "clinic_steps_phone_acc_df.name = 'clinic_steps_phone_acc'\n",
    "\n",
    "home_steps_phone_acc_df = pd.read_pickle(c.home_steps_phone_acc_pkl_file_path)\n",
    "home_steps_phone_acc_df.name = 'home_steps_phone_acc'"
   ]
  },
  {
   "cell_type": "markdown",
   "metadata": {},
   "source": [
    "# Data preparation:"
   ]
  },
  {
   "cell_type": "markdown",
   "metadata": {},
   "source": [
    "## Convert watch accelerometer to phone units ($m/sec^2$):"
   ]
  },
  {
   "cell_type": "code",
   "execution_count": 6,
   "metadata": {
    "ExecuteTime": {
     "end_time": "2017-10-26T12:19:22.087406Z",
     "start_time": "2017-10-26T12:19:22.082406Z"
    },
    "collapsed": true
   },
   "outputs": [],
   "source": [
    "def convert_mili_g_to_msc2(df, cols_to_convert=['x', 'y', 'z']):\n",
    "    conversion_factor = c.phone_acc_baseline/float(1000)\n",
    "    for col in cols_to_convert:\n",
    "        df[col] = df[col]*conversion_factor\n",
    "    return df"
   ]
  },
  {
   "cell_type": "code",
   "execution_count": 7,
   "metadata": {
    "ExecuteTime": {
     "end_time": "2017-10-26T12:19:23.036517Z",
     "start_time": "2017-10-26T12:19:22.937521Z"
    },
    "collapsed": true
   },
   "outputs": [],
   "source": [
    "clinic_steps_watch_acc_df = convert_mili_g_to_msc2(clinic_steps_watch_acc_df)\n",
    "home_steps_watch_acc_df = convert_mili_g_to_msc2(home_steps_watch_acc_df)\n",
    "# home_reminders_watch_acc_df = convert_mili_g_to_msc2(home_reminders_watch_acc_df)"
   ]
  },
  {
   "cell_type": "markdown",
   "metadata": {},
   "source": [
    "## Trim steps' transition data:"
   ]
  },
  {
   "cell_type": "code",
   "execution_count": 8,
   "metadata": {
    "ExecuteTime": {
     "end_time": "2017-10-26T12:19:24.326008Z",
     "start_time": "2017-10-26T12:19:24.315008Z"
    },
    "collapsed": true
   },
   "outputs": [],
   "source": [
    "def trim_assessment_per_step(assess_df, trim_dict, samples_freq=50):\n",
    "    sorted_assess_df = assess_df.sort_values(by='timestamp', ascending=True)\n",
    "    steps_list = assess_df['step_name'].unique()\n",
    "    trimmed_df = pd.DataFrame()\n",
    "    for step in steps_list:\n",
    "        step_df = sorted_assess_df[sorted_assess_df['step_name']==step]\n",
    "        trim_start_sec = trim_dict[step]['start']\n",
    "        trim_start_samp = trim_start_sec*samples_freq\n",
    "        trim_end_sec = trim_dict[step]['end']\n",
    "        if trim_end_sec != 0:\n",
    "            trim_end_samp = -(trim_end_sec*samples_freq)\n",
    "        else:\n",
    "            trim_end_samp = step_df.shape[0]\n",
    "        trimmed_step = step_df.iloc[trim_start_samp:trim_end_samp]\n",
    "        trimmed_df = pd.concat([trimmed_df, trimmed_step])\n",
    "    return trimmed_df"
   ]
  },
  {
   "cell_type": "code",
   "execution_count": 9,
   "metadata": {
    "ExecuteTime": {
     "end_time": "2017-10-26T12:19:26.483556Z",
     "start_time": "2017-10-26T12:19:26.475592Z"
    },
    "collapsed": true
   },
   "outputs": [],
   "source": [
    "def trim_entire_df_per_step(df, trim_dict, samsamples_freq=50):\n",
    "    sorted_df = df.sort_values(by='timestamp', ascending=True)\n",
    "    assessments_list = df['assessment_id'].unique()\n",
    "    trimmed_entire_df = pd.DataFrame()\n",
    "    for assess in assessments_list:\n",
    "        assess_df = sorted_df[sorted_df['assessment_id']==assess]\n",
    "        trimmed_assess = trim_assessment_per_step(assess_df, trim_dict)\n",
    "        trimmed_entire_df = pd.concat([trimmed_entire_df, trimmed_assess])\n",
    "    return trimmed_entire_df"
   ]
  },
  {
   "cell_type": "code",
   "execution_count": 10,
   "metadata": {
    "ExecuteTime": {
     "end_time": "2017-10-26T12:21:06.379819Z",
     "start_time": "2017-10-26T12:19:26.835042Z"
    },
    "collapsed": true
   },
   "outputs": [],
   "source": [
    "trimmed_clinic_steps_watch_acc = trim_entire_df_per_step(clinic_steps_watch_acc_df, trim_dict)\n",
    "trimmed_clinic_steps_watch_acc.name = 'trimmed_clinic_steps_watch_acc'\n",
    "\n",
    "trimmed_clinic_steps_phone_acc = trim_entire_df_per_step(clinic_steps_phone_acc_df, trim_dict)\n",
    "trimmed_clinic_steps_phone_acc.name = 'trimmed_clinic_steps_phone_acc'\n",
    "\n",
    "trimmed_home_steps_watch_acc = trim_entire_df_per_step(home_steps_watch_acc_df, trim_dict)\n",
    "trimmed_home_steps_watch_acc.name = 'trimmed_home_steps_watch_acc'\n",
    "\n",
    "trimmed_home_steps_phone_acc = trim_entire_df_per_step(home_steps_phone_acc_df, trim_dict)\n",
    "trimmed_home_steps_phone_acc.name = 'trimmed_home_steps_phone_acc'"
   ]
  },
  {
   "cell_type": "markdown",
   "metadata": {},
   "source": [
    "## For each sample, add (1) accelerometer norm and (2) step's norm STD:"
   ]
  },
  {
   "cell_type": "code",
   "execution_count": 11,
   "metadata": {
    "ExecuteTime": {
     "end_time": "2017-10-26T12:21:06.394820Z",
     "start_time": "2017-10-26T12:21:06.380819Z"
    },
    "collapsed": true
   },
   "outputs": [],
   "source": [
    "def enrich_accelerometer_raw_data(df, global_device_baseline):\n",
    "    # Add the accelerometer's norm:\n",
    "    df['acc_norm'] = np.sqrt(df['x']**2 + df['y']**2 + df['z']**2)\n",
    "    # Calculate the accelerometer norm's standard deviation for each step:\n",
    "    step_norm_std = df[['assessment_id', 'step_name', 'acc_norm']].groupby(['assessment_id', 'step_name'],\n",
    "                                                                           as_index=False).agg(np.std, ddof=0)\n",
    "    df_with_norm_std = df.merge(right=step_norm_std,\n",
    "                                how='inner',\n",
    "                                on=['assessment_id', 'step_name'],\n",
    "                                suffixes=['', '_step_std'])\n",
    "    return df_with_norm_std"
   ]
  },
  {
   "cell_type": "code",
   "execution_count": 12,
   "metadata": {
    "ExecuteTime": {
     "end_time": "2017-10-26T12:21:09.974700Z",
     "start_time": "2017-10-26T12:21:06.396819Z"
    },
    "collapsed": true
   },
   "outputs": [],
   "source": [
    "clinic_watch_acc_with_deltas = enrich_accelerometer_raw_data(trimmed_clinic_steps_watch_acc, watch_acc_base)\n",
    "clinic_phone_acc_with_deltas = enrich_accelerometer_raw_data(trimmed_clinic_steps_phone_acc, phone_acc_base)\n",
    "home_watch_acc_with_deltas = enrich_accelerometer_raw_data(trimmed_home_steps_watch_acc, watch_acc_base)\n",
    "home_phone_acc_with_deltas = enrich_accelerometer_raw_data(trimmed_home_steps_phone_acc, phone_acc_base)"
   ]
  },
  {
   "cell_type": "code",
   "execution_count": 13,
   "metadata": {
    "ExecuteTime": {
     "end_time": "2017-10-26T12:22:42.416538Z",
     "start_time": "2017-10-26T12:22:42.395536Z"
    }
   },
   "outputs": [
    {
     "data": {
      "text/html": [
       "<div>\n",
       "<style>\n",
       "    .dataframe thead tr:only-child th {\n",
       "        text-align: right;\n",
       "    }\n",
       "\n",
       "    .dataframe thead th {\n",
       "        text-align: left;\n",
       "    }\n",
       "\n",
       "    .dataframe tbody tr th {\n",
       "        vertical-align: top;\n",
       "    }\n",
       "</style>\n",
       "<table border=\"1\" class=\"dataframe\">\n",
       "  <thead>\n",
       "    <tr style=\"text-align: right;\">\n",
       "      <th></th>\n",
       "      <th>user_id</th>\n",
       "      <th>assessment_id</th>\n",
       "      <th>assessment_start</th>\n",
       "      <th>assessment_end</th>\n",
       "      <th>timestamp</th>\n",
       "      <th>step_name</th>\n",
       "      <th>x</th>\n",
       "      <th>y</th>\n",
       "      <th>z</th>\n",
       "      <th>patient_report_value</th>\n",
       "      <th>clinician_report_value</th>\n",
       "      <th>acc_norm</th>\n",
       "      <th>acc_norm_step_std</th>\n",
       "    </tr>\n",
       "  </thead>\n",
       "  <tbody>\n",
       "    <tr>\n",
       "      <th>0</th>\n",
       "      <td>82</td>\n",
       "      <td>1489765988342</td>\n",
       "      <td>2017-03-17 15:43:54.743</td>\n",
       "      <td>2017-03-17 15:53:08.333</td>\n",
       "      <td>2017-03-17 15:44:12.043</td>\n",
       "      <td>TUaG</td>\n",
       "      <td>-2.235916</td>\n",
       "      <td>2.579149</td>\n",
       "      <td>-8.855405</td>\n",
       "      <td>3.0</td>\n",
       "      <td>4.0</td>\n",
       "      <td>9.490497</td>\n",
       "      <td>2.28504</td>\n",
       "    </tr>\n",
       "    <tr>\n",
       "      <th>1</th>\n",
       "      <td>82</td>\n",
       "      <td>1489765988342</td>\n",
       "      <td>2017-03-17 15:43:54.743</td>\n",
       "      <td>2017-03-17 15:53:08.333</td>\n",
       "      <td>2017-03-17 15:44:12.063</td>\n",
       "      <td>TUaG</td>\n",
       "      <td>-2.745862</td>\n",
       "      <td>2.324176</td>\n",
       "      <td>-9.708583</td>\n",
       "      <td>3.0</td>\n",
       "      <td>4.0</td>\n",
       "      <td>10.353654</td>\n",
       "      <td>2.28504</td>\n",
       "    </tr>\n",
       "    <tr>\n",
       "      <th>2</th>\n",
       "      <td>82</td>\n",
       "      <td>1489765988342</td>\n",
       "      <td>2017-03-17 15:43:54.743</td>\n",
       "      <td>2017-03-17 15:53:08.333</td>\n",
       "      <td>2017-03-17 15:44:12.083</td>\n",
       "      <td>TUaG</td>\n",
       "      <td>-1.108151</td>\n",
       "      <td>-1.265058</td>\n",
       "      <td>-11.032481</td>\n",
       "      <td>3.0</td>\n",
       "      <td>4.0</td>\n",
       "      <td>11.159929</td>\n",
       "      <td>2.28504</td>\n",
       "    </tr>\n",
       "    <tr>\n",
       "      <th>3</th>\n",
       "      <td>82</td>\n",
       "      <td>1489765988342</td>\n",
       "      <td>2017-03-17 15:43:54.743</td>\n",
       "      <td>2017-03-17 15:53:08.333</td>\n",
       "      <td>2017-03-17 15:44:12.103</td>\n",
       "      <td>TUaG</td>\n",
       "      <td>-1.696550</td>\n",
       "      <td>-1.941717</td>\n",
       "      <td>-9.953750</td>\n",
       "      <td>3.0</td>\n",
       "      <td>4.0</td>\n",
       "      <td>10.282299</td>\n",
       "      <td>2.28504</td>\n",
       "    </tr>\n",
       "    <tr>\n",
       "      <th>4</th>\n",
       "      <td>82</td>\n",
       "      <td>1489765988342</td>\n",
       "      <td>2017-03-17 15:43:54.743</td>\n",
       "      <td>2017-03-17 15:53:08.333</td>\n",
       "      <td>2017-03-17 15:44:12.123</td>\n",
       "      <td>TUaG</td>\n",
       "      <td>-1.480804</td>\n",
       "      <td>0.196133</td>\n",
       "      <td>-9.208444</td>\n",
       "      <td>3.0</td>\n",
       "      <td>4.0</td>\n",
       "      <td>9.328810</td>\n",
       "      <td>2.28504</td>\n",
       "    </tr>\n",
       "  </tbody>\n",
       "</table>\n",
       "</div>"
      ],
      "text/plain": [
       "   user_id  assessment_id        assessment_start          assessment_end  \\\n",
       "0       82  1489765988342 2017-03-17 15:43:54.743 2017-03-17 15:53:08.333   \n",
       "1       82  1489765988342 2017-03-17 15:43:54.743 2017-03-17 15:53:08.333   \n",
       "2       82  1489765988342 2017-03-17 15:43:54.743 2017-03-17 15:53:08.333   \n",
       "3       82  1489765988342 2017-03-17 15:43:54.743 2017-03-17 15:53:08.333   \n",
       "4       82  1489765988342 2017-03-17 15:43:54.743 2017-03-17 15:53:08.333   \n",
       "\n",
       "                timestamp step_name         x         y          z  \\\n",
       "0 2017-03-17 15:44:12.043      TUaG -2.235916  2.579149  -8.855405   \n",
       "1 2017-03-17 15:44:12.063      TUaG -2.745862  2.324176  -9.708583   \n",
       "2 2017-03-17 15:44:12.083      TUaG -1.108151 -1.265058 -11.032481   \n",
       "3 2017-03-17 15:44:12.103      TUaG -1.696550 -1.941717  -9.953750   \n",
       "4 2017-03-17 15:44:12.123      TUaG -1.480804  0.196133  -9.208444   \n",
       "\n",
       "   patient_report_value  clinician_report_value   acc_norm  acc_norm_step_std  \n",
       "0                   3.0                     4.0   9.490497            2.28504  \n",
       "1                   3.0                     4.0  10.353654            2.28504  \n",
       "2                   3.0                     4.0  11.159929            2.28504  \n",
       "3                   3.0                     4.0  10.282299            2.28504  \n",
       "4                   3.0                     4.0   9.328810            2.28504  "
      ]
     },
     "execution_count": 13,
     "metadata": {},
     "output_type": "execute_result"
    }
   ],
   "source": [
    "clinic_watch_acc_with_deltas.head()"
   ]
  }
 ],
 "metadata": {
  "kernelspec": {
   "display_name": "Python 3",
   "language": "python",
   "name": "python3"
  },
  "language_info": {
   "codemirror_mode": {
    "name": "ipython",
    "version": 3
   },
   "file_extension": ".py",
   "mimetype": "text/x-python",
   "name": "python",
   "nbconvert_exporter": "python",
   "pygments_lexer": "ipython3",
   "version": "3.6.1"
  },
  "toc": {
   "colors": {
    "hover_highlight": "#DAA520",
    "navigate_num": "#000000",
    "navigate_text": "#333333",
    "running_highlight": "#FF0000",
    "selected_highlight": "#FFD700",
    "sidebar_border": "#EEEEEE",
    "wrapper_background": "#FFFFFF"
   },
   "moveMenuLeft": true,
   "nav_menu": {
    "height": "362px",
    "width": "252px"
   },
   "navigate_menu": true,
   "number_sections": true,
   "sideBar": false,
   "threshold": 4,
   "toc_cell": true,
   "toc_position": {
    "height": "389px",
    "left": "2px",
    "right": "20px",
    "top": "105px",
    "width": "489px"
   },
   "toc_section_display": "none",
   "toc_window_display": true,
   "widenNotebook": false
  }
 },
 "nbformat": 4,
 "nbformat_minor": 1
}
