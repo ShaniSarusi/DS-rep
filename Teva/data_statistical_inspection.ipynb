{
 "cells": [
  {
   "cell_type": "markdown",
   "metadata": {},
   "source": [
    "# Imports:"
   ]
  },
  {
   "cell_type": "code",
   "execution_count": 1,
   "metadata": {
    "collapsed": true
   },
   "outputs": [],
   "source": [
    "import pandas as pd\n",
    "import numpy as np\n",
    "from scipy.stats.stats import pearsonr, ttest_ind\n",
    "from os.path import join, sep\n",
    "import Config as c\n",
    "valid_users = c.valid_users\n",
    "import matplotlib.pyplot as plt\n",
    "from matplotlib.ticker import MaxNLocator\n",
    "%matplotlib inline"
   ]
  },
  {
   "cell_type": "markdown",
   "metadata": {},
   "source": [
    "# Set working environment:"
   ]
  },
  {
   "cell_type": "code",
   "execution_count": 2,
   "metadata": {
    "collapsed": true
   },
   "outputs": [],
   "source": [
    "cloud = False\n",
    "if cloud:\n",
    "    data_path = c.cloud_data_path\n",
    "else:\n",
    "    data_path = c.data_path"
   ]
  },
  {
   "cell_type": "markdown",
   "metadata": {},
   "source": [
    "# Read Data:"
   ]
  },
  {
   "cell_type": "code",
   "execution_count": 3,
   "metadata": {
    "collapsed": true
   },
   "outputs": [],
   "source": [
    "clinic_df = pd.read_pickle(join(data_path, 'clinic_processed_pickle.p'))\n",
    "clinic_df.name = 'clinic_df'\n",
    "\n",
    "clinic_steps_df = pd.read_pickle(join(data_path, 'clinic_steps_processed_pickle.p'))\n",
    "clinic_steps_df.name = 'clinic_df_with_steps'\n",
    "\n",
    "home_df = pd.read_pickle(join(data_path, 'home_processed_pickle.p'))\n",
    "home_df.name = 'home_df'\n",
    "\n",
    "home_steps_df = pd.read_pickle(join(data_path, 'home_steps_processed_pickle.p'))\n",
    "home_steps_df.name = 'home_df_with_steps'\n",
    "\n",
    "reminders_df = pd.read_pickle(join(c.data_path, 'reminder_five_minutes_processed_pickle.p'))\n",
    "reminders_df.name = 'reminders_df'"
   ]
  },
  {
   "cell_type": "code",
   "execution_count": 4,
   "metadata": {},
   "outputs": [
    {
     "name": "stdout",
     "output_type": "stream",
     "text": [
      "[8, 25, 45, 51, 57, 63, 74, 82, 94, 108]\n",
      "[8, 25, 45, 51, 57, 63, 74, 82, 94, 108]\n",
      "[8, 45, 51, 57, 63, 74, 82, 94, 108]\n",
      "[8, 25, 45, 51, 57, 63, 74, 82, 94, 108]\n",
      "[8, 25, 45, 51, 57, 63, 74, 82, 94, 108]\n"
     ]
    }
   ],
   "source": [
    "print(sorted(clinic_df.user_id.unique().astype(int).tolist()))\n",
    "print(sorted(home_df.user_id.unique().astype(int).tolist()))\n",
    "print(sorted(reminders_df.user_id.unique().astype(int).tolist()))\n",
    "print(sorted(clinic_steps_df.user_id.unique().astype(int).tolist()))\n",
    "print(sorted(home_steps_df.user_id.unique().astype(int).tolist()))"
   ]
  },
  {
   "cell_type": "markdown",
   "metadata": {},
   "source": [
    "# Set some important variables + define summary function:"
   ]
  },
  {
   "cell_type": "code",
   "execution_count": 5,
   "metadata": {
    "collapsed": true
   },
   "outputs": [],
   "source": [
    "clinic_patients_reports = clinic_df.patient_report_value\n",
    "clinic_clinicians_reports = clinic_df.clinician_report_value\n",
    "home_patients_reports = home_df.patient_report_value\n",
    "reminders_patients_reports = reminders_df.patient_report_value"
   ]
  },
  {
   "cell_type": "code",
   "execution_count": 6,
   "metadata": {
    "collapsed": true
   },
   "outputs": [],
   "source": [
    "statistics = ['median', 'mean', np.std]\n",
    "min_val = c.report_values[0]\n",
    "max_val = c.report_values[-1]"
   ]
  },
  {
   "cell_type": "code",
   "execution_count": 23,
   "metadata": {
    "collapsed": true
   },
   "outputs": [],
   "source": [
    "def plot_statistics_distribution(df, assessment_id, user_id, target_variable,\n",
    "                                 statistics, with_median = False,\n",
    "                                 min_val=min_val, max_val=max_val, bars_gap=0.5):\n",
    "    \n",
    "    # Show the number of assessments per user in the given dataset:\n",
    "    print('\\nNumber of assessments per user in this dataset:')\n",
    "    print(df[[user_id, assessment_id]].groupby(user_id)[assessment_id].nunique(), '\\n')\n",
    "    \n",
    "    # Aggregate (mean) the reported target variable per assessment: \n",
    "    grouped_reports = df[[assessment_id, user_id, target_variable]].groupby(assessment_id, as_index=False).agg('mean')\n",
    "    reports = grouped_reports[target_variable].astype(int)\n",
    "    \n",
    "    # Count report appearances for each possible value (even if didn't appear):\n",
    "    counts = []\n",
    "    for x in c.report_values:\n",
    "        x_count = len([r for r in reports if r==x])\n",
    "        counts.append(x_count)\n",
    "    \n",
    "    # Plot the reported values distribution across all assessments:\n",
    "    fig, ax = plt.subplots()\n",
    "    ax.bar(c.report_values, counts, width=0.4, align='center')\n",
    "    ax.yaxis.set_major_locator(MaxNLocator(integer=True))\n",
    "    ax.set_title('%s distribution across all records in %s' % (target_variable, df.name))\n",
    "    ax.set_xlabel('Reported Chorea')\n",
    "    ax.set_ylabel('Count')\n",
    "    plt.show()\n",
    "\n",
    "    \n",
    "    # Aggregate (mean, std, median) all assessments per patient:\n",
    "    print('\\n')\n",
    "    per_user_stats = grouped_reports[[user_id, target_variable]].groupby(user_id, as_index=False).agg(statistics)\n",
    "    per_user_stats.columns = per_user_stats.columns.droplevel(0)\n",
    "    per_user_stats.reset_index(inplace=True)\n",
    "    \n",
    "    means = per_user_stats['mean']\n",
    "    stds = per_user_stats['std']\n",
    "    if with_median:\n",
    "        medians = per_user_stats['median']\n",
    "    users = per_user_stats['user_id'].astype(str)\n",
    "    n_users = users.shape[0]\n",
    "    users_enum = range(1, n_users+1)\n",
    "    \n",
    "    # Bar plot - mean + error bars (optional: median)\n",
    "    width = 0.3\n",
    "    fig = plt.figure(2)\n",
    "    ax = fig.add_subplot(111)\n",
    "\n",
    "    rects1 = ax.bar(users_enum, means, width, color='g', yerr=stds)\n",
    "    if with_median:\n",
    "        rects2 = ax.bar(users_enum+width, medians, width, color='b')\n",
    "    \n",
    "    ax.set_title('Summary statistics per patient in %s' %(df.name))\n",
    "    ax.set_xlabel('Patient ID')\n",
    "    if with_median:\n",
    "        ax.set_ylabel('Reported Chorea')\n",
    "        ax.set_xticks(users_enum+(0.5*width))\n",
    "        ax.legend((rects1[0], rects2[0]), ('Mean', 'Median'))\n",
    "    else:\n",
    "        ax.set_ylabel('Mean Reported Chorea')\n",
    "        ax.set_xticks(users_enum)    \n",
    "    ax.set_xticklabels(users)\n",
    "    plt.show()\n",
    "    \n",
    "    # Plot per-patient mean reported value (as dots) + error bars:\n",
    "    plt.xticks(users_enum, users)\n",
    "    plt.errorbar(users_enum, means, stds, color='b', fmt='.', markersize='10',\n",
    "                 ecolor='r',capsize=4, elinewidth=2, linestyle='None')\n",
    "    plt.ylim(min_val-bars_gap, max_val+bars_gap)\n",
    "    plt.title('Mean Report Chorea $\\pm$ Standard Variation, Per Patient')\n",
    "    plt.xlabel('Patient ID')\n",
    "    plt.ylabel('Mean Reported Chorea')\n",
    "    plt.show()\n",
    "    \n",
    "    # Calculate the fraction of 'positive' reports per patient, and plot:\n",
    "    print('\\n')\n",
    "    grouped_reports['binary_report'] = grouped_reports[target_variable]>=1\n",
    "    binary_avg = grouped_reports[[user_id, 'binary_report']].groupby(user_id, as_index=False).agg('mean')\n",
    "    binary_avg['user_id'] = binary_avg['user_id'].astype(str)\n",
    "\n",
    "    plt.figure(4)\n",
    "    plt.bar(users_enum, binary_avg['binary_report'])\n",
    "    plt.xticks(users_enum, binary_avg['user_id'])\n",
    "    plt.title('Fraction of positive (>1) reports per patient in %s' %(df.name))\n",
    "    plt.xlabel('Patient ID')\n",
    "    plt.ylabel('Fraction of positive reports')\n",
    "    plt.show()\n",
    "    \n",
    "    return"
   ]
  },
  {
   "cell_type": "markdown",
   "metadata": {},
   "source": [
    "## Present reports from the lab, per assessment:"
   ]
  },
  {
   "cell_type": "code",
   "execution_count": 8,
   "metadata": {},
   "outputs": [
    {
     "data": {
      "text/html": [
       "<div>\n",
       "<style>\n",
       "    .dataframe thead tr:only-child th {\n",
       "        text-align: right;\n",
       "    }\n",
       "\n",
       "    .dataframe thead th {\n",
       "        text-align: left;\n",
       "    }\n",
       "\n",
       "    .dataframe tbody tr th {\n",
       "        vertical-align: top;\n",
       "    }\n",
       "</style>\n",
       "<table border=\"1\" class=\"dataframe\">\n",
       "  <thead>\n",
       "    <tr style=\"text-align: right;\">\n",
       "      <th></th>\n",
       "      <th>user_id</th>\n",
       "      <th>assessment_id</th>\n",
       "      <th>patient_report_value</th>\n",
       "      <th>clinician_report_value</th>\n",
       "    </tr>\n",
       "  </thead>\n",
       "  <tbody>\n",
       "    <tr>\n",
       "      <th>0</th>\n",
       "      <td>8</td>\n",
       "      <td>1490640580656</td>\n",
       "      <td>1.0</td>\n",
       "      <td>2.0</td>\n",
       "    </tr>\n",
       "    <tr>\n",
       "      <th>1</th>\n",
       "      <td>25</td>\n",
       "      <td>1487605701264</td>\n",
       "      <td>1.0</td>\n",
       "      <td>2.0</td>\n",
       "    </tr>\n",
       "    <tr>\n",
       "      <th>2</th>\n",
       "      <td>25</td>\n",
       "      <td>1493912424448</td>\n",
       "      <td>0.0</td>\n",
       "      <td>2.0</td>\n",
       "    </tr>\n",
       "    <tr>\n",
       "      <th>3</th>\n",
       "      <td>45</td>\n",
       "      <td>1490637319938</td>\n",
       "      <td>2.0</td>\n",
       "      <td>3.0</td>\n",
       "    </tr>\n",
       "    <tr>\n",
       "      <th>4</th>\n",
       "      <td>51</td>\n",
       "      <td>1490284781631</td>\n",
       "      <td>3.0</td>\n",
       "      <td>2.0</td>\n",
       "    </tr>\n",
       "    <tr>\n",
       "      <th>5</th>\n",
       "      <td>57</td>\n",
       "      <td>1481923232988</td>\n",
       "      <td>1.0</td>\n",
       "      <td>2.0</td>\n",
       "    </tr>\n",
       "    <tr>\n",
       "      <th>6</th>\n",
       "      <td>63</td>\n",
       "      <td>1493920652116</td>\n",
       "      <td>0.0</td>\n",
       "      <td>2.0</td>\n",
       "    </tr>\n",
       "    <tr>\n",
       "      <th>7</th>\n",
       "      <td>74</td>\n",
       "      <td>1485546321147</td>\n",
       "      <td>2.0</td>\n",
       "      <td>2.0</td>\n",
       "    </tr>\n",
       "    <tr>\n",
       "      <th>8</th>\n",
       "      <td>82</td>\n",
       "      <td>1489765988342</td>\n",
       "      <td>3.0</td>\n",
       "      <td>4.0</td>\n",
       "    </tr>\n",
       "    <tr>\n",
       "      <th>9</th>\n",
       "      <td>94</td>\n",
       "      <td>1493741957038</td>\n",
       "      <td>3.0</td>\n",
       "      <td>2.0</td>\n",
       "    </tr>\n",
       "    <tr>\n",
       "      <th>10</th>\n",
       "      <td>108</td>\n",
       "      <td>1488396181636</td>\n",
       "      <td>0.0</td>\n",
       "      <td>2.0</td>\n",
       "    </tr>\n",
       "  </tbody>\n",
       "</table>\n",
       "</div>"
      ],
      "text/plain": [
       "    user_id  assessment_id  patient_report_value  clinician_report_value\n",
       "0         8  1490640580656                   1.0                     2.0\n",
       "1        25  1487605701264                   1.0                     2.0\n",
       "2        25  1493912424448                   0.0                     2.0\n",
       "3        45  1490637319938                   2.0                     3.0\n",
       "4        51  1490284781631                   3.0                     2.0\n",
       "5        57  1481923232988                   1.0                     2.0\n",
       "6        63  1493920652116                   0.0                     2.0\n",
       "7        74  1485546321147                   2.0                     2.0\n",
       "8        82  1489765988342                   3.0                     4.0\n",
       "9        94  1493741957038                   3.0                     2.0\n",
       "10      108  1488396181636                   0.0                     2.0"
      ]
     },
     "execution_count": 8,
     "metadata": {},
     "output_type": "execute_result"
    }
   ],
   "source": [
    "clinic_df[['user_id', 'assessment_id', 'patient_report_value', 'clinician_report_value']].\\\n",
    "groupby(['user_id', 'assessment_id'], as_index=False).agg('mean').head(15)"
   ]
  },
  {
   "cell_type": "markdown",
   "metadata": {},
   "source": [
    "## Inspect patients' reports for lab assessments:"
   ]
  },
  {
   "cell_type": "code",
   "execution_count": 24,
   "metadata": {
    "scrolled": false
   },
   "outputs": [
    {
     "name": "stdout",
     "output_type": "stream",
     "text": [
      "\n",
      "Number of assessments per user in this dataset:\n",
      "user_id\n",
      "8      1\n",
      "25     2\n",
      "45     1\n",
      "51     1\n",
      "57     1\n",
      "63     1\n",
      "74     1\n",
      "82     1\n",
      "94     1\n",
      "108    1\n",
      "Name: assessment_id, dtype: int64 \n",
      "\n"
     ]
    },
    {
     "data": {
      "image/png": "[encoded data removed]",
      "text/plain": [
       "<matplotlib.figure.Figure at 0x29d819b0f28>"
      ]
     },
     "metadata": {},
     "output_type": "display_data"
    },
    {
     "name": "stdout",
     "output_type": "stream",
     "text": [
      "\n",
      "\n"
     ]
    },
    {
     "data": {
      "image/png": "[encoded data removed]",
      "text/plain": [
       "<matplotlib.figure.Figure at 0x29d804795f8>"
      ]
     },
     "metadata": {},
     "output_type": "display_data"
    },
    {
     "data": {
      "image/png": "[encoded data removed]",
      "text/plain": [
       "<matplotlib.figure.Figure at 0x29d81949eb8>"
      ]
     },
     "metadata": {},
     "output_type": "display_data"
    },
    {
     "name": "stdout",
     "output_type": "stream",
     "text": [
      "\n",
      "\n"
     ]
    },
    {
     "data": {
      "image/png": "[encoded data removed]",
      "text/plain": [
       "<matplotlib.figure.Figure at 0x29d81910198>"
      ]
     },
     "metadata": {},
     "output_type": "display_data"
    }
   ],
   "source": [
    "plot_statistics_distribution(clinic_df, assessment_id='assessment_id',\n",
    "                             user_id ='user_id',\n",
    "                             target_variable='patient_report_value', statistics=statistics)"
   ]
  },
  {
   "cell_type": "markdown",
   "metadata": {},
   "source": [
    "## Inspect clinicians' reports for lab assessments:"
   ]
  },
  {
   "cell_type": "code",
   "execution_count": 25,
   "metadata": {
    "scrolled": false
   },
   "outputs": [
    {
     "name": "stdout",
     "output_type": "stream",
     "text": [
      "\n",
      "Number of assessments per user in this dataset:\n",
      "user_id\n",
      "8      1\n",
      "25     2\n",
      "45     1\n",
      "51     1\n",
      "57     1\n",
      "63     1\n",
      "74     1\n",
      "82     1\n",
      "94     1\n",
      "108    1\n",
      "Name: assessment_id, dtype: int64 \n",
      "\n"
     ]
    },
    {
     "data": {
      "image/png": "[encoded data removed]",
      "text/plain": [
       "<matplotlib.figure.Figure at 0x29d81afcef0>"
      ]
     },
     "metadata": {},
     "output_type": "display_data"
    },
    {
     "name": "stdout",
     "output_type": "stream",
     "text": [
      "\n",
      "\n"
     ]
    },
    {
     "data": {
      "image/png": "[encoded data removed]",
      "text/plain": [
       "<matplotlib.figure.Figure at 0x29d81847978>"
      ]
     },
     "metadata": {},
     "output_type": "display_data"
    },
    {
     "data": {
      "image/png": "[encoded data removed]",
      "text/plain": [
       "<matplotlib.figure.Figure at 0x29d81b4f240>"
      ]
     },
     "metadata": {},
     "output_type": "display_data"
    },
    {
     "name": "stdout",
     "output_type": "stream",
     "text": [
      "\n",
      "\n"
     ]
    },
    {
     "data": {
      "image/png": "[encoded data removed]",
      "text/plain": [
       "<matplotlib.figure.Figure at 0x29d8185d208>"
      ]
     },
     "metadata": {},
     "output_type": "display_data"
    }
   ],
   "source": [
    "plot_statistics_distribution(clinic_df, assessment_id='assessment_id',\n",
    "                             user_id ='user_id',\n",
    "                             target_variable='clinician_report_value', statistics=statistics)"
   ]
  },
  {
   "cell_type": "markdown",
   "metadata": {},
   "source": [
    "## Inspect patients' reports for home assessments:"
   ]
  },
  {
   "cell_type": "code",
   "execution_count": 27,
   "metadata": {
    "scrolled": false
   },
   "outputs": [
    {
     "name": "stdout",
     "output_type": "stream",
     "text": [
      "\n",
      "Number of assessments per user in this dataset:\n",
      "user_id\n",
      "8       25\n",
      "25      30\n",
      "45      56\n",
      "51      65\n",
      "57      99\n",
      "63      12\n",
      "74     134\n",
      "82      34\n",
      "94       8\n",
      "108     37\n",
      "Name: assessment_id, dtype: int64 \n",
      "\n"
     ]
    },
    {
     "data": {
      "image/png": "[encoded data removed]",
      "text/plain": [
       "<matplotlib.figure.Figure at 0x29d818755f8>"
      ]
     },
     "metadata": {},
     "output_type": "display_data"
    },
    {
     "name": "stdout",
     "output_type": "stream",
     "text": [
      "\n",
      "\n"
     ]
    },
    {
     "data": {
      "image/png": "[encoded data removed]",
      "text/plain": [
       "<matplotlib.figure.Figure at 0x29d81872f60>"
      ]
     },
     "metadata": {},
     "output_type": "display_data"
    },
    {
     "data": {
      "image/png": "[encoded data removed]",
      "text/plain": [
       "<matplotlib.figure.Figure at 0x29d80627080>"
      ]
     },
     "metadata": {},
     "output_type": "display_data"
    },
    {
     "name": "stdout",
     "output_type": "stream",
     "text": [
      "\n",
      "\n"
     ]
    },
    {
     "data": {
      "image/png": "[encoded data removed]",
      "text/plain": [
       "<matplotlib.figure.Figure at 0x29d805c7da0>"
      ]
     },
     "metadata": {},
     "output_type": "display_data"
    }
   ],
   "source": [
    "plot_statistics_distribution(home_df, assessment_id='assessment_id',\n",
    "                             user_id ='user_id',\n",
    "                             target_variable='patient_report_value', statistics=statistics)"
   ]
  },
  {
   "cell_type": "markdown",
   "metadata": {},
   "source": [
    "## Inspect patients' reports for pre-reminder 5-minutes segments:"
   ]
  },
  {
   "cell_type": "code",
   "execution_count": 28,
   "metadata": {
    "scrolled": false
   },
   "outputs": [
    {
     "name": "stdout",
     "output_type": "stream",
     "text": [
      "\n",
      "Number of assessments per user in this dataset:\n",
      "user_id\n",
      "8       48\n",
      "45       6\n",
      "51      35\n",
      "57     305\n",
      "63      28\n",
      "74     204\n",
      "82      73\n",
      "94      18\n",
      "108     78\n",
      "Name: reminder_id, dtype: int64 \n",
      "\n"
     ]
    },
    {
     "data": {
      "image/png": "[encoded data removed]",
      "text/plain": [
       "<matplotlib.figure.Figure at 0x29d81a7b7b8>"
      ]
     },
     "metadata": {},
     "output_type": "display_data"
    },
    {
     "name": "stdout",
     "output_type": "stream",
     "text": [
      "\n",
      "\n"
     ]
    },
    {
     "data": {
      "image/png": "[encoded data removed]",
      "text/plain": [
       "<matplotlib.figure.Figure at 0x29d803fc8d0>"
      ]
     },
     "metadata": {},
     "output_type": "display_data"
    },
    {
     "data": {
      "image/png": "[encoded data removed]",
      "text/plain": [
       "<matplotlib.figure.Figure at 0x29d805cf0b8>"
      ]
     },
     "metadata": {},
     "output_type": "display_data"
    },
    {
     "name": "stdout",
     "output_type": "stream",
     "text": [
      "\n",
      "\n"
     ]
    },
    {
     "data": {
      "image/png": "[encoded data removed]",
      "text/plain": [
       "<matplotlib.figure.Figure at 0x29d81bb40f0>"
      ]
     },
     "metadata": {},
     "output_type": "display_data"
    }
   ],
   "source": [
    "plot_statistics_distribution(reminders_df, assessment_id='reminder_id',\n",
    "                             user_id ='user_id',\n",
    "                             target_variable='patient_report_value', statistics=statistics)"
   ]
  },
  {
   "cell_type": "markdown",
   "metadata": {},
   "source": [
    "## Lab data: patients' reports vs. clinicians' reports:"
   ]
  },
  {
   "cell_type": "code",
   "execution_count": 14,
   "metadata": {},
   "outputs": [
    {
     "name": "stdout",
     "output_type": "stream",
     "text": [
      "    assessment_id  patient_report_value  clinician_report_value\n",
      "0   1481923232988                   1.0                     2.0\n",
      "1   1485546321147                   2.0                     2.0\n",
      "2   1487605701264                   1.0                     2.0\n",
      "3   1488396181636                   0.0                     2.0\n",
      "4   1489765988342                   3.0                     4.0\n",
      "5   1490284781631                   3.0                     2.0\n",
      "6   1490637319938                   2.0                     3.0\n",
      "7   1490640580656                   1.0                     2.0\n",
      "8   1493741957038                   3.0                     2.0\n",
      "9   1493912424448                   0.0                     2.0\n",
      "10  1493920652116                   0.0                     2.0\n",
      "\n",
      "Correlation of: 0.463 \n",
      "p-value of: 0.151\n"
     ]
    },
    {
     "data": {
      "image/png": "[encoded data removed]",
      "text/plain": [
       "<matplotlib.figure.Figure at 0x29d81991390>"
      ]
     },
     "metadata": {},
     "output_type": "display_data"
    }
   ],
   "source": [
    "report_per_assess = clinic_df[['assessment_id', 'patient_report_value', 'clinician_report_value']]\\\n",
    "                    .groupby('assessment_id', as_index=False).agg('mean')\n",
    "print(report_per_assess.head(15))\n",
    "patients = report_per_assess.patient_report_value\n",
    "clinicians = report_per_assess.clinician_report_value\n",
    "\n",
    "coef, p_val = pearsonr(patients, clinicians)\n",
    "print('\\n' 'Correlation of: %.3f \\np-value of: %.3f' % (coef, p_val))\n",
    "\n",
    "plt.scatter(patients, clinicians, alpha=0.3)\n",
    "plt.plot(np.unique(patients),\n",
    "         np.poly1d(np.polyfit(patients, clinicians, 1))(np.unique(patients)),\n",
    "         color='r')\n",
    "plt.xticks(c.report_values)\n",
    "plt.yticks(c.report_values)\n",
    "plt.xlabel('Patients Chorea reports')\n",
    "plt.ylabel('Clinicians Chorea reports')\n",
    "plt.title(\"Lab data - patients' reports vs. clinicians' reports\")\n",
    "plt.show()"
   ]
  },
  {
   "cell_type": "markdown",
   "metadata": {},
   "source": [
    "## Patients' lab assessments reports vs. their (mean) home assessments reports:"
   ]
  },
  {
   "cell_type": "code",
   "execution_count": 64,
   "metadata": {},
   "outputs": [
    {
     "name": "stdout",
     "output_type": "stream",
     "text": [
      "   user_id  clinic_mean_report  home_mean_report\n",
      "0        8            1.000000          1.000000\n",
      "1       25            0.471868          0.024907\n",
      "2       45            2.000000          0.854098\n",
      "3       51            3.000000          3.378679\n",
      "4       57            1.000000          2.045206\n",
      "5       63            0.000000          0.000000\n",
      "6       74            2.000000          1.892135\n",
      "7       82            3.000000          3.050616\n",
      "8       94            3.000000          1.015119\n",
      "9      108            0.000000          0.000000\n",
      "\n",
      "Correlation of: 0.769 \n",
      "p-value of: 0.009\n"
     ]
    },
    {
     "data": {
      "image/png": "[encoded data removed]",
      "text/plain": [
       "<matplotlib.figure.Figure at 0x29d81e14ac8>"
      ]
     },
     "metadata": {},
     "output_type": "display_data"
    }
   ],
   "source": [
    "clinic_report_per_user = clinic_df[['user_id', 'patient_report_value']].groupby('user_id').agg('mean')\n",
    "clinic_report_per_user.columns = ['clinic_mean_report']\n",
    "clinic_report_per_user.sort_index(inplace=True)\n",
    "\n",
    "home_report_per_user = home_df[['user_id', 'patient_report_value']].groupby('user_id').agg('mean')\n",
    "home_report_per_user.columns = ['home_mean_report']\n",
    "home_report_per_user.sort_index(inplace=True)\n",
    "\n",
    "both_reports = pd.concat([clinic_report_per_user, home_report_per_user], axis=1)\n",
    "both_reports.dropna(inplace=True)\n",
    "both_reports.reset_index(inplace=True)\n",
    "print(both_reports.head(15))\n",
    "\n",
    "clinic_mean = both_reports.clinic_mean_report\n",
    "home_mean = both_reports.home_mean_report\n",
    "\n",
    "coef, p_val = pearsonr(clinic_mean, home_mean)\n",
    "print('\\n' 'Correlation of: %.3f \\np-value of: %.3f' % (coef, p_val))\n",
    "\n",
    "plt.scatter(clinic_mean, home_mean, alpha=0.6)\n",
    "plt.plot(np.unique(clinic_mean),\n",
    "         np.poly1d(np.polyfit(clinic_mean, home_mean, 1))(np.unique(clinic_mean)),\n",
    "         color='r')\n",
    "plt.xticks(c.report_values)\n",
    "plt.yticks(c.report_values)\n",
    "plt.xlabel('Mean Chorea level report at lab')\n",
    "plt.ylabel('Mean Chorea level report at home')\n",
    "plt.title(\"Patients' reports at the lab vs. at home\")\n",
    "plt.show()"
   ]
  },
  {
   "cell_type": "markdown",
   "metadata": {},
   "source": [
    "## Clinicians' lab assessments reports vs. patients' (mean) home assessments reports:"
   ]
  },
  {
   "cell_type": "code",
   "execution_count": 67,
   "metadata": {},
   "outputs": [
    {
     "name": "stdout",
     "output_type": "stream",
     "text": [
      "   user_id  clinic_mean_report  home_mean_report\n",
      "0        8                 2.0          1.000000\n",
      "1       25                 2.0          0.024907\n",
      "2       45                 3.0          0.854098\n",
      "3       51                 2.0          3.378679\n",
      "4       57                 2.0          2.045206\n",
      "5       63                 2.0          0.000000\n",
      "6       74                 2.0          1.892135\n",
      "7       82                 4.0          3.050616\n",
      "8       94                 2.0          1.015119\n",
      "9      108                 2.0          0.000000\n",
      "\n",
      "Correlation of: 0.398 \n",
      "p-value of: 0.255\n"
     ]
    },
    {
     "data": {
      "image/png": "[encoded data removed]",
      "text/plain": [
       "<matplotlib.figure.Figure at 0x29d82164828>"
      ]
     },
     "metadata": {},
     "output_type": "display_data"
    }
   ],
   "source": [
    "clinic_report_per_user = clinic_df[['user_id', 'clinician_report_value']].groupby('user_id').agg('mean')\n",
    "clinic_report_per_user.columns = ['clinic_mean_report']\n",
    "clinic_report_per_user.sort_index(inplace=True)\n",
    "\n",
    "home_report_per_user = home_df[['user_id', 'patient_report_value']].groupby('user_id').agg('mean')\n",
    "home_report_per_user.columns = ['home_mean_report']\n",
    "home_report_per_user.sort_index(inplace=True)\n",
    "\n",
    "both_reports = pd.concat([clinic_report_per_user, home_report_per_user], axis=1)\n",
    "both_reports.dropna(inplace=True)\n",
    "both_reports.reset_index(inplace=True)\n",
    "print(both_reports.head(15))\n",
    "\n",
    "clinic_mean = both_reports.clinic_mean_report\n",
    "home_mean = both_reports.home_mean_report\n",
    "\n",
    "coef, p_val = pearsonr(clinic_mean, home_mean)\n",
    "print('\\n' 'Correlation of: %.3f \\np-value of: %.3f' % (coef, p_val))\n",
    "\n",
    "plt.scatter(clinic_mean, home_mean, alpha=0.6)\n",
    "plt.plot(np.unique(clinic_mean),\n",
    "         np.poly1d(np.polyfit(clinic_mean, home_mean, 1))(np.unique(clinic_mean)),\n",
    "         color='r')\n",
    "plt.xticks(range(5))\n",
    "plt.yticks(range(5))\n",
    "plt.xlabel(\"Clinicians' Mean Chorea level report at lab\")\n",
    "plt.ylabel(\"Patients' Mean Chorea level report at home\")\n",
    "plt.title(\"Clinicians' Reports at the Lab vs. Patients' Reports at home\")\n",
    "plt.show()"
   ]
  },
  {
   "cell_type": "markdown",
   "metadata": {},
   "source": [
    "## Patients' mean home pre-reminders reports vs. their mean home assessments reports:"
   ]
  },
  {
   "cell_type": "code",
   "execution_count": 69,
   "metadata": {},
   "outputs": [
    {
     "name": "stdout",
     "output_type": "stream",
     "text": [
      "         assessments_mean_report_value  reminders_mean_report_value\n",
      "user_id                                                            \n",
      "8                             1.000000                     1.000000\n",
      "45                            0.839286                     1.000000\n",
      "51                            3.507692                     3.714286\n",
      "57                            2.030303                     2.013115\n",
      "63                            0.000000                     0.000000\n",
      "74                            1.895522                     1.813725\n",
      "82                            3.000000                     2.753425\n",
      "94                            1.250000                     1.111111\n",
      "108                           0.000000                     0.000000\n",
      "\n",
      "Correlation of: 0.994 \n",
      "p-value of: 0.000\n"
     ]
    },
    {
     "data": {
      "image/png": "[encoded data removed]",
      "text/plain": [
       "<matplotlib.figure.Figure at 0x29d821dff98>"
      ]
     },
     "metadata": {},
     "output_type": "display_data"
    }
   ],
   "source": [
    "home_unique_assessments = home_df[['user_id', 'assessment_id', 'patient_report_value']]\\\n",
    ".groupby(['user_id', 'assessment_id'], as_index=False).agg('mean')\n",
    "home_assess_patient_avg = home_unique_assessments[['user_id', 'patient_report_value']].groupby('user_id').agg('mean')\n",
    "home_assess_patient_avg.columns = ['assessments_mean_report_value']\n",
    "home_assess_patient_avg.sort_index(inplace=True)\n",
    "\n",
    "home_unique_reminders = reminders_df[['user_id', 'reminder_id', 'patient_report_value']]\\\n",
    ".groupby(['user_id', 'reminder_id'], as_index=False).agg('mean')\n",
    "home_remind_patient_avg = home_unique_reminders[['user_id', 'patient_report_value']].groupby('user_id').agg('mean')\n",
    "home_remind_patient_avg.columns = ['reminders_mean_report_value']\n",
    "home_remind_patient_avg.sort_index(inplace=True)\n",
    "\n",
    "both_home = pd.concat([home_assess_patient_avg, home_remind_patient_avg], axis=1)\n",
    "both_home.dropna(inplace=True)\n",
    "print(both_home.head(15))\n",
    "\n",
    "assess_mean = both_home.assessments_mean_report_value\n",
    "remind_mean = both_home.reminders_mean_report_value\n",
    "\n",
    "coef, p_val = pearsonr(assess_mean, remind_mean)\n",
    "print('\\n' 'Correlation of: %.3f \\np-value of: %.3f' % (coef, p_val))\n",
    "\n",
    "plt.scatter(assess_mean, remind_mean, alpha=0.6)\n",
    "plt.plot(np.unique(assess_mean),\n",
    "         np.poly1d(np.polyfit(assess_mean, remind_mean, 1))(np.unique(assess_mean)),\n",
    "         color='r')\n",
    "plt.xticks(range(5))\n",
    "plt.yticks(range(5))\n",
    "plt.xlabel('Home assessments')\n",
    "plt.ylabel('Pre-reminder 5-mins')\n",
    "plt.title(\"Patients' reports at home for assessments vs. for pre-reminders\")\n",
    "plt.show()"
   ]
  },
  {
   "cell_type": "markdown",
   "metadata": {},
   "source": [
    "# Raw accelerometer data analysis:"
   ]
  },
  {
   "cell_type": "code",
   "execution_count": 32,
   "metadata": {
    "collapsed": true
   },
   "outputs": [],
   "source": [
    "clinic_df['acc_norm'] = np.sqrt((clinic_df.x)**2 + (clinic_df.y)**2 + (clinic_df.z)**2)\n",
    "clinic_df['acc_abs_delta'] = abs(clinic_df['acc_norm']-1000)\n",
    "\n",
    "clinic_steps_df['acc_norm'] = np.sqrt((clinic_steps_df.x)**2 + (clinic_steps_df.y)**2 + (clinic_steps_df.z)**2)\n",
    "clinic_steps_df['acc_abs_delta'] = abs(clinic_steps_df['acc_norm']-1000)\n",
    "\n",
    "home_df['acc_norm'] = np.sqrt((home_df.x)**2 + (home_df.y)**2 + (home_df.z)**2)\n",
    "home_df['acc_abs_delta'] = abs(home_df['acc_norm']-1000)\n",
    "\n",
    "home_steps_df['acc_norm'] = np.sqrt((home_steps_df.x)**2 + (home_steps_df.y)**2 + (home_steps_df.z)**2)\n",
    "home_steps_df['acc_abs_delta'] = abs(home_steps_df['acc_norm']-1000)\n",
    "\n",
    "reminders_df['acc_norm'] = np.sqrt((reminders_df.x)**2 + (reminders_df.y)**2 + (reminders_df.z)**2)\n",
    "reminders_df['acc_abs_delta'] = abs(reminders_df['acc_norm']-1000)"
   ]
  },
  {
   "cell_type": "code",
   "execution_count": 33,
   "metadata": {
    "collapsed": true
   },
   "outputs": [],
   "source": [
    "def mean_acc_box_plot(df, report_column, variable_column, group_by='assessment_id'):\n",
    "    mean_acc_df = df[[group_by, variable_column, report_column]]\\\n",
    "                    .groupby(group_by, as_index=False).agg('mean')\n",
    "    discrete_report_values = c.report_values\n",
    "    boxes_vals = [np.asarray(mean_acc_df[variable_column][mean_acc_df[report_column] == x]) for x in discrete_report_values]\n",
    "    plt.boxplot(boxes_vals)\n",
    "    plt.xticks(range(min_val+1, max_val+2), c.report_values)\n",
    "#     plt.ylim((920, 1100))\n",
    "    plt.xlabel('Reported Chorea')\n",
    "    plt.ylabel('Accelerometer norm mean')\n",
    "    plt.show()"
   ]
  },
  {
   "cell_type": "markdown",
   "metadata": {},
   "source": [
    "### Accelerometer norm mean vs. reported Chorea - clinic patients' reports:"
   ]
  },
  {
   "cell_type": "code",
   "execution_count": 34,
   "metadata": {
    "scrolled": true
   },
   "outputs": [
    {
     "data": {
      "image/png": "[encoded data removed]",
      "text/plain": [
       "<matplotlib.figure.Figure at 0x29d818b75c0>"
      ]
     },
     "metadata": {},
     "output_type": "display_data"
    }
   ],
   "source": [
    "mean_acc_box_plot(clinic_df, 'patient_report_value', 'acc_abs_delta', group_by='assessment_id')"
   ]
  },
  {
   "cell_type": "markdown",
   "metadata": {},
   "source": [
    "### Accelerometer norm mean vs. reported Chorea - clinic clinicians' reports:"
   ]
  },
  {
   "cell_type": "code",
   "execution_count": 35,
   "metadata": {},
   "outputs": [
    {
     "data": {
      "image/png": "[encoded data removed]",
      "text/plain": [
       "<matplotlib.figure.Figure at 0x29d8185df28>"
      ]
     },
     "metadata": {},
     "output_type": "display_data"
    }
   ],
   "source": [
    "mean_acc_box_plot(clinic_df, 'clinician_report_value', 'acc_abs_delta', group_by='assessment_id')"
   ]
  },
  {
   "cell_type": "markdown",
   "metadata": {},
   "source": [
    "### Accelerometer norm mean vs. reported Chorea - home patients' reports:"
   ]
  },
  {
   "cell_type": "code",
   "execution_count": 45,
   "metadata": {},
   "outputs": [
    {
     "data": {
      "image/png": "[encoded data removed]",
      "text/plain": [
       "<matplotlib.figure.Figure at 0x21b03d6c9e8>"
      ]
     },
     "metadata": {},
     "output_type": "display_data"
    }
   ],
   "source": [
    "mean_acc_box_plot(home_df, 'patient_report_value', 'acc_abs_delta', group_by='assessment_id')"
   ]
  },
  {
   "cell_type": "markdown",
   "metadata": {},
   "source": [
    "### Accelerometer norm mean vs. reported Chorea - reminders patients' reports:"
   ]
  },
  {
   "cell_type": "code",
   "execution_count": 46,
   "metadata": {},
   "outputs": [
    {
     "data": {
      "image/png": "[encoded data removed]",
      "text/plain": [
       "<matplotlib.figure.Figure at 0x21b0529c710>"
      ]
     },
     "metadata": {},
     "output_type": "display_data"
    }
   ],
   "source": [
    "mean_acc_box_plot(reminders_df, 'patient_report_value', 'acc_abs_delta', group_by='reminder_id')"
   ]
  },
  {
   "cell_type": "markdown",
   "metadata": {},
   "source": [
    "## Accelerometer data values per step_name:"
   ]
  },
  {
   "cell_type": "code",
   "execution_count": 49,
   "metadata": {},
   "outputs": [
    {
     "data": {
      "text/html": [
       "<div>\n",
       "<style>\n",
       "    .dataframe thead tr:only-child th {\n",
       "        text-align: right;\n",
       "    }\n",
       "\n",
       "    .dataframe thead th {\n",
       "        text-align: left;\n",
       "    }\n",
       "\n",
       "    .dataframe tbody tr th {\n",
       "        vertical-align: top;\n",
       "    }\n",
       "</style>\n",
       "<table border=\"1\" class=\"dataframe\">\n",
       "  <thead>\n",
       "    <tr style=\"text-align: right;\">\n",
       "      <th></th>\n",
       "      <th>step_name</th>\n",
       "      <th>acc_abs_delta</th>\n",
       "    </tr>\n",
       "  </thead>\n",
       "  <tbody>\n",
       "    <tr>\n",
       "      <th>3</th>\n",
       "      <td>Sit relaxed</td>\n",
       "      <td>52.509823</td>\n",
       "    </tr>\n",
       "    <tr>\n",
       "      <th>2</th>\n",
       "      <td>Sit extended</td>\n",
       "      <td>60.307449</td>\n",
       "    </tr>\n",
       "    <tr>\n",
       "      <th>4</th>\n",
       "      <td>Stand</td>\n",
       "      <td>71.647589</td>\n",
       "    </tr>\n",
       "    <tr>\n",
       "      <th>0</th>\n",
       "      <td>Drink</td>\n",
       "      <td>83.985035</td>\n",
       "    </tr>\n",
       "    <tr>\n",
       "      <th>5</th>\n",
       "      <td>TUaG</td>\n",
       "      <td>102.057856</td>\n",
       "    </tr>\n",
       "    <tr>\n",
       "      <th>6</th>\n",
       "      <td>Walk</td>\n",
       "      <td>140.883266</td>\n",
       "    </tr>\n",
       "    <tr>\n",
       "      <th>1</th>\n",
       "      <td>Rotate hands</td>\n",
       "      <td>202.597351</td>\n",
       "    </tr>\n",
       "  </tbody>\n",
       "</table>\n",
       "</div>"
      ],
      "text/plain": [
       "      step_name  acc_abs_delta\n",
       "3   Sit relaxed      52.509823\n",
       "2  Sit extended      60.307449\n",
       "4         Stand      71.647589\n",
       "0         Drink      83.985035\n",
       "5          TUaG     102.057856\n",
       "6          Walk     140.883266\n",
       "1  Rotate hands     202.597351"
      ]
     },
     "execution_count": 49,
     "metadata": {},
     "output_type": "execute_result"
    }
   ],
   "source": [
    "clinic_step_agg = clinic_steps_df[['step_name', 'acc_abs_delta']].groupby('step_name', as_index=False).agg('mean')\n",
    "clinic_step_agg.sort_values(by='acc_abs_delta', inplace=True)\n",
    "clinic_step_agg"
   ]
  },
  {
   "cell_type": "code",
   "execution_count": 50,
   "metadata": {
    "scrolled": false
   },
   "outputs": [
    {
     "data": {
      "text/html": [
       "<div>\n",
       "<style>\n",
       "    .dataframe thead tr:only-child th {\n",
       "        text-align: right;\n",
       "    }\n",
       "\n",
       "    .dataframe thead th {\n",
       "        text-align: left;\n",
       "    }\n",
       "\n",
       "    .dataframe tbody tr th {\n",
       "        vertical-align: top;\n",
       "    }\n",
       "</style>\n",
       "<table border=\"1\" class=\"dataframe\">\n",
       "  <thead>\n",
       "    <tr style=\"text-align: right;\">\n",
       "      <th></th>\n",
       "      <th>step_name</th>\n",
       "      <th>acc_abs_delta</th>\n",
       "    </tr>\n",
       "  </thead>\n",
       "  <tbody>\n",
       "    <tr>\n",
       "      <th>0</th>\n",
       "      <td>Sit relaxed</td>\n",
       "      <td>40.661383</td>\n",
       "    </tr>\n",
       "    <tr>\n",
       "      <th>1</th>\n",
       "      <td>Stand</td>\n",
       "      <td>54.612115</td>\n",
       "    </tr>\n",
       "  </tbody>\n",
       "</table>\n",
       "</div>"
      ],
      "text/plain": [
       "     step_name  acc_abs_delta\n",
       "0  Sit relaxed      40.661383\n",
       "1        Stand      54.612115"
      ]
     },
     "execution_count": 50,
     "metadata": {},
     "output_type": "execute_result"
    }
   ],
   "source": [
    "home_step_agg = home_steps_df[['step_name', 'acc_abs_delta']].groupby('step_name', as_index=False).agg('mean')\n",
    "home_step_agg.sort_values(by='acc_abs_delta', inplace=True)\n",
    "home_step_agg"
   ]
  },
  {
   "cell_type": "code",
   "execution_count": 41,
   "metadata": {},
   "outputs": [
    {
     "data": {
      "text/plain": [
       "array(['Sit relaxed', 'TUaG', 'Sit extended', 'Rotate hands', 'Stand',\n",
       "       'Drink', 'Walk'], dtype=object)"
      ]
     },
     "execution_count": 41,
     "metadata": {},
     "output_type": "execute_result"
    }
   ],
   "source": [
    "clinic_steps_df.step_name.unique()"
   ]
  },
  {
   "cell_type": "code",
   "execution_count": 51,
   "metadata": {
    "collapsed": true
   },
   "outputs": [],
   "source": [
    "static_steps = ['Sit extended', 'Sit relaxed', 'Stand']"
   ]
  },
  {
   "cell_type": "code",
   "execution_count": 52,
   "metadata": {
    "scrolled": false
   },
   "outputs": [
    {
     "data": {
      "image/png": "[encoded data removed]",
      "text/plain": [
       "<matplotlib.figure.Figure at 0x21b04210240>"
      ]
     },
     "metadata": {},
     "output_type": "display_data"
    },
    {
     "data": {
      "image/png": "[encoded data removed]",
      "text/plain": [
       "<matplotlib.figure.Figure at 0x21b5b460f98>"
      ]
     },
     "metadata": {},
     "output_type": "display_data"
    },
    {
     "data": {
      "image/png": "[encoded data removed]",
      "text/plain": [
       "<matplotlib.figure.Figure at 0x21b03d24e80>"
      ]
     },
     "metadata": {},
     "output_type": "display_data"
    },
    {
     "data": {
      "image/png": "[encoded data removed]",
      "text/plain": [
       "<matplotlib.figure.Figure at 0x21b052d89e8>"
      ]
     },
     "metadata": {},
     "output_type": "display_data"
    },
    {
     "data": {
      "image/png": "[encoded data removed]",
      "text/plain": [
       "<matplotlib.figure.Figure at 0x21b03fa54e0>"
      ]
     },
     "metadata": {},
     "output_type": "display_data"
    }
   ],
   "source": [
    "discrete_report_values = c.report_values\n",
    "for df in [clinic_steps_df, home_steps_df]:\n",
    "    for step in static_steps:\n",
    "        if step in df['step_name'].unique().tolist():\n",
    "            step_df = df[df['step_name']==step]\n",
    "            agg = step_df[['assessment_id', 'step_name', 'acc_abs_delta', 'patient_report_value']]\\\n",
    "                  .groupby(['assessment_id', 'step_name'], as_index=False).agg('mean')\n",
    "            boxes_vals = [np.asarray(agg['acc_abs_delta'][agg['patient_report_value'] == x]) for x in discrete_report_values]\n",
    "            plt.boxplot(boxes_vals)\n",
    "            plt.xticks(range(min_val+1, max_val+2), range(5))\n",
    "#             plt.ylim((920, 1100))\n",
    "            plt.xlabel('Reported Chorea')\n",
    "            plt.ylabel('Accelerometer norm mean')\n",
    "            plt.title('Step: %s in %s' % (step, df.name))\n",
    "            plt.show()\n",
    "            plt.close()"
   ]
  },
  {
   "cell_type": "markdown",
   "metadata": {},
   "source": [
    "## Accelerometer data exploration:"
   ]
  },
  {
   "cell_type": "code",
   "execution_count": 53,
   "metadata": {
    "scrolled": true
   },
   "outputs": [
    {
     "data": {
      "text/html": [
       "<div>\n",
       "<style>\n",
       "    .dataframe thead tr:only-child th {\n",
       "        text-align: right;\n",
       "    }\n",
       "\n",
       "    .dataframe thead th {\n",
       "        text-align: left;\n",
       "    }\n",
       "\n",
       "    .dataframe tbody tr th {\n",
       "        vertical-align: top;\n",
       "    }\n",
       "</style>\n",
       "<table border=\"1\" class=\"dataframe\">\n",
       "  <thead>\n",
       "    <tr style=\"text-align: right;\">\n",
       "      <th></th>\n",
       "      <th>user_id</th>\n",
       "      <th>assessment_id</th>\n",
       "      <th>assessment_start</th>\n",
       "      <th>assessment_end</th>\n",
       "      <th>timestamp</th>\n",
       "      <th>step_name</th>\n",
       "      <th>x</th>\n",
       "      <th>y</th>\n",
       "      <th>z</th>\n",
       "      <th>patient_report_value</th>\n",
       "      <th>acc_norm</th>\n",
       "      <th>acc_abs_delta</th>\n",
       "    </tr>\n",
       "  </thead>\n",
       "  <tbody>\n",
       "    <tr>\n",
       "      <th>216</th>\n",
       "      <td>63</td>\n",
       "      <td>1494943400069</td>\n",
       "      <td>2017-05-16 14:00:20.836</td>\n",
       "      <td>2017-05-16 14:03:16.601</td>\n",
       "      <td>2017-05-16 14:00:26.007</td>\n",
       "      <td>Sit relaxed</td>\n",
       "      <td>-180.0</td>\n",
       "      <td>-53.0</td>\n",
       "      <td>-973.0</td>\n",
       "      <td>0.0</td>\n",
       "      <td>990.927848</td>\n",
       "      <td>9.072152</td>\n",
       "    </tr>\n",
       "    <tr>\n",
       "      <th>217</th>\n",
       "      <td>63</td>\n",
       "      <td>1494943400069</td>\n",
       "      <td>2017-05-16 14:00:20.836</td>\n",
       "      <td>2017-05-16 14:03:16.601</td>\n",
       "      <td>2017-05-16 14:00:26.027</td>\n",
       "      <td>Sit relaxed</td>\n",
       "      <td>-247.0</td>\n",
       "      <td>-71.0</td>\n",
       "      <td>-978.0</td>\n",
       "      <td>0.0</td>\n",
       "      <td>1011.204233</td>\n",
       "      <td>11.204233</td>\n",
       "    </tr>\n",
       "    <tr>\n",
       "      <th>218</th>\n",
       "      <td>63</td>\n",
       "      <td>1494943400069</td>\n",
       "      <td>2017-05-16 14:00:20.836</td>\n",
       "      <td>2017-05-16 14:03:16.601</td>\n",
       "      <td>2017-05-16 14:00:26.047</td>\n",
       "      <td>Sit relaxed</td>\n",
       "      <td>-254.0</td>\n",
       "      <td>-52.0</td>\n",
       "      <td>-1005.0</td>\n",
       "      <td>0.0</td>\n",
       "      <td>1037.904138</td>\n",
       "      <td>37.904138</td>\n",
       "    </tr>\n",
       "    <tr>\n",
       "      <th>219</th>\n",
       "      <td>63</td>\n",
       "      <td>1494943400069</td>\n",
       "      <td>2017-05-16 14:00:20.836</td>\n",
       "      <td>2017-05-16 14:03:16.601</td>\n",
       "      <td>2017-05-16 14:00:26.067</td>\n",
       "      <td>Sit relaxed</td>\n",
       "      <td>-209.0</td>\n",
       "      <td>-31.0</td>\n",
       "      <td>-993.0</td>\n",
       "      <td>0.0</td>\n",
       "      <td>1015.229531</td>\n",
       "      <td>15.229531</td>\n",
       "    </tr>\n",
       "    <tr>\n",
       "      <th>220</th>\n",
       "      <td>63</td>\n",
       "      <td>1494943400069</td>\n",
       "      <td>2017-05-16 14:00:20.836</td>\n",
       "      <td>2017-05-16 14:03:16.601</td>\n",
       "      <td>2017-05-16 14:00:26.095</td>\n",
       "      <td>Sit relaxed</td>\n",
       "      <td>-57.0</td>\n",
       "      <td>-340.0</td>\n",
       "      <td>-967.0</td>\n",
       "      <td>0.0</td>\n",
       "      <td>1026.614826</td>\n",
       "      <td>26.614826</td>\n",
       "    </tr>\n",
       "    <tr>\n",
       "      <th>221</th>\n",
       "      <td>63</td>\n",
       "      <td>1494943400069</td>\n",
       "      <td>2017-05-16 14:00:20.836</td>\n",
       "      <td>2017-05-16 14:03:16.601</td>\n",
       "      <td>2017-05-16 14:00:26.115</td>\n",
       "      <td>Sit relaxed</td>\n",
       "      <td>-212.0</td>\n",
       "      <td>-69.0</td>\n",
       "      <td>-975.0</td>\n",
       "      <td>0.0</td>\n",
       "      <td>1000.164986</td>\n",
       "      <td>0.164986</td>\n",
       "    </tr>\n",
       "    <tr>\n",
       "      <th>222</th>\n",
       "      <td>63</td>\n",
       "      <td>1494943400069</td>\n",
       "      <td>2017-05-16 14:00:20.836</td>\n",
       "      <td>2017-05-16 14:03:16.601</td>\n",
       "      <td>2017-05-16 14:00:26.135</td>\n",
       "      <td>Sit relaxed</td>\n",
       "      <td>-174.0</td>\n",
       "      <td>-70.0</td>\n",
       "      <td>-949.0</td>\n",
       "      <td>0.0</td>\n",
       "      <td>967.355674</td>\n",
       "      <td>32.644326</td>\n",
       "    </tr>\n",
       "    <tr>\n",
       "      <th>223</th>\n",
       "      <td>63</td>\n",
       "      <td>1494943400069</td>\n",
       "      <td>2017-05-16 14:00:20.836</td>\n",
       "      <td>2017-05-16 14:03:16.601</td>\n",
       "      <td>2017-05-16 14:00:26.155</td>\n",
       "      <td>Sit relaxed</td>\n",
       "      <td>-153.0</td>\n",
       "      <td>-65.0</td>\n",
       "      <td>-938.0</td>\n",
       "      <td>0.0</td>\n",
       "      <td>952.616397</td>\n",
       "      <td>47.383603</td>\n",
       "    </tr>\n",
       "    <tr>\n",
       "      <th>224</th>\n",
       "      <td>63</td>\n",
       "      <td>1494943400069</td>\n",
       "      <td>2017-05-16 14:00:20.836</td>\n",
       "      <td>2017-05-16 14:03:16.601</td>\n",
       "      <td>2017-05-16 14:00:26.175</td>\n",
       "      <td>Sit relaxed</td>\n",
       "      <td>-138.0</td>\n",
       "      <td>-58.0</td>\n",
       "      <td>-886.0</td>\n",
       "      <td>0.0</td>\n",
       "      <td>898.556620</td>\n",
       "      <td>101.443380</td>\n",
       "    </tr>\n",
       "    <tr>\n",
       "      <th>225</th>\n",
       "      <td>63</td>\n",
       "      <td>1494943400069</td>\n",
       "      <td>2017-05-16 14:00:20.836</td>\n",
       "      <td>2017-05-16 14:03:16.601</td>\n",
       "      <td>2017-05-16 14:00:26.195</td>\n",
       "      <td>Sit relaxed</td>\n",
       "      <td>-111.0</td>\n",
       "      <td>-137.0</td>\n",
       "      <td>-888.0</td>\n",
       "      <td>0.0</td>\n",
       "      <td>905.336402</td>\n",
       "      <td>94.663598</td>\n",
       "    </tr>\n",
       "    <tr>\n",
       "      <th>226</th>\n",
       "      <td>63</td>\n",
       "      <td>1494943400069</td>\n",
       "      <td>2017-05-16 14:00:20.836</td>\n",
       "      <td>2017-05-16 14:03:16.601</td>\n",
       "      <td>2017-05-16 14:00:26.215</td>\n",
       "      <td>Sit relaxed</td>\n",
       "      <td>-152.0</td>\n",
       "      <td>-96.0</td>\n",
       "      <td>-923.0</td>\n",
       "      <td>0.0</td>\n",
       "      <td>940.345149</td>\n",
       "      <td>59.654851</td>\n",
       "    </tr>\n",
       "    <tr>\n",
       "      <th>227</th>\n",
       "      <td>63</td>\n",
       "      <td>1494943400069</td>\n",
       "      <td>2017-05-16 14:00:20.836</td>\n",
       "      <td>2017-05-16 14:03:16.601</td>\n",
       "      <td>2017-05-16 14:00:26.235</td>\n",
       "      <td>Sit relaxed</td>\n",
       "      <td>-164.0</td>\n",
       "      <td>-96.0</td>\n",
       "      <td>-956.0</td>\n",
       "      <td>0.0</td>\n",
       "      <td>974.704058</td>\n",
       "      <td>25.295942</td>\n",
       "    </tr>\n",
       "    <tr>\n",
       "      <th>228</th>\n",
       "      <td>63</td>\n",
       "      <td>1494943400069</td>\n",
       "      <td>2017-05-16 14:00:20.836</td>\n",
       "      <td>2017-05-16 14:03:16.601</td>\n",
       "      <td>2017-05-16 14:00:26.255</td>\n",
       "      <td>Sit relaxed</td>\n",
       "      <td>-187.0</td>\n",
       "      <td>-78.0</td>\n",
       "      <td>-968.0</td>\n",
       "      <td>0.0</td>\n",
       "      <td>988.977755</td>\n",
       "      <td>11.022245</td>\n",
       "    </tr>\n",
       "    <tr>\n",
       "      <th>229</th>\n",
       "      <td>63</td>\n",
       "      <td>1494943400069</td>\n",
       "      <td>2017-05-16 14:00:20.836</td>\n",
       "      <td>2017-05-16 14:03:16.601</td>\n",
       "      <td>2017-05-16 14:00:26.275</td>\n",
       "      <td>Sit relaxed</td>\n",
       "      <td>-183.0</td>\n",
       "      <td>-111.0</td>\n",
       "      <td>-958.0</td>\n",
       "      <td>0.0</td>\n",
       "      <td>981.618052</td>\n",
       "      <td>18.381948</td>\n",
       "    </tr>\n",
       "    <tr>\n",
       "      <th>230</th>\n",
       "      <td>63</td>\n",
       "      <td>1494943400069</td>\n",
       "      <td>2017-05-16 14:00:20.836</td>\n",
       "      <td>2017-05-16 14:03:16.601</td>\n",
       "      <td>2017-05-16 14:00:26.295</td>\n",
       "      <td>Sit relaxed</td>\n",
       "      <td>-169.0</td>\n",
       "      <td>-105.0</td>\n",
       "      <td>-937.0</td>\n",
       "      <td>0.0</td>\n",
       "      <td>957.890912</td>\n",
       "      <td>42.109088</td>\n",
       "    </tr>\n",
       "    <tr>\n",
       "      <th>231</th>\n",
       "      <td>63</td>\n",
       "      <td>1494943400069</td>\n",
       "      <td>2017-05-16 14:00:20.836</td>\n",
       "      <td>2017-05-16 14:03:16.601</td>\n",
       "      <td>2017-05-16 14:00:26.315</td>\n",
       "      <td>Sit relaxed</td>\n",
       "      <td>-163.0</td>\n",
       "      <td>-101.0</td>\n",
       "      <td>-957.0</td>\n",
       "      <td>0.0</td>\n",
       "      <td>976.022028</td>\n",
       "      <td>23.977972</td>\n",
       "    </tr>\n",
       "    <tr>\n",
       "      <th>232</th>\n",
       "      <td>63</td>\n",
       "      <td>1494943400069</td>\n",
       "      <td>2017-05-16 14:00:20.836</td>\n",
       "      <td>2017-05-16 14:03:16.601</td>\n",
       "      <td>2017-05-16 14:00:26.335</td>\n",
       "      <td>Sit relaxed</td>\n",
       "      <td>-189.0</td>\n",
       "      <td>-101.0</td>\n",
       "      <td>-955.0</td>\n",
       "      <td>0.0</td>\n",
       "      <td>978.747669</td>\n",
       "      <td>21.252331</td>\n",
       "    </tr>\n",
       "    <tr>\n",
       "      <th>233</th>\n",
       "      <td>63</td>\n",
       "      <td>1494943400069</td>\n",
       "      <td>2017-05-16 14:00:20.836</td>\n",
       "      <td>2017-05-16 14:03:16.601</td>\n",
       "      <td>2017-05-16 14:00:26.355</td>\n",
       "      <td>Sit relaxed</td>\n",
       "      <td>-209.0</td>\n",
       "      <td>-80.0</td>\n",
       "      <td>-956.0</td>\n",
       "      <td>0.0</td>\n",
       "      <td>981.843674</td>\n",
       "      <td>18.156326</td>\n",
       "    </tr>\n",
       "    <tr>\n",
       "      <th>234</th>\n",
       "      <td>63</td>\n",
       "      <td>1494943400069</td>\n",
       "      <td>2017-05-16 14:00:20.836</td>\n",
       "      <td>2017-05-16 14:03:16.601</td>\n",
       "      <td>2017-05-16 14:00:26.375</td>\n",
       "      <td>Sit relaxed</td>\n",
       "      <td>-186.0</td>\n",
       "      <td>-70.0</td>\n",
       "      <td>-958.0</td>\n",
       "      <td>0.0</td>\n",
       "      <td>978.396648</td>\n",
       "      <td>21.603352</td>\n",
       "    </tr>\n",
       "    <tr>\n",
       "      <th>235</th>\n",
       "      <td>63</td>\n",
       "      <td>1494943400069</td>\n",
       "      <td>2017-05-16 14:00:20.836</td>\n",
       "      <td>2017-05-16 14:03:16.601</td>\n",
       "      <td>2017-05-16 14:00:26.395</td>\n",
       "      <td>Sit relaxed</td>\n",
       "      <td>-202.0</td>\n",
       "      <td>-73.0</td>\n",
       "      <td>-967.0</td>\n",
       "      <td>0.0</td>\n",
       "      <td>990.566505</td>\n",
       "      <td>9.433495</td>\n",
       "    </tr>\n",
       "    <tr>\n",
       "      <th>236</th>\n",
       "      <td>63</td>\n",
       "      <td>1494943400069</td>\n",
       "      <td>2017-05-16 14:00:20.836</td>\n",
       "      <td>2017-05-16 14:03:16.601</td>\n",
       "      <td>2017-05-16 14:00:26.415</td>\n",
       "      <td>Sit relaxed</td>\n",
       "      <td>-219.0</td>\n",
       "      <td>-133.0</td>\n",
       "      <td>-944.0</td>\n",
       "      <td>0.0</td>\n",
       "      <td>978.154385</td>\n",
       "      <td>21.845615</td>\n",
       "    </tr>\n",
       "    <tr>\n",
       "      <th>237</th>\n",
       "      <td>63</td>\n",
       "      <td>1494943400069</td>\n",
       "      <td>2017-05-16 14:00:20.836</td>\n",
       "      <td>2017-05-16 14:03:16.601</td>\n",
       "      <td>2017-05-16 14:00:26.435</td>\n",
       "      <td>Sit relaxed</td>\n",
       "      <td>-185.0</td>\n",
       "      <td>-124.0</td>\n",
       "      <td>-939.0</td>\n",
       "      <td>0.0</td>\n",
       "      <td>965.050258</td>\n",
       "      <td>34.949742</td>\n",
       "    </tr>\n",
       "    <tr>\n",
       "      <th>238</th>\n",
       "      <td>63</td>\n",
       "      <td>1494943400069</td>\n",
       "      <td>2017-05-16 14:00:20.836</td>\n",
       "      <td>2017-05-16 14:03:16.601</td>\n",
       "      <td>2017-05-16 14:00:26.455</td>\n",
       "      <td>Sit relaxed</td>\n",
       "      <td>-245.0</td>\n",
       "      <td>-150.0</td>\n",
       "      <td>-957.0</td>\n",
       "      <td>0.0</td>\n",
       "      <td>999.186669</td>\n",
       "      <td>0.813331</td>\n",
       "    </tr>\n",
       "    <tr>\n",
       "      <th>239</th>\n",
       "      <td>63</td>\n",
       "      <td>1494943400069</td>\n",
       "      <td>2017-05-16 14:00:20.836</td>\n",
       "      <td>2017-05-16 14:03:16.601</td>\n",
       "      <td>2017-05-16 14:00:26.475</td>\n",
       "      <td>Sit relaxed</td>\n",
       "      <td>-241.0</td>\n",
       "      <td>-81.0</td>\n",
       "      <td>-978.0</td>\n",
       "      <td>0.0</td>\n",
       "      <td>1010.507793</td>\n",
       "      <td>10.507793</td>\n",
       "    </tr>\n",
       "    <tr>\n",
       "      <th>240</th>\n",
       "      <td>63</td>\n",
       "      <td>1494943400069</td>\n",
       "      <td>2017-05-16 14:00:20.836</td>\n",
       "      <td>2017-05-16 14:03:16.601</td>\n",
       "      <td>2017-05-16 14:00:26.495</td>\n",
       "      <td>Sit relaxed</td>\n",
       "      <td>-189.0</td>\n",
       "      <td>-64.0</td>\n",
       "      <td>-1021.0</td>\n",
       "      <td>0.0</td>\n",
       "      <td>1040.316298</td>\n",
       "      <td>40.316298</td>\n",
       "    </tr>\n",
       "    <tr>\n",
       "      <th>241</th>\n",
       "      <td>63</td>\n",
       "      <td>1494943400069</td>\n",
       "      <td>2017-05-16 14:00:20.836</td>\n",
       "      <td>2017-05-16 14:03:16.601</td>\n",
       "      <td>2017-05-16 14:00:26.515</td>\n",
       "      <td>Sit relaxed</td>\n",
       "      <td>-230.0</td>\n",
       "      <td>-95.0</td>\n",
       "      <td>-1027.0</td>\n",
       "      <td>0.0</td>\n",
       "      <td>1056.718506</td>\n",
       "      <td>56.718506</td>\n",
       "    </tr>\n",
       "    <tr>\n",
       "      <th>242</th>\n",
       "      <td>63</td>\n",
       "      <td>1494943400069</td>\n",
       "      <td>2017-05-16 14:00:20.836</td>\n",
       "      <td>2017-05-16 14:03:16.601</td>\n",
       "      <td>2017-05-16 14:00:26.535</td>\n",
       "      <td>Sit relaxed</td>\n",
       "      <td>-199.0</td>\n",
       "      <td>-124.0</td>\n",
       "      <td>-1021.0</td>\n",
       "      <td>0.0</td>\n",
       "      <td>1047.577205</td>\n",
       "      <td>47.577205</td>\n",
       "    </tr>\n",
       "    <tr>\n",
       "      <th>243</th>\n",
       "      <td>63</td>\n",
       "      <td>1494943400069</td>\n",
       "      <td>2017-05-16 14:00:20.836</td>\n",
       "      <td>2017-05-16 14:03:16.601</td>\n",
       "      <td>2017-05-16 14:00:26.555</td>\n",
       "      <td>Sit relaxed</td>\n",
       "      <td>-186.0</td>\n",
       "      <td>-100.0</td>\n",
       "      <td>-973.0</td>\n",
       "      <td>0.0</td>\n",
       "      <td>995.653052</td>\n",
       "      <td>4.346948</td>\n",
       "    </tr>\n",
       "    <tr>\n",
       "      <th>244</th>\n",
       "      <td>63</td>\n",
       "      <td>1494943400069</td>\n",
       "      <td>2017-05-16 14:00:20.836</td>\n",
       "      <td>2017-05-16 14:03:16.601</td>\n",
       "      <td>2017-05-16 14:00:26.575</td>\n",
       "      <td>Sit relaxed</td>\n",
       "      <td>-186.0</td>\n",
       "      <td>-82.0</td>\n",
       "      <td>-949.0</td>\n",
       "      <td>0.0</td>\n",
       "      <td>970.526146</td>\n",
       "      <td>29.473854</td>\n",
       "    </tr>\n",
       "    <tr>\n",
       "      <th>245</th>\n",
       "      <td>63</td>\n",
       "      <td>1494943400069</td>\n",
       "      <td>2017-05-16 14:00:20.836</td>\n",
       "      <td>2017-05-16 14:03:16.601</td>\n",
       "      <td>2017-05-16 14:00:26.603</td>\n",
       "      <td>Sit relaxed</td>\n",
       "      <td>-207.0</td>\n",
       "      <td>-122.0</td>\n",
       "      <td>-927.0</td>\n",
       "      <td>0.0</td>\n",
       "      <td>957.633542</td>\n",
       "      <td>42.366458</td>\n",
       "    </tr>\n",
       "    <tr>\n",
       "      <th>246</th>\n",
       "      <td>63</td>\n",
       "      <td>1494943400069</td>\n",
       "      <td>2017-05-16 14:00:20.836</td>\n",
       "      <td>2017-05-16 14:03:16.601</td>\n",
       "      <td>2017-05-16 14:00:26.623</td>\n",
       "      <td>Sit relaxed</td>\n",
       "      <td>-202.0</td>\n",
       "      <td>-118.0</td>\n",
       "      <td>-939.0</td>\n",
       "      <td>0.0</td>\n",
       "      <td>967.702950</td>\n",
       "      <td>32.297050</td>\n",
       "    </tr>\n",
       "    <tr>\n",
       "      <th>247</th>\n",
       "      <td>63</td>\n",
       "      <td>1494943400069</td>\n",
       "      <td>2017-05-16 14:00:20.836</td>\n",
       "      <td>2017-05-16 14:03:16.601</td>\n",
       "      <td>2017-05-16 14:00:26.643</td>\n",
       "      <td>Sit relaxed</td>\n",
       "      <td>-235.0</td>\n",
       "      <td>-109.0</td>\n",
       "      <td>-959.0</td>\n",
       "      <td>0.0</td>\n",
       "      <td>993.371532</td>\n",
       "      <td>6.628468</td>\n",
       "    </tr>\n",
       "    <tr>\n",
       "      <th>248</th>\n",
       "      <td>63</td>\n",
       "      <td>1494943400069</td>\n",
       "      <td>2017-05-16 14:00:20.836</td>\n",
       "      <td>2017-05-16 14:03:16.601</td>\n",
       "      <td>2017-05-16 14:00:26.663</td>\n",
       "      <td>Sit relaxed</td>\n",
       "      <td>-260.0</td>\n",
       "      <td>-108.0</td>\n",
       "      <td>-943.0</td>\n",
       "      <td>0.0</td>\n",
       "      <td>984.130581</td>\n",
       "      <td>15.869419</td>\n",
       "    </tr>\n",
       "    <tr>\n",
       "      <th>249</th>\n",
       "      <td>63</td>\n",
       "      <td>1494943400069</td>\n",
       "      <td>2017-05-16 14:00:20.836</td>\n",
       "      <td>2017-05-16 14:03:16.601</td>\n",
       "      <td>2017-05-16 14:00:26.683</td>\n",
       "      <td>Sit relaxed</td>\n",
       "      <td>-229.0</td>\n",
       "      <td>-130.0</td>\n",
       "      <td>-948.0</td>\n",
       "      <td>0.0</td>\n",
       "      <td>983.892779</td>\n",
       "      <td>16.107221</td>\n",
       "    </tr>\n",
       "    <tr>\n",
       "      <th>250</th>\n",
       "      <td>63</td>\n",
       "      <td>1494943400069</td>\n",
       "      <td>2017-05-16 14:00:20.836</td>\n",
       "      <td>2017-05-16 14:03:16.601</td>\n",
       "      <td>2017-05-16 14:00:26.703</td>\n",
       "      <td>Sit relaxed</td>\n",
       "      <td>-186.0</td>\n",
       "      <td>-87.0</td>\n",
       "      <td>-990.0</td>\n",
       "      <td>0.0</td>\n",
       "      <td>1011.071214</td>\n",
       "      <td>11.071214</td>\n",
       "    </tr>\n",
       "    <tr>\n",
       "      <th>251</th>\n",
       "      <td>63</td>\n",
       "      <td>1494943400069</td>\n",
       "      <td>2017-05-16 14:00:20.836</td>\n",
       "      <td>2017-05-16 14:03:16.601</td>\n",
       "      <td>2017-05-16 14:00:26.723</td>\n",
       "      <td>Sit relaxed</td>\n",
       "      <td>-201.0</td>\n",
       "      <td>-70.0</td>\n",
       "      <td>-977.0</td>\n",
       "      <td>0.0</td>\n",
       "      <td>999.914996</td>\n",
       "      <td>0.085004</td>\n",
       "    </tr>\n",
       "    <tr>\n",
       "      <th>252</th>\n",
       "      <td>63</td>\n",
       "      <td>1494943400069</td>\n",
       "      <td>2017-05-16 14:00:20.836</td>\n",
       "      <td>2017-05-16 14:03:16.601</td>\n",
       "      <td>2017-05-16 14:00:26.743</td>\n",
       "      <td>Sit relaxed</td>\n",
       "      <td>-341.0</td>\n",
       "      <td>6.0</td>\n",
       "      <td>-902.0</td>\n",
       "      <td>0.0</td>\n",
       "      <td>964.324116</td>\n",
       "      <td>35.675884</td>\n",
       "    </tr>\n",
       "    <tr>\n",
       "      <th>253</th>\n",
       "      <td>63</td>\n",
       "      <td>1494943400069</td>\n",
       "      <td>2017-05-16 14:00:20.836</td>\n",
       "      <td>2017-05-16 14:03:16.601</td>\n",
       "      <td>2017-05-16 14:00:26.763</td>\n",
       "      <td>Sit relaxed</td>\n",
       "      <td>-118.0</td>\n",
       "      <td>16.0</td>\n",
       "      <td>-884.0</td>\n",
       "      <td>0.0</td>\n",
       "      <td>891.984305</td>\n",
       "      <td>108.015695</td>\n",
       "    </tr>\n",
       "    <tr>\n",
       "      <th>254</th>\n",
       "      <td>63</td>\n",
       "      <td>1494943400069</td>\n",
       "      <td>2017-05-16 14:00:20.836</td>\n",
       "      <td>2017-05-16 14:03:16.601</td>\n",
       "      <td>2017-05-16 14:00:26.783</td>\n",
       "      <td>Sit relaxed</td>\n",
       "      <td>-284.0</td>\n",
       "      <td>-246.0</td>\n",
       "      <td>-947.0</td>\n",
       "      <td>0.0</td>\n",
       "      <td>1018.813526</td>\n",
       "      <td>18.813526</td>\n",
       "    </tr>\n",
       "    <tr>\n",
       "      <th>255</th>\n",
       "      <td>63</td>\n",
       "      <td>1494943400069</td>\n",
       "      <td>2017-05-16 14:00:20.836</td>\n",
       "      <td>2017-05-16 14:03:16.601</td>\n",
       "      <td>2017-05-16 14:00:26.803</td>\n",
       "      <td>Sit relaxed</td>\n",
       "      <td>-192.0</td>\n",
       "      <td>-186.0</td>\n",
       "      <td>-883.0</td>\n",
       "      <td>0.0</td>\n",
       "      <td>922.577368</td>\n",
       "      <td>77.422632</td>\n",
       "    </tr>\n",
       "    <tr>\n",
       "      <th>256</th>\n",
       "      <td>63</td>\n",
       "      <td>1494943400069</td>\n",
       "      <td>2017-05-16 14:00:20.836</td>\n",
       "      <td>2017-05-16 14:03:16.601</td>\n",
       "      <td>2017-05-16 14:00:26.823</td>\n",
       "      <td>Sit relaxed</td>\n",
       "      <td>-248.0</td>\n",
       "      <td>-83.0</td>\n",
       "      <td>-873.0</td>\n",
       "      <td>0.0</td>\n",
       "      <td>911.329798</td>\n",
       "      <td>88.670202</td>\n",
       "    </tr>\n",
       "    <tr>\n",
       "      <th>257</th>\n",
       "      <td>63</td>\n",
       "      <td>1494943400069</td>\n",
       "      <td>2017-05-16 14:00:20.836</td>\n",
       "      <td>2017-05-16 14:03:16.601</td>\n",
       "      <td>2017-05-16 14:00:26.843</td>\n",
       "      <td>Sit relaxed</td>\n",
       "      <td>-206.0</td>\n",
       "      <td>-199.0</td>\n",
       "      <td>-801.0</td>\n",
       "      <td>0.0</td>\n",
       "      <td>850.669148</td>\n",
       "      <td>149.330852</td>\n",
       "    </tr>\n",
       "    <tr>\n",
       "      <th>258</th>\n",
       "      <td>63</td>\n",
       "      <td>1494943400069</td>\n",
       "      <td>2017-05-16 14:00:20.836</td>\n",
       "      <td>2017-05-16 14:03:16.601</td>\n",
       "      <td>2017-05-16 14:00:26.863</td>\n",
       "      <td>Sit relaxed</td>\n",
       "      <td>-255.0</td>\n",
       "      <td>-192.0</td>\n",
       "      <td>-792.0</td>\n",
       "      <td>0.0</td>\n",
       "      <td>853.904561</td>\n",
       "      <td>146.095439</td>\n",
       "    </tr>\n",
       "    <tr>\n",
       "      <th>259</th>\n",
       "      <td>63</td>\n",
       "      <td>1494943400069</td>\n",
       "      <td>2017-05-16 14:00:20.836</td>\n",
       "      <td>2017-05-16 14:03:16.601</td>\n",
       "      <td>2017-05-16 14:00:26.883</td>\n",
       "      <td>Sit relaxed</td>\n",
       "      <td>-281.0</td>\n",
       "      <td>-276.0</td>\n",
       "      <td>-706.0</td>\n",
       "      <td>0.0</td>\n",
       "      <td>808.438619</td>\n",
       "      <td>191.561381</td>\n",
       "    </tr>\n",
       "    <tr>\n",
       "      <th>260</th>\n",
       "      <td>63</td>\n",
       "      <td>1494943400069</td>\n",
       "      <td>2017-05-16 14:00:20.836</td>\n",
       "      <td>2017-05-16 14:03:16.601</td>\n",
       "      <td>2017-05-16 14:00:26.903</td>\n",
       "      <td>Sit relaxed</td>\n",
       "      <td>-311.0</td>\n",
       "      <td>-343.0</td>\n",
       "      <td>-618.0</td>\n",
       "      <td>0.0</td>\n",
       "      <td>772.200751</td>\n",
       "      <td>227.799249</td>\n",
       "    </tr>\n",
       "    <tr>\n",
       "      <th>261</th>\n",
       "      <td>63</td>\n",
       "      <td>1494943400069</td>\n",
       "      <td>2017-05-16 14:00:20.836</td>\n",
       "      <td>2017-05-16 14:03:16.601</td>\n",
       "      <td>2017-05-16 14:00:26.923</td>\n",
       "      <td>Sit relaxed</td>\n",
       "      <td>-310.0</td>\n",
       "      <td>-434.0</td>\n",
       "      <td>-481.0</td>\n",
       "      <td>0.0</td>\n",
       "      <td>718.204010</td>\n",
       "      <td>281.795990</td>\n",
       "    </tr>\n",
       "    <tr>\n",
       "      <th>262</th>\n",
       "      <td>63</td>\n",
       "      <td>1494943400069</td>\n",
       "      <td>2017-05-16 14:00:20.836</td>\n",
       "      <td>2017-05-16 14:03:16.601</td>\n",
       "      <td>2017-05-16 14:00:26.943</td>\n",
       "      <td>Sit relaxed</td>\n",
       "      <td>-291.0</td>\n",
       "      <td>-464.0</td>\n",
       "      <td>-317.0</td>\n",
       "      <td>0.0</td>\n",
       "      <td>632.823830</td>\n",
       "      <td>367.176170</td>\n",
       "    </tr>\n",
       "    <tr>\n",
       "      <th>263</th>\n",
       "      <td>63</td>\n",
       "      <td>1494943400069</td>\n",
       "      <td>2017-05-16 14:00:20.836</td>\n",
       "      <td>2017-05-16 14:03:16.601</td>\n",
       "      <td>2017-05-16 14:00:26.963</td>\n",
       "      <td>Sit relaxed</td>\n",
       "      <td>-313.0</td>\n",
       "      <td>-379.0</td>\n",
       "      <td>-292.0</td>\n",
       "      <td>0.0</td>\n",
       "      <td>571.728957</td>\n",
       "      <td>428.271043</td>\n",
       "    </tr>\n",
       "    <tr>\n",
       "      <th>264</th>\n",
       "      <td>63</td>\n",
       "      <td>1494943400069</td>\n",
       "      <td>2017-05-16 14:00:20.836</td>\n",
       "      <td>2017-05-16 14:03:16.601</td>\n",
       "      <td>2017-05-16 14:00:26.983</td>\n",
       "      <td>Sit relaxed</td>\n",
       "      <td>-382.0</td>\n",
       "      <td>-225.0</td>\n",
       "      <td>-343.0</td>\n",
       "      <td>0.0</td>\n",
       "      <td>560.533674</td>\n",
       "      <td>439.466326</td>\n",
       "    </tr>\n",
       "    <tr>\n",
       "      <th>265</th>\n",
       "      <td>63</td>\n",
       "      <td>1494943400069</td>\n",
       "      <td>2017-05-16 14:00:20.836</td>\n",
       "      <td>2017-05-16 14:03:16.601</td>\n",
       "      <td>2017-05-16 14:00:27.003</td>\n",
       "      <td>Sit relaxed</td>\n",
       "      <td>-482.0</td>\n",
       "      <td>12.0</td>\n",
       "      <td>-453.0</td>\n",
       "      <td>0.0</td>\n",
       "      <td>661.571614</td>\n",
       "      <td>338.428386</td>\n",
       "    </tr>\n",
       "  </tbody>\n",
       "</table>\n",
       "</div>"
      ],
      "text/plain": [
       "     user_id  assessment_id        assessment_start          assessment_end  \\\n",
       "216       63  1494943400069 2017-05-16 14:00:20.836 2017-05-16 14:03:16.601   \n",
       "217       63  1494943400069 2017-05-16 14:00:20.836 2017-05-16 14:03:16.601   \n",
       "218       63  1494943400069 2017-05-16 14:00:20.836 2017-05-16 14:03:16.601   \n",
       "219       63  1494943400069 2017-05-16 14:00:20.836 2017-05-16 14:03:16.601   \n",
       "220       63  1494943400069 2017-05-16 14:00:20.836 2017-05-16 14:03:16.601   \n",
       "221       63  1494943400069 2017-05-16 14:00:20.836 2017-05-16 14:03:16.601   \n",
       "222       63  1494943400069 2017-05-16 14:00:20.836 2017-05-16 14:03:16.601   \n",
       "223       63  1494943400069 2017-05-16 14:00:20.836 2017-05-16 14:03:16.601   \n",
       "224       63  1494943400069 2017-05-16 14:00:20.836 2017-05-16 14:03:16.601   \n",
       "225       63  1494943400069 2017-05-16 14:00:20.836 2017-05-16 14:03:16.601   \n",
       "226       63  1494943400069 2017-05-16 14:00:20.836 2017-05-16 14:03:16.601   \n",
       "227       63  1494943400069 2017-05-16 14:00:20.836 2017-05-16 14:03:16.601   \n",
       "228       63  1494943400069 2017-05-16 14:00:20.836 2017-05-16 14:03:16.601   \n",
       "229       63  1494943400069 2017-05-16 14:00:20.836 2017-05-16 14:03:16.601   \n",
       "230       63  1494943400069 2017-05-16 14:00:20.836 2017-05-16 14:03:16.601   \n",
       "231       63  1494943400069 2017-05-16 14:00:20.836 2017-05-16 14:03:16.601   \n",
       "232       63  1494943400069 2017-05-16 14:00:20.836 2017-05-16 14:03:16.601   \n",
       "233       63  1494943400069 2017-05-16 14:00:20.836 2017-05-16 14:03:16.601   \n",
       "234       63  1494943400069 2017-05-16 14:00:20.836 2017-05-16 14:03:16.601   \n",
       "235       63  1494943400069 2017-05-16 14:00:20.836 2017-05-16 14:03:16.601   \n",
       "236       63  1494943400069 2017-05-16 14:00:20.836 2017-05-16 14:03:16.601   \n",
       "237       63  1494943400069 2017-05-16 14:00:20.836 2017-05-16 14:03:16.601   \n",
       "238       63  1494943400069 2017-05-16 14:00:20.836 2017-05-16 14:03:16.601   \n",
       "239       63  1494943400069 2017-05-16 14:00:20.836 2017-05-16 14:03:16.601   \n",
       "240       63  1494943400069 2017-05-16 14:00:20.836 2017-05-16 14:03:16.601   \n",
       "241       63  1494943400069 2017-05-16 14:00:20.836 2017-05-16 14:03:16.601   \n",
       "242       63  1494943400069 2017-05-16 14:00:20.836 2017-05-16 14:03:16.601   \n",
       "243       63  1494943400069 2017-05-16 14:00:20.836 2017-05-16 14:03:16.601   \n",
       "244       63  1494943400069 2017-05-16 14:00:20.836 2017-05-16 14:03:16.601   \n",
       "245       63  1494943400069 2017-05-16 14:00:20.836 2017-05-16 14:03:16.601   \n",
       "246       63  1494943400069 2017-05-16 14:00:20.836 2017-05-16 14:03:16.601   \n",
       "247       63  1494943400069 2017-05-16 14:00:20.836 2017-05-16 14:03:16.601   \n",
       "248       63  1494943400069 2017-05-16 14:00:20.836 2017-05-16 14:03:16.601   \n",
       "249       63  1494943400069 2017-05-16 14:00:20.836 2017-05-16 14:03:16.601   \n",
       "250       63  1494943400069 2017-05-16 14:00:20.836 2017-05-16 14:03:16.601   \n",
       "251       63  1494943400069 2017-05-16 14:00:20.836 2017-05-16 14:03:16.601   \n",
       "252       63  1494943400069 2017-05-16 14:00:20.836 2017-05-16 14:03:16.601   \n",
       "253       63  1494943400069 2017-05-16 14:00:20.836 2017-05-16 14:03:16.601   \n",
       "254       63  1494943400069 2017-05-16 14:00:20.836 2017-05-16 14:03:16.601   \n",
       "255       63  1494943400069 2017-05-16 14:00:20.836 2017-05-16 14:03:16.601   \n",
       "256       63  1494943400069 2017-05-16 14:00:20.836 2017-05-16 14:03:16.601   \n",
       "257       63  1494943400069 2017-05-16 14:00:20.836 2017-05-16 14:03:16.601   \n",
       "258       63  1494943400069 2017-05-16 14:00:20.836 2017-05-16 14:03:16.601   \n",
       "259       63  1494943400069 2017-05-16 14:00:20.836 2017-05-16 14:03:16.601   \n",
       "260       63  1494943400069 2017-05-16 14:00:20.836 2017-05-16 14:03:16.601   \n",
       "261       63  1494943400069 2017-05-16 14:00:20.836 2017-05-16 14:03:16.601   \n",
       "262       63  1494943400069 2017-05-16 14:00:20.836 2017-05-16 14:03:16.601   \n",
       "263       63  1494943400069 2017-05-16 14:00:20.836 2017-05-16 14:03:16.601   \n",
       "264       63  1494943400069 2017-05-16 14:00:20.836 2017-05-16 14:03:16.601   \n",
       "265       63  1494943400069 2017-05-16 14:00:20.836 2017-05-16 14:03:16.601   \n",
       "\n",
       "                  timestamp    step_name      x      y       z  \\\n",
       "216 2017-05-16 14:00:26.007  Sit relaxed -180.0  -53.0  -973.0   \n",
       "217 2017-05-16 14:00:26.027  Sit relaxed -247.0  -71.0  -978.0   \n",
       "218 2017-05-16 14:00:26.047  Sit relaxed -254.0  -52.0 -1005.0   \n",
       "219 2017-05-16 14:00:26.067  Sit relaxed -209.0  -31.0  -993.0   \n",
       "220 2017-05-16 14:00:26.095  Sit relaxed  -57.0 -340.0  -967.0   \n",
       "221 2017-05-16 14:00:26.115  Sit relaxed -212.0  -69.0  -975.0   \n",
       "222 2017-05-16 14:00:26.135  Sit relaxed -174.0  -70.0  -949.0   \n",
       "223 2017-05-16 14:00:26.155  Sit relaxed -153.0  -65.0  -938.0   \n",
       "224 2017-05-16 14:00:26.175  Sit relaxed -138.0  -58.0  -886.0   \n",
       "225 2017-05-16 14:00:26.195  Sit relaxed -111.0 -137.0  -888.0   \n",
       "226 2017-05-16 14:00:26.215  Sit relaxed -152.0  -96.0  -923.0   \n",
       "227 2017-05-16 14:00:26.235  Sit relaxed -164.0  -96.0  -956.0   \n",
       "228 2017-05-16 14:00:26.255  Sit relaxed -187.0  -78.0  -968.0   \n",
       "229 2017-05-16 14:00:26.275  Sit relaxed -183.0 -111.0  -958.0   \n",
       "230 2017-05-16 14:00:26.295  Sit relaxed -169.0 -105.0  -937.0   \n",
       "231 2017-05-16 14:00:26.315  Sit relaxed -163.0 -101.0  -957.0   \n",
       "232 2017-05-16 14:00:26.335  Sit relaxed -189.0 -101.0  -955.0   \n",
       "233 2017-05-16 14:00:26.355  Sit relaxed -209.0  -80.0  -956.0   \n",
       "234 2017-05-16 14:00:26.375  Sit relaxed -186.0  -70.0  -958.0   \n",
       "235 2017-05-16 14:00:26.395  Sit relaxed -202.0  -73.0  -967.0   \n",
       "236 2017-05-16 14:00:26.415  Sit relaxed -219.0 -133.0  -944.0   \n",
       "237 2017-05-16 14:00:26.435  Sit relaxed -185.0 -124.0  -939.0   \n",
       "238 2017-05-16 14:00:26.455  Sit relaxed -245.0 -150.0  -957.0   \n",
       "239 2017-05-16 14:00:26.475  Sit relaxed -241.0  -81.0  -978.0   \n",
       "240 2017-05-16 14:00:26.495  Sit relaxed -189.0  -64.0 -1021.0   \n",
       "241 2017-05-16 14:00:26.515  Sit relaxed -230.0  -95.0 -1027.0   \n",
       "242 2017-05-16 14:00:26.535  Sit relaxed -199.0 -124.0 -1021.0   \n",
       "243 2017-05-16 14:00:26.555  Sit relaxed -186.0 -100.0  -973.0   \n",
       "244 2017-05-16 14:00:26.575  Sit relaxed -186.0  -82.0  -949.0   \n",
       "245 2017-05-16 14:00:26.603  Sit relaxed -207.0 -122.0  -927.0   \n",
       "246 2017-05-16 14:00:26.623  Sit relaxed -202.0 -118.0  -939.0   \n",
       "247 2017-05-16 14:00:26.643  Sit relaxed -235.0 -109.0  -959.0   \n",
       "248 2017-05-16 14:00:26.663  Sit relaxed -260.0 -108.0  -943.0   \n",
       "249 2017-05-16 14:00:26.683  Sit relaxed -229.0 -130.0  -948.0   \n",
       "250 2017-05-16 14:00:26.703  Sit relaxed -186.0  -87.0  -990.0   \n",
       "251 2017-05-16 14:00:26.723  Sit relaxed -201.0  -70.0  -977.0   \n",
       "252 2017-05-16 14:00:26.743  Sit relaxed -341.0    6.0  -902.0   \n",
       "253 2017-05-16 14:00:26.763  Sit relaxed -118.0   16.0  -884.0   \n",
       "254 2017-05-16 14:00:26.783  Sit relaxed -284.0 -246.0  -947.0   \n",
       "255 2017-05-16 14:00:26.803  Sit relaxed -192.0 -186.0  -883.0   \n",
       "256 2017-05-16 14:00:26.823  Sit relaxed -248.0  -83.0  -873.0   \n",
       "257 2017-05-16 14:00:26.843  Sit relaxed -206.0 -199.0  -801.0   \n",
       "258 2017-05-16 14:00:26.863  Sit relaxed -255.0 -192.0  -792.0   \n",
       "259 2017-05-16 14:00:26.883  Sit relaxed -281.0 -276.0  -706.0   \n",
       "260 2017-05-16 14:00:26.903  Sit relaxed -311.0 -343.0  -618.0   \n",
       "261 2017-05-16 14:00:26.923  Sit relaxed -310.0 -434.0  -481.0   \n",
       "262 2017-05-16 14:00:26.943  Sit relaxed -291.0 -464.0  -317.0   \n",
       "263 2017-05-16 14:00:26.963  Sit relaxed -313.0 -379.0  -292.0   \n",
       "264 2017-05-16 14:00:26.983  Sit relaxed -382.0 -225.0  -343.0   \n",
       "265 2017-05-16 14:00:27.003  Sit relaxed -482.0   12.0  -453.0   \n",
       "\n",
       "     patient_report_value     acc_norm  acc_abs_delta  \n",
       "216                   0.0   990.927848       9.072152  \n",
       "217                   0.0  1011.204233      11.204233  \n",
       "218                   0.0  1037.904138      37.904138  \n",
       "219                   0.0  1015.229531      15.229531  \n",
       "220                   0.0  1026.614826      26.614826  \n",
       "221                   0.0  1000.164986       0.164986  \n",
       "222                   0.0   967.355674      32.644326  \n",
       "223                   0.0   952.616397      47.383603  \n",
       "224                   0.0   898.556620     101.443380  \n",
       "225                   0.0   905.336402      94.663598  \n",
       "226                   0.0   940.345149      59.654851  \n",
       "227                   0.0   974.704058      25.295942  \n",
       "228                   0.0   988.977755      11.022245  \n",
       "229                   0.0   981.618052      18.381948  \n",
       "230                   0.0   957.890912      42.109088  \n",
       "231                   0.0   976.022028      23.977972  \n",
       "232                   0.0   978.747669      21.252331  \n",
       "233                   0.0   981.843674      18.156326  \n",
       "234                   0.0   978.396648      21.603352  \n",
       "235                   0.0   990.566505       9.433495  \n",
       "236                   0.0   978.154385      21.845615  \n",
       "237                   0.0   965.050258      34.949742  \n",
       "238                   0.0   999.186669       0.813331  \n",
       "239                   0.0  1010.507793      10.507793  \n",
       "240                   0.0  1040.316298      40.316298  \n",
       "241                   0.0  1056.718506      56.718506  \n",
       "242                   0.0  1047.577205      47.577205  \n",
       "243                   0.0   995.653052       4.346948  \n",
       "244                   0.0   970.526146      29.473854  \n",
       "245                   0.0   957.633542      42.366458  \n",
       "246                   0.0   967.702950      32.297050  \n",
       "247                   0.0   993.371532       6.628468  \n",
       "248                   0.0   984.130581      15.869419  \n",
       "249                   0.0   983.892779      16.107221  \n",
       "250                   0.0  1011.071214      11.071214  \n",
       "251                   0.0   999.914996       0.085004  \n",
       "252                   0.0   964.324116      35.675884  \n",
       "253                   0.0   891.984305     108.015695  \n",
       "254                   0.0  1018.813526      18.813526  \n",
       "255                   0.0   922.577368      77.422632  \n",
       "256                   0.0   911.329798      88.670202  \n",
       "257                   0.0   850.669148     149.330852  \n",
       "258                   0.0   853.904561     146.095439  \n",
       "259                   0.0   808.438619     191.561381  \n",
       "260                   0.0   772.200751     227.799249  \n",
       "261                   0.0   718.204010     281.795990  \n",
       "262                   0.0   632.823830     367.176170  \n",
       "263                   0.0   571.728957     428.271043  \n",
       "264                   0.0   560.533674     439.466326  \n",
       "265                   0.0   661.571614     338.428386  "
      ]
     },
     "execution_count": 53,
     "metadata": {},
     "output_type": "execute_result"
    }
   ],
   "source": [
    "home_steps_df[home_steps_df.patient_report_value==0].head(50)"
   ]
  },
  {
   "cell_type": "code",
   "execution_count": 70,
   "metadata": {
    "collapsed": true
   },
   "outputs": [],
   "source": [
    "reported_0 = 1494943400069\n",
    "reported_2 = 1487729046375"
   ]
  },
  {
   "cell_type": "code",
   "execution_count": 72,
   "metadata": {
    "collapsed": true
   },
   "outputs": [],
   "source": [
    "level_0_sit = home_steps_df[['x', 'y', 'z']][(home_steps_df.assessment_id==reported_0)\\\n",
    "                                     &(home_steps_df.step_name=='Sit relaxed')]\n",
    "level_0_stand = home_steps_df[['x', 'y', 'z']][(home_steps_df.assessment_id==reported_0)\\\n",
    "                                     &(home_steps_df.step_name=='Stand')]"
   ]
  },
  {
   "cell_type": "code",
   "execution_count": 71,
   "metadata": {
    "collapsed": true
   },
   "outputs": [],
   "source": [
    "level_2_sit = home_steps_df[['x', 'y', 'z']][(home_steps_df.assessment_id==reported_2)\\\n",
    "                                     &(home_steps_df.step_name=='Sit relaxed')]\n",
    "level_2_stand = home_steps_df[['x', 'y', 'z']][(home_steps_df.assessment_id==reported_2)\\\n",
    "                                     &(home_steps_df.step_name=='Stand')]"
   ]
  },
  {
   "cell_type": "code",
   "execution_count": 85,
   "metadata": {
    "scrolled": false
   },
   "outputs": [
    {
     "data": {
      "image/png": "[encoded data removed]",
      "text/plain": [
       "<matplotlib.figure.Figure at 0x29d818cad68>"
      ]
     },
     "metadata": {},
     "output_type": "display_data"
    },
    {
     "data": {
      "image/png": "[encoded data removed]",
      "text/plain": [
       "<matplotlib.figure.Figure at 0x29d838fe748>"
      ]
     },
     "metadata": {},
     "output_type": "display_data"
    }
   ],
   "source": [
    "plt.plot(np.asarray(level_0_sit))\n",
    "plt.show()\n",
    "plt.plot(np.asarray(level_0_stand))\n",
    "plt.show()"
   ]
  },
  {
   "cell_type": "code",
   "execution_count": 86,
   "metadata": {},
   "outputs": [
    {
     "data": {
      "image/png": "[encoded data removed]",
      "text/plain": [
       "<matplotlib.figure.Figure at 0x29d836382e8>"
      ]
     },
     "metadata": {},
     "output_type": "display_data"
    },
    {
     "data": {
      "image/png": "[encoded data removed]",
      "text/plain": [
       "<matplotlib.figure.Figure at 0x29d83560828>"
      ]
     },
     "metadata": {},
     "output_type": "display_data"
    }
   ],
   "source": [
    "plt.plot(np.asarray(level_2_sit))\n",
    "plt.show()\n",
    "plt.plot(np.asarray(level_2_stand))\n",
    "plt.show()"
   ]
  },
  {
   "cell_type": "markdown",
   "metadata": {
    "collapsed": true
   },
   "source": [
    "# Old stuff:"
   ]
  },
  {
   "cell_type": "code",
   "execution_count": 103,
   "metadata": {
    "collapsed": true
   },
   "outputs": [],
   "source": [
    "home_energy = home_df.total_energy\n",
    "reminders_energy = reminders_df.total_energy"
   ]
  },
  {
   "cell_type": "code",
   "execution_count": 72,
   "metadata": {},
   "outputs": [
    {
     "name": "stdout",
     "output_type": "stream",
     "text": [
      "Mean of energy during home assessments: 1.0267 [g]\n",
      "Mean of energy during home pre-reminder 5-minutes segments: 1.01933 [g]\n",
      "t-test: 124.582 \n",
      "p-value of: 0.000\n"
     ]
    }
   ],
   "source": [
    "print('Mean of energy during home assessments:', round(np.mean(home_energy)/1000, 5), '[g]')\n",
    "print('Mean of energy during home pre-reminder 5-minutes segments:', round(np.mean(reminders_energy)/1000, 5), '[g]')\n",
    "t, p = ttest_ind(home_energy, reminders_energy)\n",
    "print('t-test: %.3f \\np-value of: %.3f' % (t, p))"
   ]
  },
  {
   "cell_type": "code",
   "execution_count": 101,
   "metadata": {
    "collapsed": true
   },
   "outputs": [],
   "source": [
    "home_energy_per_user = home_df[['user_id', 'total_energy']].groupby('user_id').agg('mean')\n",
    "home_energy_per_user.columns = ['home_total_energy']\n",
    "home_energy_per_user.sort_index(inplace=True)\n",
    "# print('Per-user total energy during home assessments:', '\\n\\n' ,home_energy_per_user)\n",
    "reminders_energy_per_user = reminders_df[['user_id', 'total_energy']].groupby('user_id').agg('mean')\n",
    "reminders_energy_per_user.columns = ['reminders_total_energy']\n",
    "reminders_energy_per_user.sort_index(inplace=True)\n",
    "# print('\\n\\n' 'Per-user total energy during home pre-reminder 5-minutes segments:', '\\n\\n', reminders_energy_per_user)"
   ]
  },
  {
   "cell_type": "code",
   "execution_count": 102,
   "metadata": {
    "scrolled": false
   },
   "outputs": [
    {
     "data": {
      "text/html": [
       "<div>\n",
       "<style>\n",
       "    .dataframe thead tr:only-child th {\n",
       "        text-align: right;\n",
       "    }\n",
       "\n",
       "    .dataframe thead th {\n",
       "        text-align: left;\n",
       "    }\n",
       "\n",
       "    .dataframe tbody tr th {\n",
       "        vertical-align: top;\n",
       "    }\n",
       "</style>\n",
       "<table border=\"1\" class=\"dataframe\">\n",
       "  <thead>\n",
       "    <tr style=\"text-align: right;\">\n",
       "      <th></th>\n",
       "      <th>home_total_energy</th>\n",
       "      <th>reminders_total_energy</th>\n",
       "      <th>assessments minus pre-reminders</th>\n",
       "    </tr>\n",
       "    <tr>\n",
       "      <th>user_id</th>\n",
       "      <th></th>\n",
       "      <th></th>\n",
       "      <th></th>\n",
       "    </tr>\n",
       "  </thead>\n",
       "  <tbody>\n",
       "    <tr>\n",
       "      <th>8</th>\n",
       "      <td>990.804685</td>\n",
       "      <td>1024.630529</td>\n",
       "      <td>-33.825844</td>\n",
       "    </tr>\n",
       "    <tr>\n",
       "      <th>25</th>\n",
       "      <td>1035.290394</td>\n",
       "      <td>NaN</td>\n",
       "      <td>NaN</td>\n",
       "    </tr>\n",
       "    <tr>\n",
       "      <th>45</th>\n",
       "      <td>1042.890194</td>\n",
       "      <td>1038.855375</td>\n",
       "      <td>4.034819</td>\n",
       "    </tr>\n",
       "    <tr>\n",
       "      <th>51</th>\n",
       "      <td>1040.430134</td>\n",
       "      <td>1042.615525</td>\n",
       "      <td>-2.185391</td>\n",
       "    </tr>\n",
       "    <tr>\n",
       "      <th>57</th>\n",
       "      <td>1012.427766</td>\n",
       "      <td>1014.745417</td>\n",
       "      <td>-2.317651</td>\n",
       "    </tr>\n",
       "    <tr>\n",
       "      <th>63</th>\n",
       "      <td>981.711292</td>\n",
       "      <td>1008.861375</td>\n",
       "      <td>-27.150083</td>\n",
       "    </tr>\n",
       "    <tr>\n",
       "      <th>74</th>\n",
       "      <td>1018.078452</td>\n",
       "      <td>1016.087288</td>\n",
       "      <td>1.991165</td>\n",
       "    </tr>\n",
       "    <tr>\n",
       "      <th>82</th>\n",
       "      <td>989.172767</td>\n",
       "      <td>1019.048141</td>\n",
       "      <td>-29.875374</td>\n",
       "    </tr>\n",
       "    <tr>\n",
       "      <th>94</th>\n",
       "      <td>1042.084485</td>\n",
       "      <td>1042.323606</td>\n",
       "      <td>-0.239121</td>\n",
       "    </tr>\n",
       "    <tr>\n",
       "      <th>108</th>\n",
       "      <td>998.097741</td>\n",
       "      <td>1031.401864</td>\n",
       "      <td>-33.304123</td>\n",
       "    </tr>\n",
       "  </tbody>\n",
       "</table>\n",
       "</div>"
      ],
      "text/plain": [
       "         home_total_energy  reminders_total_energy  \\\n",
       "user_id                                              \n",
       "8               990.804685             1024.630529   \n",
       "25             1035.290394                     NaN   \n",
       "45             1042.890194             1038.855375   \n",
       "51             1040.430134             1042.615525   \n",
       "57             1012.427766             1014.745417   \n",
       "63              981.711292             1008.861375   \n",
       "74             1018.078452             1016.087288   \n",
       "82              989.172767             1019.048141   \n",
       "94             1042.084485             1042.323606   \n",
       "108             998.097741             1031.401864   \n",
       "\n",
       "         assessments minus pre-reminders  \n",
       "user_id                                   \n",
       "8                             -33.825844  \n",
       "25                                   NaN  \n",
       "45                              4.034819  \n",
       "51                             -2.185391  \n",
       "57                             -2.317651  \n",
       "63                            -27.150083  \n",
       "74                              1.991165  \n",
       "82                            -29.875374  \n",
       "94                             -0.239121  \n",
       "108                           -33.304123  "
      ]
     },
     "execution_count": 102,
     "metadata": {},
     "output_type": "execute_result"
    }
   ],
   "source": [
    "both_energies = pd.concat([home_energy_per_user, reminders_energy_per_user], axis=1)\n",
    "both_energies['assessments minus pre-reminders'] = both_energies.home_total_energy - both_energies.reminders_total_energy\n",
    "both_energies"
   ]
  },
  {
   "cell_type": "code",
   "execution_count": 89,
   "metadata": {},
   "outputs": [],
   "source": [
    "clinic_steps_phone_big = pd.read_csv(data_path+'/test/clinic_steps_phone_big.csv')\n",
    "clinic_steps_phone_small = pd.read_csv(data_path+'/test/clinic_steps_phone_small.csv')\n",
    "home_steps_phone_big = pd.read_csv(data_path+'/test/home_steps_phone_big.csv')\n",
    "home_steps_phone_small = pd.read_csv(data_path+'/test/home_steps_phone_small.csv')"
   ]
  },
  {
   "cell_type": "code",
   "execution_count": null,
   "metadata": {
    "collapsed": true
   },
   "outputs": [],
   "source": []
  }
 ],
 "metadata": {
  "kernelspec": {
   "display_name": "Python 3",
   "language": "python",
   "name": "python3"
  },
  "language_info": {
   "codemirror_mode": {
    "name": "ipython",
    "version": 3
   },
   "file_extension": ".py",
   "mimetype": "text/x-python",
   "name": "python",
   "nbconvert_exporter": "python",
   "pygments_lexer": "ipython3",
   "version": "3.6.1"
  }
 },
 "nbformat": 4,
 "nbformat_minor": 2
}
