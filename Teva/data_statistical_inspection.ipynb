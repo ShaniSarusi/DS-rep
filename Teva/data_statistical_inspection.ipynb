{
 "cells": [
  {
   "cell_type": "markdown",
   "metadata": {},
   "source": [
    "# Imports:"
   ]
  },
  {
   "cell_type": "code",
   "execution_count": 1,
   "metadata": {
    "collapsed": true
   },
   "outputs": [],
   "source": [
    "import pandas as pd\n",
    "import numpy as np\n",
    "from scipy.stats.stats import pearsonr, ttest_ind\n",
    "from os.path import join, sep\n",
    "import Config as c\n",
    "valid_users = c.valid_users\n",
    "import matplotlib.pyplot as plt\n",
    "from matplotlib.ticker import MaxNLocator\n",
    "%matplotlib inline"
   ]
  },
  {
   "cell_type": "markdown",
   "metadata": {},
   "source": [
    "# Set working environment:"
   ]
  },
  {
   "cell_type": "code",
   "execution_count": 2,
   "metadata": {
    "collapsed": true
   },
   "outputs": [],
   "source": [
    "cloud = False\n",
    "if cloud:\n",
    "    data_path = c.cloud_data_path\n",
    "else:\n",
    "    data_path = c.data_path"
   ]
  },
  {
   "cell_type": "markdown",
   "metadata": {},
   "source": [
    "# Read Data:"
   ]
  },
  {
   "cell_type": "code",
   "execution_count": 16,
   "metadata": {},
   "outputs": [],
   "source": [
    "clinic_df = pd.read_pickle(join(data_path, 'clinic_processed_pickle.p'))\n",
    "clinic_steps_df = pd.read_pickle(join(data_path, 'clinic_steps_processed_pickle.p'))\n",
    "home_df = pd.read_pickle(join(data_path, 'home_processed_pickle.p'))\n",
    "home_steps_df = pd.read_pickle(join(data_path, 'home_steps_processed_pickle.p'))\n",
    "reminders_df = pd.read_pickle(join(c.data_path, 'reminder_five_minutes_processed_pickle.p'))"
   ]
  },
  {
   "cell_type": "markdown",
   "metadata": {},
   "source": [
    "# Set some important variables + define summary function:"
   ]
  },
  {
   "cell_type": "code",
   "execution_count": 4,
   "metadata": {
    "collapsed": true
   },
   "outputs": [],
   "source": [
    "clinic_patients_reports = clinic_df.patient_report_value\n",
    "clinic_clinicians_reports = clinic_df.clinician_report_value\n",
    "home_patients_reports = home_df.patient_report_value\n",
    "reminders_patients_reports = reminders_df.patient_report_value"
   ]
  },
  {
   "cell_type": "code",
   "execution_count": 5,
   "metadata": {
    "collapsed": true
   },
   "outputs": [],
   "source": [
    "statistics = ['median', 'mean', np.std]\n",
    "min_val = c.report_values[0]\n",
    "max_val = c.report_values[-1]"
   ]
  },
  {
   "cell_type": "code",
   "execution_count": 6,
   "metadata": {
    "collapsed": true
   },
   "outputs": [],
   "source": [
    "def plot_statistics_distribution(df, assessment_id, user_id, target_variable,\n",
    "                                 statistics, with_median = False,\n",
    "                                 min_val=min_val, max_val=max_val):\n",
    "    print('\\nNumber of assessments per user in this dataset:')\n",
    "    print(df[[user_id, assessment_id]].groupby(user_id)[assessment_id].nunique(), '\\n')\n",
    "    grouped_reports = df[[assessment_id, user_id, target_variable]].groupby(assessment_id, as_index=False).agg('mean')\n",
    "    reports = grouped_reports[target_variable].astype(int)\n",
    "    # Count report appearances for each possible value (even if didn't appear):\n",
    "    counts = []\n",
    "    for x in c.report_values:\n",
    "        x_count = len([r for r in reports if r==x])\n",
    "        counts.append(x_count)\n",
    "    # Plot:    \n",
    "    fig, ax = plt.subplots()\n",
    "    ax.bar(c.report_values, counts, width=0.4, align='center')\n",
    "    ax.yaxis.set_major_locator(MaxNLocator(integer=True))\n",
    "    ax.set_title('Histogram of %s across all records:' % (target_variable))\n",
    "    ax.set_xlabel('Reported Chorea')\n",
    "    ax.set_ylabel('Count')\n",
    "    plt.show()\n",
    "\n",
    "    \n",
    "    # Aggregate (mean, std, median) per patient, and plot all into one graph:\n",
    "    print('\\n')\n",
    "    per_user_stats = grouped_reports[[user_id, target_variable]].groupby(user_id, as_index=False).agg(statistics)\n",
    "    per_user_stats.columns = per_user_stats.columns.droplevel(0)\n",
    "    per_user_stats.reset_index(inplace=True)\n",
    "    \n",
    "    n_users = per_user_stats.shape[0]\n",
    "    x_locs = np.arange(1, n_users+1)\n",
    "    width = 0.3\n",
    "    fig = plt.figure(2)\n",
    "    ax = fig.add_subplot(111)\n",
    "    means = per_user_stats['mean']\n",
    "    stds = per_user_stats['std']\n",
    "    if with_median:\n",
    "        medians = per_user_stats['median']\n",
    "\n",
    "    rects1 = ax.bar(x_locs, means, width, color='g', yerr=stds)\n",
    "    if with_median:\n",
    "        rects2 = ax.bar(x_locs+width, medians, width, color='b')\n",
    "    \n",
    "    ax.set_title('Summary statistics per patient')\n",
    "    ax.set_xlabel('Patient ID')\n",
    "    if with_median:\n",
    "        ax.set_ylabel('Reported Chorea')\n",
    "        ax.set_xticks(x_locs+(0.5*width))\n",
    "        ax.legend((rects1[0], rects2[0]), ('Mean', 'Median'))\n",
    "    else:\n",
    "        ax.set_ylabel('Mean Reported Chorea')\n",
    "        ax.set_xticks(x_locs)\n",
    "#         ax.legend((rects1[0], rects2[0]), ('Mean', 'Median'))    \n",
    "    ax.set_xticklabels(per_user_stats['user_id'].astype(str))\n",
    "    plt.show()\n",
    "    \n",
    "    \n",
    "    # Calculate the fraction of 'positive' reports per patient, and plot:\n",
    "    print('\\n')\n",
    "    grouped_reports['binary_report'] = grouped_reports[target_variable]>=1\n",
    "    binary_avg = grouped_reports[[user_id, 'binary_report']].groupby(user_id, as_index=False).agg('mean')\n",
    "    binary_avg['user_id'] = binary_avg['user_id'].astype(str)\n",
    "\n",
    "    plt.figure(3)\n",
    "    plt.bar(x_locs, binary_avg['binary_report'])\n",
    "    plt.xticks(x_locs, binary_avg['user_id'])\n",
    "    plt.title('Fraction of positive (>1) reports per patient')\n",
    "    plt.xlabel('Patient ID')\n",
    "    plt.ylabel('Fraction of positive reports')\n",
    "    plt.show()\n",
    "    \n",
    "    return"
   ]
  },
  {
   "cell_type": "markdown",
   "metadata": {},
   "source": [
    "## Present reports from the lab, per assessment:"
   ]
  },
  {
   "cell_type": "code",
   "execution_count": 7,
   "metadata": {},
   "outputs": [
    {
     "data": {
      "text/html": [
       "<div>\n",
       "<style>\n",
       "    .dataframe thead tr:only-child th {\n",
       "        text-align: right;\n",
       "    }\n",
       "\n",
       "    .dataframe thead th {\n",
       "        text-align: left;\n",
       "    }\n",
       "\n",
       "    .dataframe tbody tr th {\n",
       "        vertical-align: top;\n",
       "    }\n",
       "</style>\n",
       "<table border=\"1\" class=\"dataframe\">\n",
       "  <thead>\n",
       "    <tr style=\"text-align: right;\">\n",
       "      <th></th>\n",
       "      <th>user_id</th>\n",
       "      <th>assessment_id</th>\n",
       "      <th>patient_report_value</th>\n",
       "      <th>clinician_report_value</th>\n",
       "    </tr>\n",
       "  </thead>\n",
       "  <tbody>\n",
       "    <tr>\n",
       "      <th>0</th>\n",
       "      <td>25</td>\n",
       "      <td>1487605701264</td>\n",
       "      <td>1.0</td>\n",
       "      <td>2.0</td>\n",
       "    </tr>\n",
       "    <tr>\n",
       "      <th>1</th>\n",
       "      <td>25</td>\n",
       "      <td>1493912424448</td>\n",
       "      <td>0.0</td>\n",
       "      <td>2.0</td>\n",
       "    </tr>\n",
       "    <tr>\n",
       "      <th>2</th>\n",
       "      <td>45</td>\n",
       "      <td>1490637319938</td>\n",
       "      <td>2.0</td>\n",
       "      <td>3.0</td>\n",
       "    </tr>\n",
       "    <tr>\n",
       "      <th>3</th>\n",
       "      <td>51</td>\n",
       "      <td>1490284781631</td>\n",
       "      <td>3.0</td>\n",
       "      <td>2.0</td>\n",
       "    </tr>\n",
       "    <tr>\n",
       "      <th>4</th>\n",
       "      <td>57</td>\n",
       "      <td>1481923232988</td>\n",
       "      <td>1.0</td>\n",
       "      <td>2.0</td>\n",
       "    </tr>\n",
       "    <tr>\n",
       "      <th>5</th>\n",
       "      <td>63</td>\n",
       "      <td>1493920652116</td>\n",
       "      <td>0.0</td>\n",
       "      <td>2.0</td>\n",
       "    </tr>\n",
       "    <tr>\n",
       "      <th>6</th>\n",
       "      <td>74</td>\n",
       "      <td>1485546321147</td>\n",
       "      <td>2.0</td>\n",
       "      <td>2.0</td>\n",
       "    </tr>\n",
       "    <tr>\n",
       "      <th>7</th>\n",
       "      <td>82</td>\n",
       "      <td>1489765988342</td>\n",
       "      <td>3.0</td>\n",
       "      <td>4.0</td>\n",
       "    </tr>\n",
       "    <tr>\n",
       "      <th>8</th>\n",
       "      <td>94</td>\n",
       "      <td>1493741957038</td>\n",
       "      <td>3.0</td>\n",
       "      <td>2.0</td>\n",
       "    </tr>\n",
       "    <tr>\n",
       "      <th>9</th>\n",
       "      <td>108</td>\n",
       "      <td>1488396181636</td>\n",
       "      <td>0.0</td>\n",
       "      <td>2.0</td>\n",
       "    </tr>\n",
       "  </tbody>\n",
       "</table>\n",
       "</div>"
      ],
      "text/plain": [
       "   user_id  assessment_id  patient_report_value  clinician_report_value\n",
       "0       25  1487605701264                   1.0                     2.0\n",
       "1       25  1493912424448                   0.0                     2.0\n",
       "2       45  1490637319938                   2.0                     3.0\n",
       "3       51  1490284781631                   3.0                     2.0\n",
       "4       57  1481923232988                   1.0                     2.0\n",
       "5       63  1493920652116                   0.0                     2.0\n",
       "6       74  1485546321147                   2.0                     2.0\n",
       "7       82  1489765988342                   3.0                     4.0\n",
       "8       94  1493741957038                   3.0                     2.0\n",
       "9      108  1488396181636                   0.0                     2.0"
      ]
     },
     "execution_count": 7,
     "metadata": {},
     "output_type": "execute_result"
    }
   ],
   "source": [
    "clinic_df[['user_id', 'assessment_id', 'patient_report_value', 'clinician_report_value']].\\\n",
    "groupby(['user_id', 'assessment_id'], as_index=False).agg('mean').head(15)"
   ]
  },
  {
   "cell_type": "markdown",
   "metadata": {},
   "source": [
    "## Inspect patients' reports for lab assessments:"
   ]
  },
  {
   "cell_type": "code",
   "execution_count": 8,
   "metadata": {
    "scrolled": false
   },
   "outputs": [
    {
     "name": "stdout",
     "output_type": "stream",
     "text": [
      "\n",
      "Number of assessments per user in this dataset:\n",
      "user_id\n",
      "25     2\n",
      "45     1\n",
      "51     1\n",
      "57     1\n",
      "63     1\n",
      "74     1\n",
      "82     1\n",
      "94     1\n",
      "108    1\n",
      "Name: assessment_id, dtype: int64 \n",
      "\n"
     ]
    },
    {
     "data": {
      "image/png": "[encoded data removed]",
      "text/plain": [
       "<matplotlib.figure.Figure at 0x1e8ceb00f28>"
      ]
     },
     "metadata": {},
     "output_type": "display_data"
    },
    {
     "name": "stdout",
     "output_type": "stream",
     "text": [
      "\n",
      "\n"
     ]
    },
    {
     "data": {
      "image/png": "[encoded data removed]",
      "text/plain": [
       "<matplotlib.figure.Figure at 0x1e88d99b320>"
      ]
     },
     "metadata": {},
     "output_type": "display_data"
    },
    {
     "name": "stdout",
     "output_type": "stream",
     "text": [
      "\n",
      "\n"
     ]
    },
    {
     "data": {
      "image/png": "[encoded data removed]",
      "text/plain": [
       "<matplotlib.figure.Figure at 0x1e88da1c1d0>"
      ]
     },
     "metadata": {},
     "output_type": "display_data"
    }
   ],
   "source": [
    "plot_statistics_distribution(clinic_df, assessment_id='assessment_id',\n",
    "                             user_id ='user_id',\n",
    "                             target_variable='patient_report_value', statistics=statistics)"
   ]
  },
  {
   "cell_type": "markdown",
   "metadata": {},
   "source": [
    "## Inspect clinicians' reports for lab assessments:"
   ]
  },
  {
   "cell_type": "code",
   "execution_count": 9,
   "metadata": {
    "scrolled": false
   },
   "outputs": [
    {
     "name": "stdout",
     "output_type": "stream",
     "text": [
      "\n",
      "Number of assessments per user in this dataset:\n",
      "user_id\n",
      "25     2\n",
      "45     1\n",
      "51     1\n",
      "57     1\n",
      "63     1\n",
      "74     1\n",
      "82     1\n",
      "94     1\n",
      "108    1\n",
      "Name: assessment_id, dtype: int64 \n",
      "\n"
     ]
    },
    {
     "data": {
      "image/png": "[encoded data removed]",
      "text/plain": [
       "<matplotlib.figure.Figure at 0x1e88da1c780>"
      ]
     },
     "metadata": {},
     "output_type": "display_data"
    },
    {
     "name": "stdout",
     "output_type": "stream",
     "text": [
      "\n",
      "\n"
     ]
    },
    {
     "data": {
      "image/png": "[encoded data removed]",
      "text/plain": [
       "<matplotlib.figure.Figure at 0x1e88dc2d0b8>"
      ]
     },
     "metadata": {},
     "output_type": "display_data"
    },
    {
     "name": "stdout",
     "output_type": "stream",
     "text": [
      "\n",
      "\n"
     ]
    },
    {
     "data": {
      "image/png": "[encoded data removed]",
      "text/plain": [
       "<matplotlib.figure.Figure at 0x1e88daca208>"
      ]
     },
     "metadata": {},
     "output_type": "display_data"
    }
   ],
   "source": [
    "plot_statistics_distribution(clinic_df, assessment_id='assessment_id',\n",
    "                             user_id ='user_id',\n",
    "                             target_variable='clinician_report_value', statistics=statistics)"
   ]
  },
  {
   "cell_type": "markdown",
   "metadata": {},
   "source": [
    "## Inspect patients' reports for home assessments:"
   ]
  },
  {
   "cell_type": "code",
   "execution_count": 10,
   "metadata": {
    "scrolled": false
   },
   "outputs": [
    {
     "name": "stdout",
     "output_type": "stream",
     "text": [
      "\n",
      "Number of assessments per user in this dataset:\n",
      "user_id\n",
      "8       25\n",
      "25      30\n",
      "45      56\n",
      "51      65\n",
      "57      99\n",
      "63      12\n",
      "74     134\n",
      "82      34\n",
      "94       8\n",
      "108     37\n",
      "Name: assessment_id, dtype: int64 \n",
      "\n"
     ]
    },
    {
     "data": {
      "image/png": "[encoded data removed]",
      "text/plain": [
       "<matplotlib.figure.Figure at 0x1e88dceb128>"
      ]
     },
     "metadata": {},
     "output_type": "display_data"
    },
    {
     "name": "stdout",
     "output_type": "stream",
     "text": [
      "\n",
      "\n"
     ]
    },
    {
     "data": {
      "image/png": "[encoded data removed]",
      "text/plain": [
       "<matplotlib.figure.Figure at 0x1e88dae4128>"
      ]
     },
     "metadata": {},
     "output_type": "display_data"
    },
    {
     "name": "stdout",
     "output_type": "stream",
     "text": [
      "\n",
      "\n"
     ]
    },
    {
     "data": {
      "image/png": "[encoded data removed]",
      "text/plain": [
       "<matplotlib.figure.Figure at 0x1e88daa8e80>"
      ]
     },
     "metadata": {},
     "output_type": "display_data"
    }
   ],
   "source": [
    "plot_statistics_distribution(home_df, assessment_id='assessment_id',\n",
    "                             user_id ='user_id',\n",
    "                             target_variable='patient_report_value', statistics=statistics)"
   ]
  },
  {
   "cell_type": "markdown",
   "metadata": {},
   "source": [
    "## Inspect patients' reports for pre-reminder 5-minutes segments:"
   ]
  },
  {
   "cell_type": "code",
   "execution_count": 11,
   "metadata": {
    "scrolled": false
   },
   "outputs": [
    {
     "name": "stdout",
     "output_type": "stream",
     "text": [
      "\n",
      "Number of assessments per user in this dataset:\n",
      "user_id\n",
      "8       48\n",
      "45       6\n",
      "51      35\n",
      "57     305\n",
      "63      28\n",
      "74     204\n",
      "82      73\n",
      "94      18\n",
      "108     78\n",
      "Name: reminder_id, dtype: int64 \n",
      "\n"
     ]
    },
    {
     "data": {
      "image/png": "[encoded data removed]",
      "text/plain": [
       "<matplotlib.figure.Figure at 0x1e88dd37278>"
      ]
     },
     "metadata": {},
     "output_type": "display_data"
    },
    {
     "name": "stdout",
     "output_type": "stream",
     "text": [
      "\n",
      "\n"
     ]
    },
    {
     "data": {
      "image/png": "[encoded data removed]",
      "text/plain": [
       "<matplotlib.figure.Figure at 0x1e88ddd9f60>"
      ]
     },
     "metadata": {},
     "output_type": "display_data"
    },
    {
     "name": "stdout",
     "output_type": "stream",
     "text": [
      "\n",
      "\n"
     ]
    },
    {
     "data": {
      "image/png": "[encoded data removed]",
      "text/plain": [
       "<matplotlib.figure.Figure at 0x1e88dda3518>"
      ]
     },
     "metadata": {},
     "output_type": "display_data"
    }
   ],
   "source": [
    "plot_statistics_distribution(reminders_df, assessment_id='reminder_id',\n",
    "                             user_id ='user_id',\n",
    "                             target_variable='patient_report_value', statistics=statistics)"
   ]
  },
  {
   "cell_type": "markdown",
   "metadata": {},
   "source": [
    "## Lab data: patients' reports vs. clinicians' reports:"
   ]
  },
  {
   "cell_type": "code",
   "execution_count": 12,
   "metadata": {},
   "outputs": [
    {
     "name": "stdout",
     "output_type": "stream",
     "text": [
      "   assessment_id  patient_report_value  clinician_report_value\n",
      "0  1481923232988                   1.0                     2.0\n",
      "1  1485546321147                   2.0                     2.0\n",
      "2  1487605701264                   1.0                     2.0\n",
      "3  1488396181636                   0.0                     2.0\n",
      "4  1489765988342                   3.0                     4.0\n",
      "5  1490284781631                   3.0                     2.0\n",
      "6  1490637319938                   2.0                     3.0\n",
      "7  1493741957038                   3.0                     2.0\n",
      "8  1493912424448                   0.0                     2.0\n",
      "9  1493920652116                   0.0                     2.0\n",
      "\n",
      "Correlation of: 0.454 \n",
      "p-value of: 0.188\n"
     ]
    },
    {
     "data": {
      "image/png": "[encoded data removed]",
      "text/plain": [
       "<matplotlib.figure.Figure at 0x1e88dd3f2b0>"
      ]
     },
     "metadata": {},
     "output_type": "display_data"
    }
   ],
   "source": [
    "report_per_assess = clinic_df[['assessment_id', 'patient_report_value', 'clinician_report_value']]\\\n",
    "                    .groupby('assessment_id', as_index=False).agg('mean')\n",
    "print(report_per_assess.head(15))\n",
    "patients = report_per_assess.patient_report_value\n",
    "clinicians = report_per_assess.clinician_report_value\n",
    "\n",
    "coef, p_val = pearsonr(patients, clinicians)\n",
    "print('\\n' 'Correlation of: %.3f \\np-value of: %.3f' % (coef, p_val))\n",
    "\n",
    "plt.scatter(patients, clinicians)\n",
    "plt.plot(np.unique(patients),\n",
    "         np.poly1d(np.polyfit(patients, clinicians, 1))(np.unique(patients)),\n",
    "         color='r')\n",
    "plt.xticks(range(5))\n",
    "plt.yticks(range(5))\n",
    "plt.xlabel('Patients Chorea reports')\n",
    "plt.ylabel('Clinicians Chorea reports')\n",
    "plt.show()"
   ]
  },
  {
   "cell_type": "markdown",
   "metadata": {},
   "source": [
    "## Patients' lab assessments reports vs. their (mean) home assessments reports:"
   ]
  },
  {
   "cell_type": "code",
   "execution_count": 13,
   "metadata": {},
   "outputs": [
    {
     "name": "stdout",
     "output_type": "stream",
     "text": [
      "\n",
      "Correlation of: 0.768 \n",
      "p-value of: 0.016\n"
     ]
    },
    {
     "data": {
      "image/png": "[encoded data removed]",
      "text/plain": [
       "<matplotlib.figure.Figure at 0x1e88db39d30>"
      ]
     },
     "metadata": {},
     "output_type": "display_data"
    }
   ],
   "source": [
    "clinic_report_per_user = clinic_df[['user_id', 'patient_report_value']].groupby('user_id').agg('mean')\n",
    "clinic_report_per_user.columns = ['clinic_mean_report']\n",
    "clinic_report_per_user.sort_index(inplace=True)\n",
    "\n",
    "home_report_per_user = home_df[['user_id', 'patient_report_value']].groupby('user_id').agg('mean')\n",
    "home_report_per_user.columns = ['home_mean_report']\n",
    "home_report_per_user.sort_index(inplace=True)\n",
    "\n",
    "both_reports = pd.concat([clinic_report_per_user, home_report_per_user], axis=1)\n",
    "both_reports.dropna(inplace=True)\n",
    "both_reports.reset_index(inplace=True)\n",
    "\n",
    "clinic_mean = both_reports.clinic_mean_report\n",
    "home_mean = both_reports.home_mean_report\n",
    "\n",
    "coef, p_val = pearsonr(clinic_mean, home_mean)\n",
    "print('\\n' 'Correlation of: %.3f \\np-value of: %.3f' % (coef, p_val))\n",
    "\n",
    "plt.scatter(clinic_mean, home_mean)\n",
    "plt.plot(np.unique(clinic_mean),\n",
    "         np.poly1d(np.polyfit(clinic_mean, home_mean, 1))(np.unique(clinic_mean)),\n",
    "         color='r')\n",
    "plt.xticks(range(5))\n",
    "plt.yticks(range(5))\n",
    "plt.xlabel('Mean Chorea level report at lab')\n",
    "plt.ylabel('Mean Chorea level report at home')\n",
    "plt.show()"
   ]
  },
  {
   "cell_type": "markdown",
   "metadata": {},
   "source": [
    "## Patients' mean home pre-reminders reports vs. their mean home assessments reports:"
   ]
  },
  {
   "cell_type": "code",
   "execution_count": 14,
   "metadata": {},
   "outputs": [
    {
     "name": "stdout",
     "output_type": "stream",
     "text": [
      "\n",
      "Correlation of: 0.994 \n",
      "p-value of: 0.000\n"
     ]
    },
    {
     "data": {
      "image/png": "[encoded data removed]",
      "text/plain": [
       "<matplotlib.figure.Figure at 0x1e88dcb7eb8>"
      ]
     },
     "metadata": {},
     "output_type": "display_data"
    }
   ],
   "source": [
    "home_unique_assessments = home_df[['user_id', 'assessment_id', 'patient_report_value']]\\\n",
    ".groupby(['user_id', 'assessment_id'], as_index=False).agg('mean')\n",
    "home_assess_patient_avg = home_unique_assessments[['user_id', 'patient_report_value']].groupby('user_id').agg('mean')\n",
    "home_assess_patient_avg.columns = ['assessments_mean_report_value']\n",
    "home_assess_patient_avg.sort_index(inplace=True)\n",
    "\n",
    "home_unique_reminders = reminders_df[['user_id', 'reminder_id', 'patient_report_value']]\\\n",
    ".groupby(['user_id', 'reminder_id'], as_index=False).agg('mean')\n",
    "home_remind_patient_avg = home_unique_reminders[['user_id', 'patient_report_value']].groupby('user_id').agg('mean')\n",
    "home_remind_patient_avg.columns = ['reminders_mean_report_value']\n",
    "home_remind_patient_avg.sort_index(inplace=True)\n",
    "\n",
    "both_home = pd.concat([home_assess_patient_avg, home_remind_patient_avg], axis=1)\n",
    "both_home.dropna(inplace=True)\n",
    "\n",
    "assess_mean = both_home.assessments_mean_report_value\n",
    "remind_mean = both_home.reminders_mean_report_value\n",
    "\n",
    "coef, p_val = pearsonr(assess_mean, remind_mean)\n",
    "print('\\n' 'Correlation of: %.3f \\np-value of: %.3f' % (coef, p_val))\n",
    "\n",
    "plt.scatter(assess_mean, remind_mean)\n",
    "plt.plot(np.unique(assess_mean),\n",
    "         np.poly1d(np.polyfit(assess_mean, remind_mean, 1))(np.unique(assess_mean)),\n",
    "         color='r')\n",
    "plt.xticks(range(5))\n",
    "plt.yticks(range(5))\n",
    "plt.xlabel('Mean Chorea level report for assessments')\n",
    "plt.ylabel('Mean Chorea level report for pre-reminder 5-mins')\n",
    "plt.show()"
   ]
  },
  {
   "cell_type": "markdown",
   "metadata": {},
   "source": [
    "# Raw accelerometer data analysis:"
   ]
  },
  {
   "cell_type": "code",
   "execution_count": 17,
   "metadata": {
    "collapsed": true
   },
   "outputs": [],
   "source": [
    "clinic_df['acc_norm'] = np.sqrt((clinic_df.x)**2 + (clinic_df.y)**2 + (clinic_df.z)**2)\n",
    "clinic_steps_df['acc_norm'] = np.sqrt((clinic_steps_df.x)**2 + (clinic_steps_df.y)**2 + (clinic_steps_df.z)**2)\n",
    "home_df['acc_norm'] = np.sqrt((home_df.x)**2 + (home_df.y)**2 + (home_df.z)**2)\n",
    "home_steps_df['acc_norm'] = np.sqrt((home_steps_df.x)**2 + (home_steps_df.y)**2 + (home_steps_df.z)**2)\n",
    "reminders_df['acc_norm'] = np.sqrt((reminders_df.x)**2 + (reminders_df.y)**2 + (reminders_df.z)**2)"
   ]
  },
  {
   "cell_type": "code",
   "execution_count": 13,
   "metadata": {
    "collapsed": true
   },
   "outputs": [],
   "source": [
    "def mean_acc_box_plot(df, report_column, group_by='assessment_id'):\n",
    "    mean_acc_df = df[[group_by, 'acc_norm', report_column]]\\\n",
    "                    .groupby(group_by, as_index=False).agg('mean')\n",
    "    discrete_report_values = c.report_values\n",
    "    boxes_vals = [np.asarray(mean_acc_df['acc_norm'][mean_acc_df[report_column] == x]) for x in discrete_report_values]\n",
    "    plt.boxplot(boxes_vals)\n",
    "    plt.xticks(range(min_val+1, max_val+2), range(5))\n",
    "    plt.xlabel('Reported Chorea')\n",
    "    plt.ylabel('Accelerometer norm mean')\n",
    "    plt.show()"
   ]
  },
  {
   "cell_type": "markdown",
   "metadata": {},
   "source": [
    "### Accelerometer norm mean vs. reported Chorea - clinic patients' reports:"
   ]
  },
  {
   "cell_type": "code",
   "execution_count": 16,
   "metadata": {
    "scrolled": true
   },
   "outputs": [
    {
     "data": {
      "image/png": "[encoded data removed]",
      "text/plain": [
       "<matplotlib.figure.Figure at 0x1b290eeafd0>"
      ]
     },
     "metadata": {},
     "output_type": "display_data"
    }
   ],
   "source": [
    "mean_acc_box_plot(clinic_df, 'patient_report_value', group_by='assessment_id')"
   ]
  },
  {
   "cell_type": "markdown",
   "metadata": {},
   "source": [
    "### Accelerometer norm mean vs. reported Chorea - clinic clinicians' reports:"
   ]
  },
  {
   "cell_type": "code",
   "execution_count": 17,
   "metadata": {},
   "outputs": [
    {
     "data": {
      "image/png": "[encoded data removed]",
      "text/plain": [
       "<matplotlib.figure.Figure at 0x1b290f63518>"
      ]
     },
     "metadata": {},
     "output_type": "display_data"
    }
   ],
   "source": [
    "mean_acc_box_plot(clinic_df, 'clinician_report_value', group_by='assessment_id')"
   ]
  },
  {
   "cell_type": "markdown",
   "metadata": {},
   "source": [
    "### Accelerometer norm mean vs. reported Chorea - home patients' reports:"
   ]
  },
  {
   "cell_type": "code",
   "execution_count": 18,
   "metadata": {},
   "outputs": [
    {
     "data": {
      "image/png": "[encoded data removed]",
      "text/plain": [
       "<matplotlib.figure.Figure at 0x1b291024048>"
      ]
     },
     "metadata": {},
     "output_type": "display_data"
    }
   ],
   "source": [
    "mean_acc_box_plot(home_df, 'patient_report_value', group_by='assessment_id')"
   ]
  },
  {
   "cell_type": "markdown",
   "metadata": {},
   "source": [
    "### Accelerometer norm mean vs. reported Chorea - reminders patients' reports:"
   ]
  },
  {
   "cell_type": "code",
   "execution_count": 19,
   "metadata": {},
   "outputs": [
    {
     "data": {
      "image/png": "[encoded data removed]",
      "text/plain": [
       "<matplotlib.figure.Figure at 0x1b2911e8da0>"
      ]
     },
     "metadata": {},
     "output_type": "display_data"
    }
   ],
   "source": [
    "mean_acc_box_plot(reminders_df, 'patient_report_value', group_by='reminder_id')"
   ]
  },
  {
   "cell_type": "markdown",
   "metadata": {},
   "source": [
    "## REVISIT WHEN STEPS RESOLUTION IS AVAILABLE - Inspect the accelerometer data during home assessments vs. during home pre-reminder 5-minutes segments:"
   ]
  },
  {
   "cell_type": "code",
   "execution_count": 19,
   "metadata": {},
   "outputs": [
    {
     "data": {
      "text/html": [
       "<div>\n",
       "<style>\n",
       "    .dataframe thead tr:only-child th {\n",
       "        text-align: right;\n",
       "    }\n",
       "\n",
       "    .dataframe thead th {\n",
       "        text-align: left;\n",
       "    }\n",
       "\n",
       "    .dataframe tbody tr th {\n",
       "        vertical-align: top;\n",
       "    }\n",
       "</style>\n",
       "<table border=\"1\" class=\"dataframe\">\n",
       "  <thead>\n",
       "    <tr style=\"text-align: right;\">\n",
       "      <th></th>\n",
       "      <th>acc_norm</th>\n",
       "    </tr>\n",
       "    <tr>\n",
       "      <th>step_name</th>\n",
       "      <th></th>\n",
       "    </tr>\n",
       "  </thead>\n",
       "  <tbody>\n",
       "    <tr>\n",
       "      <th>Drink</th>\n",
       "      <td>1033.819483</td>\n",
       "    </tr>\n",
       "    <tr>\n",
       "      <th>Rotate hands</th>\n",
       "      <td>1084.188147</td>\n",
       "    </tr>\n",
       "    <tr>\n",
       "      <th>Sit extended</th>\n",
       "      <td>1029.955372</td>\n",
       "    </tr>\n",
       "    <tr>\n",
       "      <th>Sit relaxed</th>\n",
       "      <td>1001.074854</td>\n",
       "    </tr>\n",
       "    <tr>\n",
       "      <th>Stand</th>\n",
       "      <td>1009.713411</td>\n",
       "    </tr>\n",
       "    <tr>\n",
       "      <th>TUaG</th>\n",
       "      <td>1043.851905</td>\n",
       "    </tr>\n",
       "    <tr>\n",
       "      <th>Walk</th>\n",
       "      <td>1054.341605</td>\n",
       "    </tr>\n",
       "  </tbody>\n",
       "</table>\n",
       "</div>"
      ],
      "text/plain": [
       "                 acc_norm\n",
       "step_name                \n",
       "Drink         1033.819483\n",
       "Rotate hands  1084.188147\n",
       "Sit extended  1029.955372\n",
       "Sit relaxed   1001.074854\n",
       "Stand         1009.713411\n",
       "TUaG          1043.851905\n",
       "Walk          1054.341605"
      ]
     },
     "execution_count": 19,
     "metadata": {},
     "output_type": "execute_result"
    }
   ],
   "source": [
    "clinic_steps_df[['step_name', 'acc_norm']].groupby('step_name').agg('mean')"
   ]
  },
  {
   "cell_type": "code",
   "execution_count": 20,
   "metadata": {},
   "outputs": [
    {
     "data": {
      "text/html": [
       "<div>\n",
       "<style>\n",
       "    .dataframe thead tr:only-child th {\n",
       "        text-align: right;\n",
       "    }\n",
       "\n",
       "    .dataframe thead th {\n",
       "        text-align: left;\n",
       "    }\n",
       "\n",
       "    .dataframe tbody tr th {\n",
       "        vertical-align: top;\n",
       "    }\n",
       "</style>\n",
       "<table border=\"1\" class=\"dataframe\">\n",
       "  <thead>\n",
       "    <tr style=\"text-align: right;\">\n",
       "      <th></th>\n",
       "      <th>acc_norm</th>\n",
       "    </tr>\n",
       "    <tr>\n",
       "      <th>step_name</th>\n",
       "      <th></th>\n",
       "    </tr>\n",
       "  </thead>\n",
       "  <tbody>\n",
       "    <tr>\n",
       "      <th>Sit relaxed</th>\n",
       "      <td>1014.428752</td>\n",
       "    </tr>\n",
       "    <tr>\n",
       "      <th>Stand</th>\n",
       "      <td>1005.412278</td>\n",
       "    </tr>\n",
       "  </tbody>\n",
       "</table>\n",
       "</div>"
      ],
      "text/plain": [
       "                acc_norm\n",
       "step_name               \n",
       "Sit relaxed  1014.428752\n",
       "Stand        1005.412278"
      ]
     },
     "execution_count": 20,
     "metadata": {},
     "output_type": "execute_result"
    }
   ],
   "source": [
    "home_steps_df[['step_name', 'acc_norm']].groupby('step_name').agg('mean')"
   ]
  },
  {
   "cell_type": "code",
   "execution_count": 103,
   "metadata": {
    "collapsed": true
   },
   "outputs": [],
   "source": [
    "home_energy = home_df.total_energy\n",
    "reminders_energy = reminders_df.total_energy"
   ]
  },
  {
   "cell_type": "code",
   "execution_count": 72,
   "metadata": {},
   "outputs": [
    {
     "name": "stdout",
     "output_type": "stream",
     "text": [
      "Mean of energy during home assessments: 1.0267 [g]\n",
      "Mean of energy during home pre-reminder 5-minutes segments: 1.01933 [g]\n",
      "t-test: 124.582 \n",
      "p-value of: 0.000\n"
     ]
    }
   ],
   "source": [
    "print('Mean of energy during home assessments:', round(np.mean(home_energy)/1000, 5), '[g]')\n",
    "print('Mean of energy during home pre-reminder 5-minutes segments:', round(np.mean(reminders_energy)/1000, 5), '[g]')\n",
    "t, p = ttest_ind(home_energy, reminders_energy)\n",
    "print('t-test: %.3f \\np-value of: %.3f' % (t, p))"
   ]
  },
  {
   "cell_type": "code",
   "execution_count": 101,
   "metadata": {
    "collapsed": true
   },
   "outputs": [],
   "source": [
    "home_energy_per_user = home_df[['user_id', 'total_energy']].groupby('user_id').agg('mean')\n",
    "home_energy_per_user.columns = ['home_total_energy']\n",
    "home_energy_per_user.sort_index(inplace=True)\n",
    "# print('Per-user total energy during home assessments:', '\\n\\n' ,home_energy_per_user)\n",
    "reminders_energy_per_user = reminders_df[['user_id', 'total_energy']].groupby('user_id').agg('mean')\n",
    "reminders_energy_per_user.columns = ['reminders_total_energy']\n",
    "reminders_energy_per_user.sort_index(inplace=True)\n",
    "# print('\\n\\n' 'Per-user total energy during home pre-reminder 5-minutes segments:', '\\n\\n', reminders_energy_per_user)"
   ]
  },
  {
   "cell_type": "code",
   "execution_count": 102,
   "metadata": {
    "scrolled": false
   },
   "outputs": [
    {
     "data": {
      "text/html": [
       "<div>\n",
       "<style>\n",
       "    .dataframe thead tr:only-child th {\n",
       "        text-align: right;\n",
       "    }\n",
       "\n",
       "    .dataframe thead th {\n",
       "        text-align: left;\n",
       "    }\n",
       "\n",
       "    .dataframe tbody tr th {\n",
       "        vertical-align: top;\n",
       "    }\n",
       "</style>\n",
       "<table border=\"1\" class=\"dataframe\">\n",
       "  <thead>\n",
       "    <tr style=\"text-align: right;\">\n",
       "      <th></th>\n",
       "      <th>home_total_energy</th>\n",
       "      <th>reminders_total_energy</th>\n",
       "      <th>assessments minus pre-reminders</th>\n",
       "    </tr>\n",
       "    <tr>\n",
       "      <th>user_id</th>\n",
       "      <th></th>\n",
       "      <th></th>\n",
       "      <th></th>\n",
       "    </tr>\n",
       "  </thead>\n",
       "  <tbody>\n",
       "    <tr>\n",
       "      <th>8</th>\n",
       "      <td>990.804685</td>\n",
       "      <td>1024.630529</td>\n",
       "      <td>-33.825844</td>\n",
       "    </tr>\n",
       "    <tr>\n",
       "      <th>25</th>\n",
       "      <td>1035.290394</td>\n",
       "      <td>NaN</td>\n",
       "      <td>NaN</td>\n",
       "    </tr>\n",
       "    <tr>\n",
       "      <th>45</th>\n",
       "      <td>1042.890194</td>\n",
       "      <td>1038.855375</td>\n",
       "      <td>4.034819</td>\n",
       "    </tr>\n",
       "    <tr>\n",
       "      <th>51</th>\n",
       "      <td>1040.430134</td>\n",
       "      <td>1042.615525</td>\n",
       "      <td>-2.185391</td>\n",
       "    </tr>\n",
       "    <tr>\n",
       "      <th>57</th>\n",
       "      <td>1012.427766</td>\n",
       "      <td>1014.745417</td>\n",
       "      <td>-2.317651</td>\n",
       "    </tr>\n",
       "    <tr>\n",
       "      <th>63</th>\n",
       "      <td>981.711292</td>\n",
       "      <td>1008.861375</td>\n",
       "      <td>-27.150083</td>\n",
       "    </tr>\n",
       "    <tr>\n",
       "      <th>74</th>\n",
       "      <td>1018.078452</td>\n",
       "      <td>1016.087288</td>\n",
       "      <td>1.991165</td>\n",
       "    </tr>\n",
       "    <tr>\n",
       "      <th>82</th>\n",
       "      <td>989.172767</td>\n",
       "      <td>1019.048141</td>\n",
       "      <td>-29.875374</td>\n",
       "    </tr>\n",
       "    <tr>\n",
       "      <th>94</th>\n",
       "      <td>1042.084485</td>\n",
       "      <td>1042.323606</td>\n",
       "      <td>-0.239121</td>\n",
       "    </tr>\n",
       "    <tr>\n",
       "      <th>108</th>\n",
       "      <td>998.097741</td>\n",
       "      <td>1031.401864</td>\n",
       "      <td>-33.304123</td>\n",
       "    </tr>\n",
       "  </tbody>\n",
       "</table>\n",
       "</div>"
      ],
      "text/plain": [
       "         home_total_energy  reminders_total_energy  \\\n",
       "user_id                                              \n",
       "8               990.804685             1024.630529   \n",
       "25             1035.290394                     NaN   \n",
       "45             1042.890194             1038.855375   \n",
       "51             1040.430134             1042.615525   \n",
       "57             1012.427766             1014.745417   \n",
       "63              981.711292             1008.861375   \n",
       "74             1018.078452             1016.087288   \n",
       "82              989.172767             1019.048141   \n",
       "94             1042.084485             1042.323606   \n",
       "108             998.097741             1031.401864   \n",
       "\n",
       "         assessments minus pre-reminders  \n",
       "user_id                                   \n",
       "8                             -33.825844  \n",
       "25                                   NaN  \n",
       "45                              4.034819  \n",
       "51                             -2.185391  \n",
       "57                             -2.317651  \n",
       "63                            -27.150083  \n",
       "74                              1.991165  \n",
       "82                            -29.875374  \n",
       "94                             -0.239121  \n",
       "108                           -33.304123  "
      ]
     },
     "execution_count": 102,
     "metadata": {},
     "output_type": "execute_result"
    }
   ],
   "source": [
    "both_energies = pd.concat([home_energy_per_user, reminders_energy_per_user], axis=1)\n",
    "both_energies['assessments minus pre-reminders'] = both_energies.home_total_energy - both_energies.reminders_total_energy\n",
    "both_energies"
   ]
  }
 ],
 "metadata": {
  "kernelspec": {
   "display_name": "Python 3",
   "language": "python",
   "name": "python3"
  },
  "language_info": {
   "codemirror_mode": {
    "name": "ipython",
    "version": 3
   },
   "file_extension": ".py",
   "mimetype": "text/x-python",
   "name": "python",
   "nbconvert_exporter": "python",
   "pygments_lexer": "ipython3",
   "version": "3.6.1"
  }
 },
 "nbformat": 4,
 "nbformat_minor": 2
}
