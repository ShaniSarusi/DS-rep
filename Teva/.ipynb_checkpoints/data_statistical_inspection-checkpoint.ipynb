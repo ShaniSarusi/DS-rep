{
 "cells": [
  {
   "cell_type": "markdown",
   "metadata": {},
   "source": [
    "# Imports:"
   ]
  },
  {
   "cell_type": "code",
   "execution_count": 63,
   "metadata": {
    "collapsed": true
   },
   "outputs": [],
   "source": [
    "import pandas as pd\n",
    "import numpy as np\n",
    "from scipy.stats.stats import pearsonr, ttest_ind\n",
    "from os.path import join, sep\n",
    "import Config as c\n",
    "valid_users = c.valid_users\n",
    "data_path = c.data_path\n",
    "import matplotlib.pyplot as plt\n",
    "%matplotlib inline"
   ]
  },
  {
   "cell_type": "markdown",
   "metadata": {},
   "source": [
    "# Read Data:"
   ]
  },
  {
   "cell_type": "code",
   "execution_count": 3,
   "metadata": {
    "collapsed": true
   },
   "outputs": [],
   "source": [
    "clinic_df = pd.read_pickle(join(c.data_path, 'clinic_processed_pickle.p'))\n",
    "home_df = pd.read_pickle(join(c.data_path, 'home_processed_pickle.p'))\n",
    "reminders_df = pd.read_pickle(join(c.data_path, 'reminder_five_minutes_processed_pickle.p'))"
   ]
  },
  {
   "cell_type": "code",
   "execution_count": 4,
   "metadata": {
    "collapsed": true
   },
   "outputs": [],
   "source": [
    "statistics = ['median', 'mean', np.std]"
   ]
  },
  {
   "cell_type": "code",
   "execution_count": 55,
   "metadata": {
    "collapsed": true
   },
   "outputs": [
    {
     "name": "stdout",
     "output_type": "stream",
     "text": [
      "               patient_report_value\n",
      "assessment_id                      \n",
      "1481923232988                   1.0\n",
      "1485546321147                   2.0\n",
      "1487605701264                   1.0\n",
      "1488396181636                   0.0\n",
      "1489765988342                   3.0\n",
      "1490284781631                   3.0\n",
      "1490637319938                   2.0\n",
      "1493741957038                   3.0\n",
      "1493912424448                   0.0\n",
      "1493920652116                   0.0\n"
     ]
    },
    {
     "data": {
      "image/png": "[encoded data removed]",
      "text/plain": [
       "<matplotlib.figure.Figure at 0x1aba7378710>"
      ]
     },
     "metadata": {},
     "output_type": "display_data"
    }
   ],
   "source": [
    "min_val=0\n",
    "max_val=4\n",
    "hist_range = (min_val, max_val)\n",
    "ticks = range(min_val, max_val+1)\n",
    "grouped_clinic = clinic_df[['assessment_id', 'patient_report_value']].groupby('assessment_id').agg('mean')\n",
    "print(grouped_clinic)\n",
    "# counts = np.bincount(grouped_clinic['patient_report_value'].astype(int))\n",
    "# fig, ax = plt.subplots()\n",
    "# ax.bar(ticks, counts, width=0.8, align='center')\n",
    "# ax.set(xticks=ticks, xlim=[min_val-1, max_val+1])\n",
    "# print(counts)\n",
    "plt.hist(grouped_clinic['patient_report_value'], range=hist_range)\n",
    "plt.show()"
   ]
  },
  {
   "cell_type": "code",
   "execution_count": 40,
   "metadata": {},
   "outputs": [],
   "source": [
    "def plot_statistics_distribution(df, assessment_identifier, grouping_identifier, target_variable,\n",
    "                                 statistics, min_val=0, max_val=4):\n",
    "    print('\\nNumber of assessments per user in this dataset:')\n",
    "    print(df[[grouping_identifier, assessment_identifier]].groupby(grouping_identifier)[assessment_identifier].nunique())\n",
    "    hist_range = (min_val, max_val)\n",
    "    ticks = range(min_val, max_val+1)\n",
    "    grouped_reports = df[[assessment_identifier, target_variable]].groupby(assessment_identifier).agg('mean')\n",
    "    print('\\nHistogram of %s across all records:' % (target_variable))\n",
    "    plt.hist(grouped_reports[target_variable], range=hist_range)\n",
    "    plt.show()\n",
    "    for stat in statistics:\n",
    "        agg_df = df[[grouping_identifier, target_variable]].groupby(grouping_identifier, as_index=False).agg(stat)\n",
    "        if stat==np.std:\n",
    "            stat = 'standard deviation'\n",
    "        agg_df.columns = [grouping_identifier, stat]\n",
    "        stat_vals = agg_df[stat]\n",
    "        print('\\n', target_variable, 'per-patient %s distribution:' % (stat))\n",
    "        if stat!=np.std:\n",
    "            hist_range = hist_range\n",
    "        plt.hist(stat_vals, range=hist_range)\n",
    "        plt.show()\n",
    "    df['binary_report'] = df[target_variable]>=1\n",
    "    binary_avg = df[[grouping_identifier, 'binary_report']].groupby(grouping_identifier, as_index=False).agg('mean')\n",
    "    print('\\n Per-patient fraction of positive reports distribution:')\n",
    "    plt.hist(binary_avg['binary_report'])\n",
    "    plt.show()"
   ]
  },
  {
   "cell_type": "code",
   "execution_count": 41,
   "metadata": {
    "scrolled": true
   },
   "outputs": [
    {
     "name": "stdout",
     "output_type": "stream",
     "text": [
      "\n",
      "Number of assessments per user in this dataset:\n",
      "user_id\n",
      "25     2\n",
      "45     1\n",
      "51     1\n",
      "57     1\n",
      "63     1\n",
      "74     1\n",
      "82     1\n",
      "94     1\n",
      "108    1\n",
      "Name: assessment_id, dtype: int64\n",
      "\n",
      "Histogram of patient_report_value across all records:\n"
     ]
    },
    {
     "data": {
      "image/png": "[encoded data removed]",
      "text/plain": [
       "<matplotlib.figure.Figure at 0x1aba75540f0>"
      ]
     },
     "metadata": {},
     "output_type": "display_data"
    },
    {
     "name": "stdout",
     "output_type": "stream",
     "text": [
      "\n",
      " patient_report_value per-patient median distribution:\n"
     ]
    },
    {
     "data": {
      "image/png": "[encoded data removed]",
      "text/plain": [
       "<matplotlib.figure.Figure at 0x1aba737a128>"
      ]
     },
     "metadata": {},
     "output_type": "display_data"
    },
    {
     "name": "stdout",
     "output_type": "stream",
     "text": [
      "\n",
      " patient_report_value per-patient mean distribution:\n"
     ]
    },
    {
     "data": {
      "image/png": "[encoded data removed]",
      "text/plain": [
       "<matplotlib.figure.Figure at 0x1aba69beac8>"
      ]
     },
     "metadata": {},
     "output_type": "display_data"
    },
    {
     "name": "stdout",
     "output_type": "stream",
     "text": [
      "\n",
      " patient_report_value per-patient standard deviation distribution:\n"
     ]
    },
    {
     "data": {
      "image/png": "[encoded data removed]",
      "text/plain": [
       "<matplotlib.figure.Figure at 0x1aba75fada0>"
      ]
     },
     "metadata": {},
     "output_type": "display_data"
    },
    {
     "name": "stdout",
     "output_type": "stream",
     "text": [
      "\n",
      " Per-patient fraction of positive reports distribution:\n"
     ]
    },
    {
     "data": {
      "image/png": "[encoded data removed]",
      "text/plain": [
       "<matplotlib.figure.Figure at 0x1aba777c390>"
      ]
     },
     "metadata": {},
     "output_type": "display_data"
    }
   ],
   "source": [
    "plot_statistics_distribution(clinic_df, assessment_identifier='assessment_id',\n",
    "                             grouping_identifier='user_id',\n",
    "                             target_variable='patient_report_value', statistics=statistics)"
   ]
  },
  {
   "cell_type": "code",
   "execution_count": 42,
   "metadata": {
    "scrolled": true
   },
   "outputs": [
    {
     "name": "stdout",
     "output_type": "stream",
     "text": [
      "\n",
      "Number of assessments per user in this dataset:\n",
      "user_id\n",
      "25     2\n",
      "45     1\n",
      "51     1\n",
      "57     1\n",
      "63     1\n",
      "74     1\n",
      "82     1\n",
      "94     1\n",
      "108    1\n",
      "Name: assessment_id, dtype: int64\n",
      "\n",
      "Histogram of clinician_report_value across all records:\n"
     ]
    },
    {
     "data": {
      "image/png": "[encoded data removed]",
      "text/plain": [
       "<matplotlib.figure.Figure at 0x1aba7793710>"
      ]
     },
     "metadata": {},
     "output_type": "display_data"
    },
    {
     "name": "stdout",
     "output_type": "stream",
     "text": [
      "\n",
      " clinician_report_value per-patient median distribution:\n"
     ]
    },
    {
     "data": {
      "image/png": "[encoded data removed]",
      "text/plain": [
       "<matplotlib.figure.Figure at 0x1aba7793470>"
      ]
     },
     "metadata": {},
     "output_type": "display_data"
    },
    {
     "name": "stdout",
     "output_type": "stream",
     "text": [
      "\n",
      " clinician_report_value per-patient mean distribution:\n"
     ]
    },
    {
     "data": {
      "image/png": "[encoded data removed]",
      "text/plain": [
       "<matplotlib.figure.Figure at 0x1aba764eb00>"
      ]
     },
     "metadata": {},
     "output_type": "display_data"
    },
    {
     "name": "stdout",
     "output_type": "stream",
     "text": [
      "\n",
      " clinician_report_value per-patient standard deviation distribution:\n"
     ]
    },
    {
     "data": {
      "image/png": "[encoded data removed]",
      "text/plain": [
       "<matplotlib.figure.Figure at 0x1aba7347470>"
      ]
     },
     "metadata": {},
     "output_type": "display_data"
    },
    {
     "name": "stdout",
     "output_type": "stream",
     "text": [
      "\n",
      " Per-patient fraction of positive reports distribution:\n"
     ]
    },
    {
     "data": {
      "image/png": "[encoded data removed]",
      "text/plain": [
       "<matplotlib.figure.Figure at 0x1aba7464898>"
      ]
     },
     "metadata": {},
     "output_type": "display_data"
    }
   ],
   "source": [
    "plot_statistics_distribution(clinic_df, assessment_identifier='assessment_id',\n",
    "                             grouping_identifier='user_id',\n",
    "                             target_variable='clinician_report_value', statistics=statistics)"
   ]
  },
  {
   "cell_type": "code",
   "execution_count": 43,
   "metadata": {
    "scrolled": true
   },
   "outputs": [
    {
     "name": "stdout",
     "output_type": "stream",
     "text": [
      "\n",
      "Number of assessments per user in this dataset:\n",
      "user_id\n",
      "8       25\n",
      "25      30\n",
      "45      56\n",
      "51      65\n",
      "57      99\n",
      "63      12\n",
      "74     134\n",
      "82      34\n",
      "94       8\n",
      "108     37\n",
      "Name: assessment_id, dtype: int64\n",
      "\n",
      "Histogram of patient_report_value across all records:\n"
     ]
    },
    {
     "data": {
      "image/png": "[encoded data removed]",
      "text/plain": [
       "<matplotlib.figure.Figure at 0x1aba76efe10>"
      ]
     },
     "metadata": {},
     "output_type": "display_data"
    },
    {
     "name": "stdout",
     "output_type": "stream",
     "text": [
      "\n",
      " patient_report_value per-patient median distribution:\n"
     ]
    },
    {
     "data": {
      "image/png": "[encoded data removed]",
      "text/plain": [
       "<matplotlib.figure.Figure at 0x1aba7741a58>"
      ]
     },
     "metadata": {},
     "output_type": "display_data"
    },
    {
     "name": "stdout",
     "output_type": "stream",
     "text": [
      "\n",
      " patient_report_value per-patient mean distribution:\n"
     ]
    },
    {
     "data": {
      "image/png": "[encoded data removed]",
      "text/plain": [
       "<matplotlib.figure.Figure at 0x1aba75923c8>"
      ]
     },
     "metadata": {},
     "output_type": "display_data"
    },
    {
     "name": "stdout",
     "output_type": "stream",
     "text": [
      "\n",
      " patient_report_value per-patient standard deviation distribution:\n"
     ]
    },
    {
     "data": {
      "image/png": "[encoded data removed]",
      "text/plain": [
       "<matplotlib.figure.Figure at 0x1aba69d5438>"
      ]
     },
     "metadata": {},
     "output_type": "display_data"
    },
    {
     "name": "stdout",
     "output_type": "stream",
     "text": [
      "\n",
      " Per-patient fraction of positive reports distribution:\n"
     ]
    },
    {
     "data": {
      "image/png": "[encoded data removed]",
      "text/plain": [
       "<matplotlib.figure.Figure at 0x1aba6932a58>"
      ]
     },
     "metadata": {},
     "output_type": "display_data"
    }
   ],
   "source": [
    "plot_statistics_distribution(home_df, assessment_identifier='assessment_id',\n",
    "                             grouping_identifier='user_id',\n",
    "                             target_variable='patient_report_value', statistics=statistics)"
   ]
  },
  {
   "cell_type": "code",
   "execution_count": 44,
   "metadata": {
    "scrolled": true
   },
   "outputs": [
    {
     "name": "stdout",
     "output_type": "stream",
     "text": [
      "\n",
      "Number of assessments per user in this dataset:\n",
      "user_id\n",
      "8       48\n",
      "45       6\n",
      "51      35\n",
      "57     305\n",
      "63      28\n",
      "74     204\n",
      "82      73\n",
      "94      18\n",
      "108     78\n",
      "Name: reminder_id, dtype: int64\n",
      "\n",
      "Histogram of patient_report_value across all records:\n"
     ]
    },
    {
     "data": {
      "image/png": "[encoded data removed]",
      "text/plain": [
       "<matplotlib.figure.Figure at 0x1aba6dcacf8>"
      ]
     },
     "metadata": {},
     "output_type": "display_data"
    },
    {
     "name": "stdout",
     "output_type": "stream",
     "text": [
      "\n",
      " patient_report_value per-patient median distribution:\n"
     ]
    },
    {
     "data": {
      "image/png": "[encoded data removed]",
      "text/plain": [
       "<matplotlib.figure.Figure at 0x1aba761c7b8>"
      ]
     },
     "metadata": {},
     "output_type": "display_data"
    },
    {
     "name": "stdout",
     "output_type": "stream",
     "text": [
      "\n",
      " patient_report_value per-patient mean distribution:\n"
     ]
    },
    {
     "data": {
      "image/png": "[encoded data removed]",
      "text/plain": [
       "<matplotlib.figure.Figure at 0x1aba73b71d0>"
      ]
     },
     "metadata": {},
     "output_type": "display_data"
    },
    {
     "name": "stdout",
     "output_type": "stream",
     "text": [
      "\n",
      " patient_report_value per-patient standard deviation distribution:\n"
     ]
    },
    {
     "data": {
      "image/png": "[encoded data removed]",
      "text/plain": [
       "<matplotlib.figure.Figure at 0x1aba6dfdf98>"
      ]
     },
     "metadata": {},
     "output_type": "display_data"
    },
    {
     "name": "stdout",
     "output_type": "stream",
     "text": [
      "\n",
      " Per-patient fraction of positive reports distribution:\n"
     ]
    },
    {
     "data": {
      "image/png": "[encoded data removed]",
      "text/plain": [
       "<matplotlib.figure.Figure at 0x1aba736bfd0>"
      ]
     },
     "metadata": {},
     "output_type": "display_data"
    }
   ],
   "source": [
    "plot_statistics_distribution(reminders_df, assessment_identifier='reminder_id',\n",
    "                             grouping_identifier='user_id',\n",
    "                             target_variable='patient_report_value', statistics=statistics)"
   ]
  },
  {
   "cell_type": "markdown",
   "metadata": {},
   "source": [
    "### Pearson's correlation between the patients' and the clinicians' Chorea level reports at the lab:"
   ]
  },
  {
   "cell_type": "code",
   "execution_count": 21,
   "metadata": {},
   "outputs": [
    {
     "name": "stdout",
     "output_type": "stream",
     "text": [
      "Correlation of: 0.395 \n",
      "p-value of: 0.000\n"
     ]
    }
   ],
   "source": [
    "clinicians_reports = clinic_df.clinician_report_value\n",
    "patients_reports = clinic_df.patient_report_value\n",
    "coef, p_val = pearsonr(patients_reports, clinicians_reports)\n",
    "print('Correlation of: %.3f \\np-value of: %.3f' % (coef, p_val))"
   ]
  },
  {
   "cell_type": "markdown",
   "metadata": {},
   "source": [
    "### Pearson's correlation between the patients' Chorea level reports at home vs. at the lab:"
   ]
  },
  {
   "cell_type": "code",
   "execution_count": 98,
   "metadata": {
    "collapsed": true
   },
   "outputs": [
    {
     "ename": "ValueError",
     "evalue": "operands could not be broadcast together with shapes (9332170,) (311298,) ",
     "output_type": "error",
     "traceback": [
      "\u001b[1;31m---------------------------------------------------------------------------\u001b[0m",
      "\u001b[1;31mValueError\u001b[0m                                Traceback (most recent call last)",
      "\u001b[1;32m<ipython-input-98-00aa288d87bf>\u001b[0m in \u001b[0;36m<module>\u001b[1;34m()\u001b[0m\n\u001b[0;32m      1\u001b[0m \u001b[0mhome_reports\u001b[0m \u001b[1;33m=\u001b[0m \u001b[0mhome_df\u001b[0m\u001b[1;33m.\u001b[0m\u001b[0mpatient_report_value\u001b[0m\u001b[1;33m\u001b[0m\u001b[0m\n\u001b[0;32m      2\u001b[0m \u001b[0mlab_reports\u001b[0m \u001b[1;33m=\u001b[0m \u001b[0mclinic_df\u001b[0m\u001b[1;33m.\u001b[0m\u001b[0mpatient_report_value\u001b[0m\u001b[1;33m\u001b[0m\u001b[0m\n\u001b[1;32m----> 3\u001b[1;33m \u001b[0mcoef\u001b[0m\u001b[1;33m,\u001b[0m \u001b[0mp_val\u001b[0m \u001b[1;33m=\u001b[0m \u001b[0mpearsonr\u001b[0m\u001b[1;33m(\u001b[0m\u001b[0mhome_reports\u001b[0m\u001b[1;33m,\u001b[0m \u001b[0mlab_reports\u001b[0m\u001b[1;33m)\u001b[0m\u001b[1;33m\u001b[0m\u001b[0m\n\u001b[0m\u001b[0;32m      4\u001b[0m \u001b[0mprint\u001b[0m\u001b[1;33m(\u001b[0m\u001b[1;34m'Correlation of: %.3f \\np-value of: %.3f'\u001b[0m \u001b[1;33m%\u001b[0m \u001b[1;33m(\u001b[0m\u001b[0mcoef\u001b[0m\u001b[1;33m,\u001b[0m \u001b[0mp_val\u001b[0m\u001b[1;33m)\u001b[0m\u001b[1;33m)\u001b[0m\u001b[1;33m\u001b[0m\u001b[0m\n",
      "\u001b[1;32mC:\\Users\\imazeh\\AppData\\Local\\Continuum\\Anaconda3\\lib\\site-packages\\scipy\\stats\\stats.py\u001b[0m in \u001b[0;36mpearsonr\u001b[1;34m(x, y)\u001b[0m\n\u001b[0;32m   3017\u001b[0m     \u001b[0mmy\u001b[0m \u001b[1;33m=\u001b[0m \u001b[0my\u001b[0m\u001b[1;33m.\u001b[0m\u001b[0mmean\u001b[0m\u001b[1;33m(\u001b[0m\u001b[1;33m)\u001b[0m\u001b[1;33m\u001b[0m\u001b[0m\n\u001b[0;32m   3018\u001b[0m     \u001b[0mxm\u001b[0m\u001b[1;33m,\u001b[0m \u001b[0mym\u001b[0m \u001b[1;33m=\u001b[0m \u001b[0mx\u001b[0m \u001b[1;33m-\u001b[0m \u001b[0mmx\u001b[0m\u001b[1;33m,\u001b[0m \u001b[0my\u001b[0m \u001b[1;33m-\u001b[0m \u001b[0mmy\u001b[0m\u001b[1;33m\u001b[0m\u001b[0m\n\u001b[1;32m-> 3019\u001b[1;33m     \u001b[0mr_num\u001b[0m \u001b[1;33m=\u001b[0m \u001b[0mnp\u001b[0m\u001b[1;33m.\u001b[0m\u001b[0madd\u001b[0m\u001b[1;33m.\u001b[0m\u001b[0mreduce\u001b[0m\u001b[1;33m(\u001b[0m\u001b[0mxm\u001b[0m \u001b[1;33m*\u001b[0m \u001b[0mym\u001b[0m\u001b[1;33m)\u001b[0m\u001b[1;33m\u001b[0m\u001b[0m\n\u001b[0m\u001b[0;32m   3020\u001b[0m     \u001b[0mr_den\u001b[0m \u001b[1;33m=\u001b[0m \u001b[0mnp\u001b[0m\u001b[1;33m.\u001b[0m\u001b[0msqrt\u001b[0m\u001b[1;33m(\u001b[0m\u001b[0m_sum_of_squares\u001b[0m\u001b[1;33m(\u001b[0m\u001b[0mxm\u001b[0m\u001b[1;33m)\u001b[0m \u001b[1;33m*\u001b[0m \u001b[0m_sum_of_squares\u001b[0m\u001b[1;33m(\u001b[0m\u001b[0mym\u001b[0m\u001b[1;33m)\u001b[0m\u001b[1;33m)\u001b[0m\u001b[1;33m\u001b[0m\u001b[0m\n\u001b[0;32m   3021\u001b[0m     \u001b[0mr\u001b[0m \u001b[1;33m=\u001b[0m \u001b[0mr_num\u001b[0m \u001b[1;33m/\u001b[0m \u001b[0mr_den\u001b[0m\u001b[1;33m\u001b[0m\u001b[0m\n",
      "\u001b[1;31mValueError\u001b[0m: operands could not be broadcast together with shapes (9332170,) (311298,) "
     ]
    }
   ],
   "source": [
    "home_reports = home_df.patient_report_value\n",
    "lab_reports = clinic_df.patient_report_value\n",
    "coef, p_val = pearsonr(home_reports, lab_reports)\n",
    "# print('Correlation of: %.3f \\np-value of: %.3f' % (coef, p_val))"
   ]
  },
  {
   "cell_type": "markdown",
   "metadata": {},
   "source": [
    "# Raw Data Analysis:"
   ]
  },
  {
   "cell_type": "code",
   "execution_count": 58,
   "metadata": {
    "collapsed": true
   },
   "outputs": [],
   "source": [
    "clinic_df['total_energy'] = np.sqrt((clinic_df.x)**2 + (clinic_df.y)**2 + (clinic_df.z)**2)\n",
    "home_df['total_energy'] = np.sqrt((home_df.x)**2 + (home_df.y)**2 + (home_df.z)**2)\n",
    "reminders_df['total_energy'] = np.sqrt((reminders_df.x)**2 + (reminders_df.y)**2 + (reminders_df.z)**2)"
   ]
  },
  {
   "cell_type": "code",
   "execution_count": 105,
   "metadata": {},
   "outputs": [
    {
     "data": {
      "text/html": [
       "<div>\n",
       "<style>\n",
       "    .dataframe thead tr:only-child th {\n",
       "        text-align: right;\n",
       "    }\n",
       "\n",
       "    .dataframe thead th {\n",
       "        text-align: left;\n",
       "    }\n",
       "\n",
       "    .dataframe tbody tr th {\n",
       "        vertical-align: top;\n",
       "    }\n",
       "</style>\n",
       "<table border=\"1\" class=\"dataframe\">\n",
       "  <thead>\n",
       "    <tr style=\"text-align: right;\">\n",
       "      <th></th>\n",
       "      <th>user_id</th>\n",
       "      <th>assessment_id</th>\n",
       "      <th>assessment_start</th>\n",
       "      <th>assessment_end</th>\n",
       "      <th>timestamp</th>\n",
       "      <th>x</th>\n",
       "      <th>y</th>\n",
       "      <th>z</th>\n",
       "      <th>patient_report_value</th>\n",
       "      <th>clinician_report_value</th>\n",
       "      <th>binary_report</th>\n",
       "      <th>total_energy</th>\n",
       "    </tr>\n",
       "  </thead>\n",
       "  <tbody>\n",
       "    <tr>\n",
       "      <th>0</th>\n",
       "      <td>82</td>\n",
       "      <td>1489765988342</td>\n",
       "      <td>2017-03-17 15:43:54.743</td>\n",
       "      <td>2017-03-17 15:53:08.333</td>\n",
       "      <td>2017-03-17 15:43:54.749</td>\n",
       "      <td>-782.0</td>\n",
       "      <td>0.0</td>\n",
       "      <td>-262.0</td>\n",
       "      <td>3.0</td>\n",
       "      <td>4.0</td>\n",
       "      <td>True</td>\n",
       "      <td>824.722984</td>\n",
       "    </tr>\n",
       "    <tr>\n",
       "      <th>1</th>\n",
       "      <td>82</td>\n",
       "      <td>1489765988342</td>\n",
       "      <td>2017-03-17 15:43:54.743</td>\n",
       "      <td>2017-03-17 15:53:08.333</td>\n",
       "      <td>2017-03-17 15:43:54.769</td>\n",
       "      <td>-850.0</td>\n",
       "      <td>23.0</td>\n",
       "      <td>-308.0</td>\n",
       "      <td>3.0</td>\n",
       "      <td>4.0</td>\n",
       "      <td>True</td>\n",
       "      <td>904.374369</td>\n",
       "    </tr>\n",
       "    <tr>\n",
       "      <th>2</th>\n",
       "      <td>82</td>\n",
       "      <td>1489765988342</td>\n",
       "      <td>2017-03-17 15:43:54.743</td>\n",
       "      <td>2017-03-17 15:53:08.333</td>\n",
       "      <td>2017-03-17 15:43:54.789</td>\n",
       "      <td>-967.0</td>\n",
       "      <td>10.0</td>\n",
       "      <td>-277.0</td>\n",
       "      <td>3.0</td>\n",
       "      <td>4.0</td>\n",
       "      <td>True</td>\n",
       "      <td>1005.941350</td>\n",
       "    </tr>\n",
       "    <tr>\n",
       "      <th>3</th>\n",
       "      <td>82</td>\n",
       "      <td>1489765988342</td>\n",
       "      <td>2017-03-17 15:43:54.743</td>\n",
       "      <td>2017-03-17 15:53:08.333</td>\n",
       "      <td>2017-03-17 15:43:54.809</td>\n",
       "      <td>-1032.0</td>\n",
       "      <td>-88.0</td>\n",
       "      <td>-187.0</td>\n",
       "      <td>3.0</td>\n",
       "      <td>4.0</td>\n",
       "      <td>True</td>\n",
       "      <td>1052.490855</td>\n",
       "    </tr>\n",
       "    <tr>\n",
       "      <th>4</th>\n",
       "      <td>82</td>\n",
       "      <td>1489765988342</td>\n",
       "      <td>2017-03-17 15:43:54.743</td>\n",
       "      <td>2017-03-17 15:53:08.333</td>\n",
       "      <td>2017-03-17 15:43:54.829</td>\n",
       "      <td>-1070.0</td>\n",
       "      <td>-163.0</td>\n",
       "      <td>-137.0</td>\n",
       "      <td>3.0</td>\n",
       "      <td>4.0</td>\n",
       "      <td>True</td>\n",
       "      <td>1090.980293</td>\n",
       "    </tr>\n",
       "  </tbody>\n",
       "</table>\n",
       "</div>"
      ],
      "text/plain": [
       "   user_id  assessment_id        assessment_start          assessment_end  \\\n",
       "0       82  1489765988342 2017-03-17 15:43:54.743 2017-03-17 15:53:08.333   \n",
       "1       82  1489765988342 2017-03-17 15:43:54.743 2017-03-17 15:53:08.333   \n",
       "2       82  1489765988342 2017-03-17 15:43:54.743 2017-03-17 15:53:08.333   \n",
       "3       82  1489765988342 2017-03-17 15:43:54.743 2017-03-17 15:53:08.333   \n",
       "4       82  1489765988342 2017-03-17 15:43:54.743 2017-03-17 15:53:08.333   \n",
       "\n",
       "                timestamp       x      y      z  patient_report_value  \\\n",
       "0 2017-03-17 15:43:54.749  -782.0    0.0 -262.0                   3.0   \n",
       "1 2017-03-17 15:43:54.769  -850.0   23.0 -308.0                   3.0   \n",
       "2 2017-03-17 15:43:54.789  -967.0   10.0 -277.0                   3.0   \n",
       "3 2017-03-17 15:43:54.809 -1032.0  -88.0 -187.0                   3.0   \n",
       "4 2017-03-17 15:43:54.829 -1070.0 -163.0 -137.0                   3.0   \n",
       "\n",
       "   clinician_report_value  binary_report  total_energy  \n",
       "0                     4.0           True    824.722984  \n",
       "1                     4.0           True    904.374369  \n",
       "2                     4.0           True   1005.941350  \n",
       "3                     4.0           True   1052.490855  \n",
       "4                     4.0           True   1090.980293  "
      ]
     },
     "execution_count": 105,
     "metadata": {},
     "output_type": "execute_result"
    }
   ],
   "source": [
    "clinic_df.head()"
   ]
  },
  {
   "cell_type": "markdown",
   "metadata": {},
   "source": [
    "### Pearson's correlation between the total energy and the patients' Chorea level reports at the lab:"
   ]
  },
  {
   "cell_type": "code",
   "execution_count": 103,
   "metadata": {
    "scrolled": true
   },
   "outputs": [
    {
     "name": "stdout",
     "output_type": "stream",
     "text": [
      "Correlation of: 0.037 \n",
      "p-value of: 0.000\n"
     ]
    }
   ],
   "source": [
    "energy = clinic_df.total_energy\n",
    "patients_reports = clinic_df.patient_report_value\n",
    "coef, p_val = pearsonr(patients_reports, energy)\n",
    "print('Correlation of: %.3f \\np-value of: %.3f' % (coef, p_val))"
   ]
  },
  {
   "cell_type": "markdown",
   "metadata": {},
   "source": [
    "### Pearson's correlation between the total energy and the clinicians' Chorea level reports at the lab:"
   ]
  },
  {
   "cell_type": "code",
   "execution_count": 104,
   "metadata": {},
   "outputs": [
    {
     "name": "stdout",
     "output_type": "stream",
     "text": [
      "Correlation of: -0.048 \n",
      "p-value of: 0.000\n"
     ]
    }
   ],
   "source": [
    "clinicians_reports = clinic_df.clinician_report_value\n",
    "energy = clinic_df.total_energy\n",
    "coef, p_val = pearsonr(energy, clinicians_reports)\n",
    "print('Correlation of: %.3f \\np-value of: %.3f' % (coef, p_val))"
   ]
  },
  {
   "cell_type": "markdown",
   "metadata": {},
   "source": [
    "### Pearson's correlation between the total energy and the patients' Chorea level reports at home:"
   ]
  },
  {
   "cell_type": "code",
   "execution_count": 59,
   "metadata": {
    "scrolled": true
   },
   "outputs": [
    {
     "name": "stdout",
     "output_type": "stream",
     "text": [
      "Correlation of: -0.009 \n",
      "p-value of: 0.000\n"
     ]
    }
   ],
   "source": [
    "energy = home_df.total_energy\n",
    "patients_reports = home_df.patient_report_value\n",
    "coef, p_val = pearsonr(patients_reports, energy)\n",
    "print('Correlation of: %.3f \\np-value of: %.3f' % (coef, p_val))"
   ]
  },
  {
   "cell_type": "markdown",
   "metadata": {},
   "source": [
    "### Inspect the energy during home assessments vs. during home pre-reminder 5-minutes segments:"
   ]
  },
  {
   "cell_type": "code",
   "execution_count": 103,
   "metadata": {},
   "outputs": [],
   "source": [
    "home_energy = home_df.total_energy\n",
    "reminders_energy = reminders_df.total_energy"
   ]
  },
  {
   "cell_type": "code",
   "execution_count": 72,
   "metadata": {},
   "outputs": [
    {
     "name": "stdout",
     "output_type": "stream",
     "text": [
      "Mean of energy during home assessments: 1.0267 [g]\n",
      "Mean of energy during home pre-reminder 5-minutes segments: 1.01933 [g]\n",
      "t-test: 124.582 \n",
      "p-value of: 0.000\n"
     ]
    }
   ],
   "source": [
    "print('Mean of energy during home assessments:', round(np.mean(home_energy)/1000, 5), '[g]')\n",
    "print('Mean of energy during home pre-reminder 5-minutes segments:', round(np.mean(reminders_energy)/1000, 5), '[g]')\n",
    "t, p = ttest_ind(home_energy, reminders_energy)\n",
    "print('t-test: %.3f \\np-value of: %.3f' % (t, p))"
   ]
  },
  {
   "cell_type": "code",
   "execution_count": 101,
   "metadata": {},
   "outputs": [],
   "source": [
    "home_energy_per_user = home_df[['user_id', 'total_energy']].groupby('user_id').agg('mean')\n",
    "home_energy_per_user.columns = ['home_total_energy']\n",
    "home_energy_per_user.sort_index(inplace=True)\n",
    "# print('Per-user total energy during home assessments:', '\\n\\n' ,home_energy_per_user)\n",
    "reminders_energy_per_user = reminders_df[['user_id', 'total_energy']].groupby('user_id').agg('mean')\n",
    "reminders_energy_per_user.columns = ['reminders_total_energy']\n",
    "reminders_energy_per_user.sort_index(inplace=True)\n",
    "# print('\\n\\n' 'Per-user total energy during home pre-reminder 5-minutes segments:', '\\n\\n', reminders_energy_per_user)"
   ]
  },
  {
   "cell_type": "code",
   "execution_count": 102,
   "metadata": {
    "scrolled": true
   },
   "outputs": [
    {
     "data": {
      "text/html": [
       "<div>\n",
       "<style>\n",
       "    .dataframe thead tr:only-child th {\n",
       "        text-align: right;\n",
       "    }\n",
       "\n",
       "    .dataframe thead th {\n",
       "        text-align: left;\n",
       "    }\n",
       "\n",
       "    .dataframe tbody tr th {\n",
       "        vertical-align: top;\n",
       "    }\n",
       "</style>\n",
       "<table border=\"1\" class=\"dataframe\">\n",
       "  <thead>\n",
       "    <tr style=\"text-align: right;\">\n",
       "      <th></th>\n",
       "      <th>home_total_energy</th>\n",
       "      <th>reminders_total_energy</th>\n",
       "      <th>assessments minus pre-reminders</th>\n",
       "    </tr>\n",
       "    <tr>\n",
       "      <th>user_id</th>\n",
       "      <th></th>\n",
       "      <th></th>\n",
       "      <th></th>\n",
       "    </tr>\n",
       "  </thead>\n",
       "  <tbody>\n",
       "    <tr>\n",
       "      <th>8</th>\n",
       "      <td>990.804685</td>\n",
       "      <td>1024.630529</td>\n",
       "      <td>-33.825844</td>\n",
       "    </tr>\n",
       "    <tr>\n",
       "      <th>25</th>\n",
       "      <td>1035.290394</td>\n",
       "      <td>NaN</td>\n",
       "      <td>NaN</td>\n",
       "    </tr>\n",
       "    <tr>\n",
       "      <th>45</th>\n",
       "      <td>1042.890194</td>\n",
       "      <td>1038.855375</td>\n",
       "      <td>4.034819</td>\n",
       "    </tr>\n",
       "    <tr>\n",
       "      <th>51</th>\n",
       "      <td>1040.430134</td>\n",
       "      <td>1042.615525</td>\n",
       "      <td>-2.185391</td>\n",
       "    </tr>\n",
       "    <tr>\n",
       "      <th>57</th>\n",
       "      <td>1012.427766</td>\n",
       "      <td>1014.745417</td>\n",
       "      <td>-2.317651</td>\n",
       "    </tr>\n",
       "    <tr>\n",
       "      <th>63</th>\n",
       "      <td>981.711292</td>\n",
       "      <td>1008.861375</td>\n",
       "      <td>-27.150083</td>\n",
       "    </tr>\n",
       "    <tr>\n",
       "      <th>74</th>\n",
       "      <td>1018.078452</td>\n",
       "      <td>1016.087288</td>\n",
       "      <td>1.991165</td>\n",
       "    </tr>\n",
       "    <tr>\n",
       "      <th>82</th>\n",
       "      <td>989.172767</td>\n",
       "      <td>1019.048141</td>\n",
       "      <td>-29.875374</td>\n",
       "    </tr>\n",
       "    <tr>\n",
       "      <th>94</th>\n",
       "      <td>1042.084485</td>\n",
       "      <td>1042.323606</td>\n",
       "      <td>-0.239121</td>\n",
       "    </tr>\n",
       "    <tr>\n",
       "      <th>108</th>\n",
       "      <td>998.097741</td>\n",
       "      <td>1031.401864</td>\n",
       "      <td>-33.304123</td>\n",
       "    </tr>\n",
       "  </tbody>\n",
       "</table>\n",
       "</div>"
      ],
      "text/plain": [
       "         home_total_energy  reminders_total_energy  \\\n",
       "user_id                                              \n",
       "8               990.804685             1024.630529   \n",
       "25             1035.290394                     NaN   \n",
       "45             1042.890194             1038.855375   \n",
       "51             1040.430134             1042.615525   \n",
       "57             1012.427766             1014.745417   \n",
       "63              981.711292             1008.861375   \n",
       "74             1018.078452             1016.087288   \n",
       "82              989.172767             1019.048141   \n",
       "94             1042.084485             1042.323606   \n",
       "108             998.097741             1031.401864   \n",
       "\n",
       "         assessments minus pre-reminders  \n",
       "user_id                                   \n",
       "8                             -33.825844  \n",
       "25                                   NaN  \n",
       "45                              4.034819  \n",
       "51                             -2.185391  \n",
       "57                             -2.317651  \n",
       "63                            -27.150083  \n",
       "74                              1.991165  \n",
       "82                            -29.875374  \n",
       "94                             -0.239121  \n",
       "108                           -33.304123  "
      ]
     },
     "execution_count": 102,
     "metadata": {},
     "output_type": "execute_result"
    }
   ],
   "source": [
    "both_energies = pd.concat([home_energy_per_user, reminders_energy_per_user], axis=1)\n",
    "both_energies['assessments minus pre-reminders'] = both_energies.home_total_energy - both_energies.reminders_total_energy\n",
    "both_energies"
   ]
  }
 ],
 "metadata": {
  "kernelspec": {
   "display_name": "Python 3",
   "language": "python",
   "name": "python3"
  },
  "language_info": {
   "codemirror_mode": {
    "name": "ipython",
    "version": 3
   },
   "file_extension": ".py",
   "mimetype": "text/x-python",
   "name": "python",
   "nbconvert_exporter": "python",
   "pygments_lexer": "ipython3",
   "version": "3.6.1"
  }
 },
 "nbformat": 4,
 "nbformat_minor": 2
}
