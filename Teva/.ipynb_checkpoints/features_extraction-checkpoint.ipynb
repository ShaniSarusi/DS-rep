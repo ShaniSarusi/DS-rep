{
 "cells": [
  {
   "cell_type": "markdown",
   "metadata": {
    "toc": "true"
   },
   "source": [
    "# Table of Contents\n",
    " <p><div class=\"lev1 toc-item\"><a href=\"#Imports:\" data-toc-modified-id=\"Imports:-1\"><span class=\"toc-item-num\">1&nbsp;&nbsp;</span>Imports:</a></div><div class=\"lev1 toc-item\"><a href=\"#Set-some-important-variables-+-working-environment:\" data-toc-modified-id=\"Set-some-important-variables-+-working-environment:-2\"><span class=\"toc-item-num\">2&nbsp;&nbsp;</span>Set some important variables + working environment:</a></div><div class=\"lev1 toc-item\"><a href=\"#Read-raw-data:\" data-toc-modified-id=\"Read-raw-data:-3\"><span class=\"toc-item-num\">3&nbsp;&nbsp;</span>Read raw data:</a></div><div class=\"lev1 toc-item\"><a href=\"#Data-preparation:\" data-toc-modified-id=\"Data-preparation:-4\"><span class=\"toc-item-num\">4&nbsp;&nbsp;</span>Data preparation:</a></div><div class=\"lev2 toc-item\"><a href=\"#Convert-watch-accelerometer-to-phone-units-(m/sec^2):\" data-toc-modified-id=\"Convert-watch-accelerometer-to-phone-units-(m/sec^2):-41\"><span class=\"toc-item-num\">4.1&nbsp;&nbsp;</span>Convert watch accelerometer to phone units ($m/sec^2$):</a></div><div class=\"lev2 toc-item\"><a href=\"#Trim-steps'-transition-data:\" data-toc-modified-id=\"Trim-steps'-transition-data:-42\"><span class=\"toc-item-num\">4.2&nbsp;&nbsp;</span>Trim steps' transition data:</a></div><div class=\"lev2 toc-item\"><a href=\"#For-each-sample,-add-(1)-accelerometer-norm-and-(2)-step's-norm-STD:\" data-toc-modified-id=\"For-each-sample,-add-(1)-accelerometer-norm-and-(2)-step's-norm-STD:-43\"><span class=\"toc-item-num\">4.3&nbsp;&nbsp;</span>For each sample, add (1) accelerometer norm and (2) step's norm STD:</a></div>"
   ]
  },
  {
   "cell_type": "markdown",
   "metadata": {},
   "source": [
    "# Imports:"
   ]
  },
  {
   "cell_type": "code",
   "execution_count": 1,
   "metadata": {
    "ExecuteTime": {
     "end_time": "2017-10-29T12:02:34.027608Z",
     "start_time": "2017-10-29T12:02:32.250621Z"
    },
    "collapsed": true
   },
   "outputs": [],
   "source": [
    "import os\n",
    "os.chdir('C:\\\\Users\\\\imazeh\\\\Itzik\\\\Health_prof\\\\git_team\\\\DataScientists')\n",
    "from Utils.Visualization import box_plot\n",
    "import pandas as pd\n",
    "import numpy as np\n",
    "import scipy.stats as stats\n",
    "from scipy.stats.stats import pearsonr, ttest_ind\n",
    "from os.path import join, sep\n",
    "import Teva.config as c\n",
    "import matplotlib.pyplot as plt\n",
    "from matplotlib.ticker import MaxNLocator\n",
    "%matplotlib inline"
   ]
  },
  {
   "cell_type": "markdown",
   "metadata": {},
   "source": [
    "# Set some important variables + working environment:"
   ]
  },
  {
   "cell_type": "code",
   "execution_count": 2,
   "metadata": {
    "ExecuteTime": {
     "end_time": "2017-10-29T12:02:34.038608Z",
     "start_time": "2017-10-29T12:02:34.030113Z"
    },
    "collapsed": true
   },
   "outputs": [],
   "source": [
    "valid_users = c.valid_users\n",
    "watch_acc_base = c.watch_acc_baseline\n",
    "phone_acc_base = c.phone_acc_baseline\n",
    "statistics = ['median', 'mean', np.std]\n",
    "min_val = c.report_values[0]\n",
    "max_val = c.report_values[-1]\n",
    "\n",
    "static_steps_clinic = ['Sit extended', 'Sit relaxed', 'Stand']\n",
    "static_steps_home = ['Sit relaxed', 'Stand']"
   ]
  },
  {
   "cell_type": "code",
   "execution_count": 3,
   "metadata": {
    "ExecuteTime": {
     "end_time": "2017-10-29T12:02:34.575355Z",
     "start_time": "2017-10-29T12:02:34.568857Z"
    },
    "collapsed": true
   },
   "outputs": [],
   "source": [
    "trim_dict = {'TUaG': {'start':2, 'end':2},\n",
    "             'Sit relaxed': {'start':2, 'end':0},\n",
    "             'Sit extended': {'start':2, 'end':0},\n",
    "             'Stand': {'start':2, 'end':0},\n",
    "             'Walk': {'start':2, 'end':2},\n",
    "             'Drink': {'start':2, 'end':2},\n",
    "             'Rotate hands': {'start':2, 'end':0}\n",
    "            }"
   ]
  },
  {
   "cell_type": "code",
   "execution_count": 4,
   "metadata": {
    "ExecuteTime": {
     "end_time": "2017-10-29T12:02:36.373434Z",
     "start_time": "2017-10-29T12:02:36.369436Z"
    },
    "collapsed": true
   },
   "outputs": [],
   "source": [
    "cloud = False\n",
    "if cloud:\n",
    "    data_path = c.cloud_data_path\n",
    "else:\n",
    "    data_path = c.data_path"
   ]
  },
  {
   "cell_type": "markdown",
   "metadata": {},
   "source": [
    "# Read raw data:"
   ]
  },
  {
   "cell_type": "code",
   "execution_count": 5,
   "metadata": {
    "ExecuteTime": {
     "end_time": "2017-10-29T12:02:43.928637Z",
     "start_time": "2017-10-29T12:02:41.631942Z"
    },
    "collapsed": true,
    "scrolled": true
   },
   "outputs": [],
   "source": [
    "# clinic_assessments_watch_acc_df = pd.read_pickle(c.clinic_assessments_watch_acc_pkl_file_path)\n",
    "# clinic_assessments_watch_acc_df.name = 'clinic_assessments_watch_acc'\n",
    "\n",
    "clinic_steps_watch_acc_df = pd.read_pickle(c.clinic_steps_watch_acc_pkl_file_path)\n",
    "clinic_steps_watch_acc_df.name = 'clinic_steps_watch_acc'\n",
    "\n",
    "# home_assessments_watch_acc_df = pd.read_pickle(c.home_assessments_watch_acc_pkl_file_path)\n",
    "# home_assessments_watch_acc_df.name = 'home_assessments_watch_acc'\n",
    "\n",
    "home_steps_watch_acc_df = pd.read_pickle(c.home_steps_watch_acc_pkl_file_path)\n",
    "home_steps_watch_acc_df.name = 'home_steps_watch_acc'\n",
    "\n",
    "# home_reminders_watch_acc_df = pd.read_pickle(c.home_reminders_watch_acc_pkl_file_path)\n",
    "# home_reminders_watch_acc_df.name = 'home_reminders_watch_acc'\n",
    "\n",
    "clinic_steps_phone_acc_df = pd.read_pickle(c.clinic_steps_phone_acc_pkl_file_path)\n",
    "clinic_steps_phone_acc_df.name = 'clinic_steps_phone_acc'\n",
    "\n",
    "home_steps_phone_acc_df = pd.read_pickle(c.home_steps_phone_acc_pkl_file_path)\n",
    "home_steps_phone_acc_df.name = 'home_steps_phone_acc'"
   ]
  },
  {
   "cell_type": "markdown",
   "metadata": {},
   "source": [
    "# Data preparation:"
   ]
  },
  {
   "cell_type": "markdown",
   "metadata": {},
   "source": [
    "## Convert watch accelerometer to phone units ($m/sec^2$):"
   ]
  },
  {
   "cell_type": "code",
   "execution_count": 6,
   "metadata": {
    "ExecuteTime": {
     "end_time": "2017-10-29T12:02:47.318039Z",
     "start_time": "2017-10-29T12:02:47.313038Z"
    },
    "collapsed": true
   },
   "outputs": [],
   "source": [
    "def convert_mili_g_to_msc2(df, cols_to_convert=['x', 'y', 'z']):\n",
    "    conversion_factor = c.phone_acc_baseline/float(1000)\n",
    "    for col in cols_to_convert:\n",
    "        df[col] = df[col]*conversion_factor\n",
    "    return df"
   ]
  },
  {
   "cell_type": "code",
   "execution_count": 7,
   "metadata": {
    "ExecuteTime": {
     "end_time": "2017-10-29T12:02:48.008970Z",
     "start_time": "2017-10-29T12:02:47.895975Z"
    },
    "collapsed": true
   },
   "outputs": [],
   "source": [
    "clinic_steps_watch_acc_df = convert_mili_g_to_msc2(clinic_steps_watch_acc_df)\n",
    "home_steps_watch_acc_df = convert_mili_g_to_msc2(home_steps_watch_acc_df)\n",
    "# home_reminders_watch_acc_df = convert_mili_g_to_msc2(home_reminders_watch_acc_df)"
   ]
  },
  {
   "cell_type": "markdown",
   "metadata": {},
   "source": [
    "## Trim steps' transition data:"
   ]
  },
  {
   "cell_type": "code",
   "execution_count": 8,
   "metadata": {
    "ExecuteTime": {
     "end_time": "2017-10-29T12:02:48.846534Z",
     "start_time": "2017-10-29T12:02:48.836528Z"
    },
    "collapsed": true
   },
   "outputs": [],
   "source": [
    "def trim_assessment_per_step(assess_df, trim_dict, samples_freq=50):\n",
    "    sorted_assess_df = assess_df.sort_values(by='timestamp', ascending=True)\n",
    "    steps_list = assess_df['step_name'].unique()\n",
    "    trimmed_df = pd.DataFrame()\n",
    "    for step in steps_list:\n",
    "        step_df = sorted_assess_df[sorted_assess_df['step_name']==step]\n",
    "        trim_start_sec = trim_dict[step]['start']\n",
    "        trim_start_samp = trim_start_sec*samples_freq\n",
    "        trim_end_sec = trim_dict[step]['end']\n",
    "        if trim_end_sec != 0:\n",
    "            trim_end_samp = -(trim_end_sec*samples_freq)\n",
    "        else:\n",
    "            trim_end_samp = step_df.shape[0]\n",
    "        trimmed_step = step_df.iloc[trim_start_samp:trim_end_samp]\n",
    "        trimmed_df = pd.concat([trimmed_df, trimmed_step])\n",
    "    return trimmed_df"
   ]
  },
  {
   "cell_type": "code",
   "execution_count": 9,
   "metadata": {
    "ExecuteTime": {
     "end_time": "2017-10-29T12:02:49.406429Z",
     "start_time": "2017-10-29T12:02:49.399894Z"
    },
    "collapsed": true
   },
   "outputs": [],
   "source": [
    "def trim_entire_df_per_step(df, trim_dict, samsamples_freq=50):\n",
    "    sorted_df = df.sort_values(by='timestamp', ascending=True)\n",
    "    assessments_list = df['assessment_id'].unique()\n",
    "    trimmed_entire_df = pd.DataFrame()\n",
    "    for assess in assessments_list:\n",
    "        assess_df = sorted_df[sorted_df['assessment_id']==assess]\n",
    "        trimmed_assess = trim_assessment_per_step(assess_df, trim_dict)\n",
    "        trimmed_entire_df = pd.concat([trimmed_entire_df, trimmed_assess])\n",
    "    return trimmed_entire_df"
   ]
  },
  {
   "cell_type": "code",
   "execution_count": 10,
   "metadata": {
    "ExecuteTime": {
     "end_time": "2017-10-29T12:04:34.897005Z",
     "start_time": "2017-10-29T12:02:49.919389Z"
    },
    "collapsed": true
   },
   "outputs": [],
   "source": [
    "trimmed_clinic_steps_watch_acc = trim_entire_df_per_step(clinic_steps_watch_acc_df, trim_dict)\n",
    "trimmed_clinic_steps_watch_acc.name = 'trimmed_clinic_steps_watch_acc'\n",
    "\n",
    "trimmed_clinic_steps_phone_acc = trim_entire_df_per_step(clinic_steps_phone_acc_df, trim_dict)\n",
    "trimmed_clinic_steps_phone_acc.name = 'trimmed_clinic_steps_phone_acc'\n",
    "\n",
    "trimmed_home_steps_watch_acc = trim_entire_df_per_step(home_steps_watch_acc_df, trim_dict)\n",
    "trimmed_home_steps_watch_acc.name = 'trimmed_home_steps_watch_acc'\n",
    "\n",
    "trimmed_home_steps_phone_acc = trim_entire_df_per_step(home_steps_phone_acc_df, trim_dict)\n",
    "trimmed_home_steps_phone_acc.name = 'trimmed_home_steps_phone_acc'"
   ]
  },
  {
   "cell_type": "markdown",
   "metadata": {},
   "source": [
    "## For each sample, add (1) accelerometer norm and (2) step's norm STD:"
   ]
  },
  {
   "cell_type": "code",
   "execution_count": 11,
   "metadata": {
    "ExecuteTime": {
     "end_time": "2017-10-29T12:04:34.907006Z",
     "start_time": "2017-10-29T12:04:34.899006Z"
    },
    "collapsed": true
   },
   "outputs": [],
   "source": [
    "def enrich_accelerometer_raw_data(df, global_device_baseline):\n",
    "    # Add the accelerometer's norm:\n",
    "    df['acc_norm'] = np.sqrt(df['x']**2 + df['y']**2 + df['z']**2)\n",
    "    # Calculate the accelerometer norm's standard deviation for each step:\n",
    "    step_norm_std = df[['assessment_id', 'step_name', 'acc_norm']].groupby(['assessment_id', 'step_name'],\n",
    "                                                                           as_index=False).agg(np.std, ddof=0)\n",
    "    df_with_norm_std = df.merge(right=step_norm_std,\n",
    "                                how='inner',\n",
    "                                on=['assessment_id', 'step_name'],\n",
    "                                suffixes=['', '_step_std'])\n",
    "    return df_with_norm_std"
   ]
  },
  {
   "cell_type": "code",
   "execution_count": 12,
   "metadata": {
    "ExecuteTime": {
     "end_time": "2017-10-29T12:04:38.610995Z",
     "start_time": "2017-10-29T12:04:34.909508Z"
    },
    "collapsed": true
   },
   "outputs": [],
   "source": [
    "clinic_watch_acc_with_deltas = enrich_accelerometer_raw_data(trimmed_clinic_steps_watch_acc, watch_acc_base)\n",
    "clinic_phone_acc_with_deltas = enrich_accelerometer_raw_data(trimmed_clinic_steps_phone_acc, phone_acc_base)\n",
    "home_watch_acc_with_deltas = enrich_accelerometer_raw_data(trimmed_home_steps_watch_acc, watch_acc_base)\n",
    "home_phone_acc_with_deltas = enrich_accelerometer_raw_data(trimmed_home_steps_phone_acc, phone_acc_base)"
   ]
  },
  {
   "cell_type": "code",
   "execution_count": 13,
   "metadata": {
    "ExecuteTime": {
     "end_time": "2017-10-29T12:04:38.635995Z",
     "start_time": "2017-10-29T12:04:38.613494Z"
    }
   },
   "outputs": [
    {
     "data": {
      "text/html": [
       "<div>\n",
       "<style>\n",
       "    .dataframe thead tr:only-child th {\n",
       "        text-align: right;\n",
       "    }\n",
       "\n",
       "    .dataframe thead th {\n",
       "        text-align: left;\n",
       "    }\n",
       "\n",
       "    .dataframe tbody tr th {\n",
       "        vertical-align: top;\n",
       "    }\n",
       "</style>\n",
       "<table border=\"1\" class=\"dataframe\">\n",
       "  <thead>\n",
       "    <tr style=\"text-align: right;\">\n",
       "      <th></th>\n",
       "      <th>user_id</th>\n",
       "      <th>assessment_id</th>\n",
       "      <th>assessment_start</th>\n",
       "      <th>assessment_end</th>\n",
       "      <th>timestamp</th>\n",
       "      <th>step_name</th>\n",
       "      <th>x</th>\n",
       "      <th>y</th>\n",
       "      <th>z</th>\n",
       "      <th>patient_report_value</th>\n",
       "      <th>clinician_report_value</th>\n",
       "      <th>acc_norm</th>\n",
       "      <th>acc_norm_step_std</th>\n",
       "    </tr>\n",
       "  </thead>\n",
       "  <tbody>\n",
       "    <tr>\n",
       "      <th>0</th>\n",
       "      <td>82</td>\n",
       "      <td>1489765988342</td>\n",
       "      <td>2017-03-17 15:43:54.743</td>\n",
       "      <td>2017-03-17 15:53:08.333</td>\n",
       "      <td>2017-03-17 15:44:12.043</td>\n",
       "      <td>TUaG</td>\n",
       "      <td>-2.235916</td>\n",
       "      <td>2.579149</td>\n",
       "      <td>-8.855405</td>\n",
       "      <td>3.0</td>\n",
       "      <td>4.0</td>\n",
       "      <td>9.490497</td>\n",
       "      <td>2.28504</td>\n",
       "    </tr>\n",
       "    <tr>\n",
       "      <th>1</th>\n",
       "      <td>82</td>\n",
       "      <td>1489765988342</td>\n",
       "      <td>2017-03-17 15:43:54.743</td>\n",
       "      <td>2017-03-17 15:53:08.333</td>\n",
       "      <td>2017-03-17 15:44:12.063</td>\n",
       "      <td>TUaG</td>\n",
       "      <td>-2.745862</td>\n",
       "      <td>2.324176</td>\n",
       "      <td>-9.708583</td>\n",
       "      <td>3.0</td>\n",
       "      <td>4.0</td>\n",
       "      <td>10.353654</td>\n",
       "      <td>2.28504</td>\n",
       "    </tr>\n",
       "    <tr>\n",
       "      <th>2</th>\n",
       "      <td>82</td>\n",
       "      <td>1489765988342</td>\n",
       "      <td>2017-03-17 15:43:54.743</td>\n",
       "      <td>2017-03-17 15:53:08.333</td>\n",
       "      <td>2017-03-17 15:44:12.083</td>\n",
       "      <td>TUaG</td>\n",
       "      <td>-1.108151</td>\n",
       "      <td>-1.265058</td>\n",
       "      <td>-11.032481</td>\n",
       "      <td>3.0</td>\n",
       "      <td>4.0</td>\n",
       "      <td>11.159929</td>\n",
       "      <td>2.28504</td>\n",
       "    </tr>\n",
       "    <tr>\n",
       "      <th>3</th>\n",
       "      <td>82</td>\n",
       "      <td>1489765988342</td>\n",
       "      <td>2017-03-17 15:43:54.743</td>\n",
       "      <td>2017-03-17 15:53:08.333</td>\n",
       "      <td>2017-03-17 15:44:12.103</td>\n",
       "      <td>TUaG</td>\n",
       "      <td>-1.696550</td>\n",
       "      <td>-1.941717</td>\n",
       "      <td>-9.953750</td>\n",
       "      <td>3.0</td>\n",
       "      <td>4.0</td>\n",
       "      <td>10.282299</td>\n",
       "      <td>2.28504</td>\n",
       "    </tr>\n",
       "    <tr>\n",
       "      <th>4</th>\n",
       "      <td>82</td>\n",
       "      <td>1489765988342</td>\n",
       "      <td>2017-03-17 15:43:54.743</td>\n",
       "      <td>2017-03-17 15:53:08.333</td>\n",
       "      <td>2017-03-17 15:44:12.123</td>\n",
       "      <td>TUaG</td>\n",
       "      <td>-1.480804</td>\n",
       "      <td>0.196133</td>\n",
       "      <td>-9.208444</td>\n",
       "      <td>3.0</td>\n",
       "      <td>4.0</td>\n",
       "      <td>9.328810</td>\n",
       "      <td>2.28504</td>\n",
       "    </tr>\n",
       "  </tbody>\n",
       "</table>\n",
       "</div>"
      ],
      "text/plain": [
       "   user_id  assessment_id        assessment_start          assessment_end  \\\n",
       "0       82  1489765988342 2017-03-17 15:43:54.743 2017-03-17 15:53:08.333   \n",
       "1       82  1489765988342 2017-03-17 15:43:54.743 2017-03-17 15:53:08.333   \n",
       "2       82  1489765988342 2017-03-17 15:43:54.743 2017-03-17 15:53:08.333   \n",
       "3       82  1489765988342 2017-03-17 15:43:54.743 2017-03-17 15:53:08.333   \n",
       "4       82  1489765988342 2017-03-17 15:43:54.743 2017-03-17 15:53:08.333   \n",
       "\n",
       "                timestamp step_name         x         y          z  \\\n",
       "0 2017-03-17 15:44:12.043      TUaG -2.235916  2.579149  -8.855405   \n",
       "1 2017-03-17 15:44:12.063      TUaG -2.745862  2.324176  -9.708583   \n",
       "2 2017-03-17 15:44:12.083      TUaG -1.108151 -1.265058 -11.032481   \n",
       "3 2017-03-17 15:44:12.103      TUaG -1.696550 -1.941717  -9.953750   \n",
       "4 2017-03-17 15:44:12.123      TUaG -1.480804  0.196133  -9.208444   \n",
       "\n",
       "   patient_report_value  clinician_report_value   acc_norm  acc_norm_step_std  \n",
       "0                   3.0                     4.0   9.490497            2.28504  \n",
       "1                   3.0                     4.0  10.353654            2.28504  \n",
       "2                   3.0                     4.0  11.159929            2.28504  \n",
       "3                   3.0                     4.0  10.282299            2.28504  \n",
       "4                   3.0                     4.0   9.328810            2.28504  "
      ]
     },
     "execution_count": 13,
     "metadata": {},
     "output_type": "execute_result"
    }
   ],
   "source": [
    "clinic_watch_acc_with_deltas.head()"
   ]
  },
  {
   "cell_type": "code",
   "execution_count": 26,
   "metadata": {
    "ExecuteTime": {
     "end_time": "2017-10-29T13:16:14.321262Z",
     "start_time": "2017-10-29T13:16:12.368789Z"
    },
    "scrolled": true
   },
   "outputs": [
    {
     "name": "stdout",
     "output_type": "stream",
     "text": [
      "Step: TUaG\n",
      "user 82: 1231\n",
      "user 45: 2508\n",
      "user 8: 499\n",
      "user 74: 149\n",
      "user 94: 3851\n",
      "user 25: 778\n",
      "user 51: 942\n",
      "user 108: 209\n",
      "user 57: 344\n"
     ]
    },
    {
     "data": {
      "image/png": "[encoded data removed]",
      "text/plain": [
       "<matplotlib.figure.Figure at 0x129837fbf98>"
      ]
     },
     "metadata": {},
     "output_type": "display_data"
    },
    {
     "name": "stdout",
     "output_type": "stream",
     "text": [
      "Step: Sit relaxed\n",
      "user 82: 5873\n",
      "user 63: 5870\n",
      "user 45: 5858\n",
      "user 8: 5934\n",
      "user 74: 5884\n",
      "user 94: 5878\n",
      "user 25: 11593\n",
      "user 51: 5910\n",
      "user 108: 5921\n",
      "user 57: 5823\n"
     ]
    },
    {
     "data": {
      "image/png": "[encoded data removed]",
      "text/plain": [
       "<matplotlib.figure.Figure at 0x12983849f98>"
      ]
     },
     "metadata": {},
     "output_type": "display_data"
    },
    {
     "name": "stdout",
     "output_type": "stream",
     "text": [
      "Step: Sit extended\n",
      "user 82: 2913\n",
      "user 63: 2861\n",
      "user 45: 2854\n",
      "user 8: 2892\n",
      "user 74: 2942\n",
      "user 94: 2865\n",
      "user 25: 5699\n",
      "user 51: 2880\n",
      "user 108: 2886\n",
      "user 57: 2869\n"
     ]
    },
    {
     "data": {
      "image/png": "[encoded data removed]",
      "text/plain": [
       "<matplotlib.figure.Figure at 0x1298391f630>"
      ]
     },
     "metadata": {},
     "output_type": "display_data"
    },
    {
     "name": "stdout",
     "output_type": "stream",
     "text": [
      "Step: Stand\n",
      "user 82: 1382\n",
      "user 63: 1380\n",
      "user 45: 1377\n",
      "user 8: 1396\n",
      "user 74: 1445\n",
      "user 94: 1382\n",
      "user 25: 2749\n",
      "user 51: 1391\n",
      "user 108: 1391\n",
      "user 57: 1385\n"
     ]
    },
    {
     "data": {
      "image/png": "[encoded data removed]",
      "text/plain": [
       "<matplotlib.figure.Figure at 0x12983d5e128>"
      ]
     },
     "metadata": {},
     "output_type": "display_data"
    },
    {
     "name": "stdout",
     "output_type": "stream",
     "text": [
      "Step: Walk\n",
      "user 82: 147\n",
      "user 63: 2415\n",
      "user 45: 1277\n",
      "user 8: 548\n",
      "user 74: 349\n",
      "user 25: 2301\n",
      "user 51: 396\n",
      "user 108: 297\n",
      "user 57: 593\n"
     ]
    },
    {
     "data": {
      "image/png": "[encoded data removed]",
      "text/plain": [
       "<matplotlib.figure.Figure at 0x1298391c518>"
      ]
     },
     "metadata": {},
     "output_type": "display_data"
    },
    {
     "name": "stdout",
     "output_type": "stream",
     "text": [
      "Step: Drink\n",
      "user 82: 1233\n",
      "user 63: 1329\n",
      "user 45: 986\n",
      "user 8: 785\n",
      "user 74: 248\n",
      "user 25: 2792\n",
      "user 51: 1241\n",
      "user 108: 99\n",
      "user 57: 1334\n"
     ]
    },
    {
     "data": {
      "image/png": "[encoded data removed]",
      "text/plain": [
       "<matplotlib.figure.Figure at 0x12983d81710>"
      ]
     },
     "metadata": {},
     "output_type": "display_data"
    },
    {
     "name": "stdout",
     "output_type": "stream",
     "text": [
      "Step: Rotate hands\n",
      "user 82: 1382\n",
      "user 63: 1381\n",
      "user 45: 1296\n",
      "user 8: 1396\n",
      "user 74: 1395\n",
      "user 94: 1382\n",
      "user 25: 2749\n",
      "user 51: 1391\n",
      "user 108: 1392\n",
      "user 57: 1384\n"
     ]
    },
    {
     "data": {
      "image/png": "[encoded data removed]",
      "text/plain": [
       "<matplotlib.figure.Figure at 0x129833ff860>"
      ]
     },
     "metadata": {},
     "output_type": "display_data"
    }
   ],
   "source": [
    "for step in clinic_watch_acc_with_deltas['step_name'].unique():\n",
    "    print('Step:', step)\n",
    "    step_lengths = []\n",
    "    step_df = clinic_watch_acc_with_deltas[clinic_watch_acc_with_deltas['step_name']==step]\n",
    "    for user in step_df['user_id'].unique():\n",
    "        user_df = step_df[step_df['user_id']==user]\n",
    "        user_rows = user_df.shape[0]\n",
    "        print('user %s: %d' % (user, user_rows))\n",
    "        \n",
    "        step_lengths.append(user_df.shape[0])\n",
    "    plt.hist(step_lengths, bins=50)\n",
    "    plt.show()"
   ]
  },
  {
   "cell_type": "code",
   "execution_count": 37,
   "metadata": {
    "ExecuteTime": {
     "end_time": "2017-10-29T14:56:37.898264Z",
     "start_time": "2017-10-29T14:56:37.893804Z"
    },
    "collapsed": true
   },
   "outputs": [],
   "source": [
    "def concat_step_key(row):\n",
    "    return str(row['assessment_id'])+'_'+str(row['step_name'])"
   ]
  },
  {
   "cell_type": "code",
   "execution_count": 39,
   "metadata": {
    "ExecuteTime": {
     "end_time": "2017-10-29T14:58:22.835016Z",
     "start_time": "2017-10-29T14:58:22.830515Z"
    },
    "collapsed": true
   },
   "outputs": [],
   "source": [
    "def make_interval_from_all_data(df):\n",
    "    df_copy = df.copy()\n",
    "    df_copy['step_key'] = df_copy.apply(concat_step_key, axis=1)\n",
    "    df_copy.drop(['assessment_start', 'assessment_end'], axis=1, inplace=True)\n",
    "    return df_copy"
   ]
  },
  {
   "cell_type": "code",
   "execution_count": 40,
   "metadata": {
    "ExecuteTime": {
     "end_time": "2017-10-29T14:58:58.534753Z",
     "start_time": "2017-10-29T14:58:43.313629Z"
    }
   },
   "outputs": [
    {
     "data": {
      "text/html": [
       "<div>\n",
       "<style>\n",
       "    .dataframe thead tr:only-child th {\n",
       "        text-align: right;\n",
       "    }\n",
       "\n",
       "    .dataframe thead th {\n",
       "        text-align: left;\n",
       "    }\n",
       "\n",
       "    .dataframe tbody tr th {\n",
       "        vertical-align: top;\n",
       "    }\n",
       "</style>\n",
       "<table border=\"1\" class=\"dataframe\">\n",
       "  <thead>\n",
       "    <tr style=\"text-align: right;\">\n",
       "      <th></th>\n",
       "      <th>user_id</th>\n",
       "      <th>assessment_id</th>\n",
       "      <th>assessment_start</th>\n",
       "      <th>assessment_end</th>\n",
       "      <th>timestamp</th>\n",
       "      <th>step_name</th>\n",
       "      <th>x</th>\n",
       "      <th>y</th>\n",
       "      <th>z</th>\n",
       "      <th>patient_report_value</th>\n",
       "      <th>clinician_report_value</th>\n",
       "      <th>acc_norm</th>\n",
       "      <th>step_key</th>\n",
       "    </tr>\n",
       "  </thead>\n",
       "  <tbody>\n",
       "    <tr>\n",
       "      <th>748</th>\n",
       "      <td>82</td>\n",
       "      <td>1489765988342</td>\n",
       "      <td>2017-03-17 15:43:54.743</td>\n",
       "      <td>2017-03-17 15:53:08.333</td>\n",
       "      <td>2017-03-17 15:44:12.043</td>\n",
       "      <td>TUaG</td>\n",
       "      <td>-2.235916</td>\n",
       "      <td>2.579149</td>\n",
       "      <td>-8.855405</td>\n",
       "      <td>3.0</td>\n",
       "      <td>4.0</td>\n",
       "      <td>9.490497</td>\n",
       "      <td>1489765988342_TUaG</td>\n",
       "    </tr>\n",
       "    <tr>\n",
       "      <th>749</th>\n",
       "      <td>82</td>\n",
       "      <td>1489765988342</td>\n",
       "      <td>2017-03-17 15:43:54.743</td>\n",
       "      <td>2017-03-17 15:53:08.333</td>\n",
       "      <td>2017-03-17 15:44:12.063</td>\n",
       "      <td>TUaG</td>\n",
       "      <td>-2.745862</td>\n",
       "      <td>2.324176</td>\n",
       "      <td>-9.708583</td>\n",
       "      <td>3.0</td>\n",
       "      <td>4.0</td>\n",
       "      <td>10.353654</td>\n",
       "      <td>1489765988342_TUaG</td>\n",
       "    </tr>\n",
       "    <tr>\n",
       "      <th>750</th>\n",
       "      <td>82</td>\n",
       "      <td>1489765988342</td>\n",
       "      <td>2017-03-17 15:43:54.743</td>\n",
       "      <td>2017-03-17 15:53:08.333</td>\n",
       "      <td>2017-03-17 15:44:12.083</td>\n",
       "      <td>TUaG</td>\n",
       "      <td>-1.108151</td>\n",
       "      <td>-1.265058</td>\n",
       "      <td>-11.032481</td>\n",
       "      <td>3.0</td>\n",
       "      <td>4.0</td>\n",
       "      <td>11.159929</td>\n",
       "      <td>1489765988342_TUaG</td>\n",
       "    </tr>\n",
       "    <tr>\n",
       "      <th>751</th>\n",
       "      <td>82</td>\n",
       "      <td>1489765988342</td>\n",
       "      <td>2017-03-17 15:43:54.743</td>\n",
       "      <td>2017-03-17 15:53:08.333</td>\n",
       "      <td>2017-03-17 15:44:12.103</td>\n",
       "      <td>TUaG</td>\n",
       "      <td>-1.696550</td>\n",
       "      <td>-1.941717</td>\n",
       "      <td>-9.953750</td>\n",
       "      <td>3.0</td>\n",
       "      <td>4.0</td>\n",
       "      <td>10.282299</td>\n",
       "      <td>1489765988342_TUaG</td>\n",
       "    </tr>\n",
       "    <tr>\n",
       "      <th>752</th>\n",
       "      <td>82</td>\n",
       "      <td>1489765988342</td>\n",
       "      <td>2017-03-17 15:43:54.743</td>\n",
       "      <td>2017-03-17 15:53:08.333</td>\n",
       "      <td>2017-03-17 15:44:12.123</td>\n",
       "      <td>TUaG</td>\n",
       "      <td>-1.480804</td>\n",
       "      <td>0.196133</td>\n",
       "      <td>-9.208444</td>\n",
       "      <td>3.0</td>\n",
       "      <td>4.0</td>\n",
       "      <td>9.328810</td>\n",
       "      <td>1489765988342_TUaG</td>\n",
       "    </tr>\n",
       "  </tbody>\n",
       "</table>\n",
       "</div>"
      ],
      "text/plain": [
       "     user_id  assessment_id        assessment_start          assessment_end  \\\n",
       "748       82  1489765988342 2017-03-17 15:43:54.743 2017-03-17 15:53:08.333   \n",
       "749       82  1489765988342 2017-03-17 15:43:54.743 2017-03-17 15:53:08.333   \n",
       "750       82  1489765988342 2017-03-17 15:43:54.743 2017-03-17 15:53:08.333   \n",
       "751       82  1489765988342 2017-03-17 15:43:54.743 2017-03-17 15:53:08.333   \n",
       "752       82  1489765988342 2017-03-17 15:43:54.743 2017-03-17 15:53:08.333   \n",
       "\n",
       "                  timestamp step_name         x         y          z  \\\n",
       "748 2017-03-17 15:44:12.043      TUaG -2.235916  2.579149  -8.855405   \n",
       "749 2017-03-17 15:44:12.063      TUaG -2.745862  2.324176  -9.708583   \n",
       "750 2017-03-17 15:44:12.083      TUaG -1.108151 -1.265058 -11.032481   \n",
       "751 2017-03-17 15:44:12.103      TUaG -1.696550 -1.941717  -9.953750   \n",
       "752 2017-03-17 15:44:12.123      TUaG -1.480804  0.196133  -9.208444   \n",
       "\n",
       "     patient_report_value  clinician_report_value   acc_norm  \\\n",
       "748                   3.0                     4.0   9.490497   \n",
       "749                   3.0                     4.0  10.353654   \n",
       "750                   3.0                     4.0  11.159929   \n",
       "751                   3.0                     4.0  10.282299   \n",
       "752                   3.0                     4.0   9.328810   \n",
       "\n",
       "               step_key  \n",
       "748  1489765988342_TUaG  \n",
       "749  1489765988342_TUaG  \n",
       "750  1489765988342_TUaG  \n",
       "751  1489765988342_TUaG  \n",
       "752  1489765988342_TUaG  "
      ]
     },
     "execution_count": 40,
     "metadata": {},
     "output_type": "execute_result"
    }
   ],
   "source": [
    "test = make_interval_from_all_data(trimmed_clinic_steps_watch_acc)\n",
    "test.head()"
   ]
  },
  {
   "cell_type": "code",
   "execution_count": 28,
   "metadata": {
    "ExecuteTime": {
     "end_time": "2017-10-29T14:39:19.150787Z",
     "start_time": "2017-10-29T14:39:19.142306Z"
    }
   },
   "outputs": [
    {
     "name": "stdout",
     "output_type": "stream",
     "text": [
      "user_id                            int64\n",
      "assessment_id                      int64\n",
      "assessment_start          datetime64[ns]\n",
      "assessment_end            datetime64[ns]\n",
      "timestamp                 datetime64[ns]\n",
      "step_name                         object\n",
      "x                                float64\n",
      "y                                float64\n",
      "z                                float64\n",
      "patient_report_value             float64\n",
      "clinician_report_value           float64\n",
      "acc_norm                         float64\n",
      "acc_norm_step_std                float64\n",
      "dtype: object\n",
      "user_id                            int64\n",
      "assessment_id                      int64\n",
      "assessment_start          datetime64[ns]\n",
      "assessment_end            datetime64[ns]\n",
      "timestamp                 datetime64[ns]\n",
      "step_name                         object\n",
      "x                                float64\n",
      "y                                float64\n",
      "z                                float64\n",
      "patient_report_value             float64\n",
      "clinician_report_value           float64\n",
      "acc_norm                         float64\n",
      "dtype: object\n"
     ]
    }
   ],
   "source": [
    "print(trimmed_clinic_steps_watch_acc.dtypes)"
   ]
  }
 ],
 "metadata": {
  "kernelspec": {
   "display_name": "Python 3",
   "language": "python",
   "name": "python3"
  },
  "language_info": {
   "codemirror_mode": {
    "name": "ipython",
    "version": 3
   },
   "file_extension": ".py",
   "mimetype": "text/x-python",
   "name": "python",
   "nbconvert_exporter": "python",
   "pygments_lexer": "ipython3",
   "version": "3.6.1"
  },
  "toc": {
   "colors": {
    "hover_highlight": "#DAA520",
    "navigate_num": "#000000",
    "navigate_text": "#333333",
    "running_highlight": "#FF0000",
    "selected_highlight": "#FFD700",
    "sidebar_border": "#EEEEEE",
    "wrapper_background": "#FFFFFF"
   },
   "moveMenuLeft": true,
   "nav_menu": {
    "height": "362px",
    "width": "252px"
   },
   "navigate_menu": true,
   "number_sections": true,
   "sideBar": false,
   "threshold": 4,
   "toc_cell": true,
   "toc_position": {
    "height": "389px",
    "left": "2px",
    "right": "20px",
    "top": "105px",
    "width": "489px"
   },
   "toc_section_display": "none",
   "toc_window_display": true,
   "widenNotebook": false
  }
 },
 "nbformat": 4,
 "nbformat_minor": 1
}
