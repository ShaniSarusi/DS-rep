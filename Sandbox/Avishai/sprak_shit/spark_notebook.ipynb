{
 "cells": [
  {
   "cell_type": "code",
   "execution_count": 29,
   "metadata": {
    "collapsed": true
   },
   "outputs": [],
   "source": [
    "from pyspark import SQLContext\n",
    "from pyspark.sql.functions import udf\n",
    "from pyspark.sql import SparkSession\n",
    "from pyspark.sql.functions import col\n",
    "from pyspark.sql.window import Window\n",
    "from pyspark.sql.functions import ceil, unix_timestamp\n",
    "from pyspark.sql.functions import rank\n",
    "from pyspark.sql.functions import collect_list, array\n",
    "from pyspark.mllib.linalg import Vectors, VectorUDT\n",
    "from pyspark.sql.types import *\n",
    "\n",
    "from scipy.interpolate import interpolate\n",
    "from future.utils import lmap\n",
    "from functools import partial\n",
    "from scipy.signal import butter, filtfilt\n",
    "import numpy as np\n",
    "import pywt\n",
    "import pandas as pd"
   ]
  },
  {
   "cell_type": "code",
   "execution_count": 30,
   "metadata": {
    "collapsed": true
   },
   "outputs": [],
   "source": [
    "spark = SparkSession.builder.appName(\"some_testing2\").master(\"local\").getOrCreate()"
   ]
  },
  {
   "cell_type": "code",
   "execution_count": 31,
   "metadata": {
    "collapsed": true
   },
   "outputs": [],
   "source": [
    "df = spark.read.format('com.databricks.spark.csv').option(\"header\", \"True\").option(\"delimiter\", \",\")\\\n",
    "                      .load('C:/Users/awagner/Desktop/For_Tom/'+'AllLabData.csv')"
   ]
  },
  {
   "cell_type": "code",
   "execution_count": 34,
   "metadata": {
    "collapsed": true
   },
   "outputs": [],
   "source": [
    "df = df.withColumn(\"X\", df[\"X\"].cast(\"double\"))\n",
    "df = df.withColumn(\"Y\", df[\"Y\"].cast(\"double\"))\n",
    "df = df.withColumn(\"Z\", df[\"Z\"].cast(\"double\"))\n",
    "df = df.withColumn(\"TSStart\", df[\"TSStart\"].cast(\"timestamp\"))\n",
    "df = df.withColumn(\"TSEnd\", df[\"TSEnd\"].cast(\"timestamp\"))\n",
    "df = df.withColumn(\"interval_start\", ((ceil(unix_timestamp(df[\"TSStart\"]).cast(\"long\")))%10**4)) \n",
    "df = df.withColumn(\"interval_end\", ((ceil(unix_timestamp(df[\"TSEnd\"]).cast(\"long\")))%10**4)) "
   ]
  },
  {
   "cell_type": "code",
   "execution_count": 36,
   "metadata": {
    "collapsed": false
   },
   "outputs": [],
   "source": [
    "schema_for_parse = ArrayType(FloatType(), False)\n",
    "\n",
    "find_milisec = udf(lambda raw: (raw)[(raw.find('.')+1):(raw.find('.')+3)])\n",
    "merge_integers = udf(lambda raw1, raw2: int(str(raw1) + str(raw2)))\n",
    "parse = udf(lambda s: eval(str(s)), schema_for_parse)"
   ]
  },
  {
   "cell_type": "code",
   "execution_count": 37,
   "metadata": {
    "collapsed": true
   },
   "outputs": [],
   "source": [
    "df = df.withColumn(\"temp\", find_milisec('TS')) \n",
    "df = df.withColumn(\"interval\", (((unix_timestamp(df[\"TS\"]).cast(\"long\"))))) \n",
    "df = df.withColumn(\"interval\", merge_integers('interval', 'temp'))"
   ]
  },
  {
   "cell_type": "code",
   "execution_count": 38,
   "metadata": {
    "collapsed": true
   },
   "outputs": [],
   "source": [
    "def give_my_key(*args):\n",
    "    key = 0\n",
    "    for i in args:\n",
    "        key += float(i)\n",
    "    return key\n",
    "\n",
    "give_my_key_udf = udf(give_my_key)\n",
    "    "
   ]
  },
  {
   "cell_type": "code",
   "execution_count": 39,
   "metadata": {
    "collapsed": true
   },
   "outputs": [],
   "source": [
    "df = df.withColumn(\"key\", give_my_key_udf(\"interval_start\", \"interval_end\", 'SubjectId') ) \n",
    "df = df.withColumn(\"key\", df[\"key\"].cast(\"double\"))\n"
   ]
  },
  {
   "cell_type": "code",
   "execution_count": 40,
   "metadata": {
    "collapsed": false
   },
   "outputs": [
    {
     "name": "stdout",
     "output_type": "stream",
     "text": [
      "[('_c0', 'string'), ('SessionId', 'string'), ('DeviceID', 'string'), ('TS', 'string'), ('X', 'double'), ('Y', 'double'), ('Z', 'double'), ('AnnotationStrValue', 'string'), ('BradykinesiaGA', 'string'), ('DyskinesiaGA', 'string'), ('TremorGA', 'string'), ('TSStart', 'timestamp'), ('TSEnd', 'timestamp'), ('SubjectId', 'string'), ('IntelUsername', 'string'), ('interval_start', 'bigint'), ('interval_end', 'bigint'), ('temp', 'string'), ('interval', 'string'), ('key', 'double')]\n"
     ]
    }
   ],
   "source": [
    "print(df.dtypes)"
   ]
  },
  {
   "cell_type": "code",
   "execution_count": 44,
   "metadata": {
    "collapsed": false
   },
   "outputs": [
    {
     "name": "stdout",
     "output_type": "stream",
     "text": [
      "+------+----------------------+------------------+-------------------+\n",
      "|key   |X                     |Y                 |Z                  |\n",
      "+------+----------------------+------------------+-------------------+\n",
      "|1741.0|0.032816266377255404  |0.9565589334411009|0.18538697489378717|\n",
      "|1741.0|0.05317390375614024   |0.944447047479542 |0.18932435971451844|\n",
      "|1741.0|0.0449467726174725    |0.9766106438670463|0.14992291459228008|\n",
      "|1741.0|0.037274439836516335  |0.972530163064418 |0.1302699554976262 |\n",
      "|1741.0|0.02876682562714425   |0.9846718973546182|0.14208155157964325|\n",
      "|1741.0|0.06386329194215588   |1.0370491835109428|0.1301143953870914 |\n",
      "|1741.0|0.02292142675033916   |1.0574879639064827|0.15766355101803806|\n",
      "|1741.0|-0.02008564460674698  |1.0532871058391622|0.08293830677224615|\n",
      "|1741.0|0.030053131108873775  |0.9884257934881129|0.04776625405385437|\n",
      "|1741.0|-0.005639048934114398 |0.9562325486916411|0.0753371654395789 |\n",
      "|1741.0|0.013946962127489297  |0.9803962072112112|0.06745177037089355|\n",
      "|1741.0|-0.0025368052929393772|0.9966379397093545|0.06741675404962157|\n",
      "|1741.0|-0.01861460645172814  |1.0046985298101219|0.05947504678795665|\n",
      "|1741.0|-0.005446618429564426 |0.9602803267118343|0.05566380877417289|\n",
      "|1741.0|0.03305150831268097   |1.0006897277847213|0.09880290936889141|\n",
      "|1741.0|0.09933770614686876   |0.8995798278098202|0.11869126076695605|\n",
      "|1741.0|0.056934657210248915  |0.9564793710252143|0.18147013471973056|\n",
      "|1741.0|0.058387785603614906  |1.057546271983679 |0.19688448334397207|\n",
      "|1741.0|0.09176189094723262   |1.013028500655454 |0.18133173050667323|\n",
      "|1741.0|0.06490994284225073   |0.9524795482300452|0.1932161855909678 |\n",
      "|1741.0|0.09723298731369909   |0.948338555200605 |0.1853946725092217 |\n",
      "|1741.0|0.11163582173105177   |0.8753925352869759|0.1423221650273031 |\n",
      "|1741.0|0.07804186795899423   |0.9120704955721776|0.18548287636171146|\n",
      "|1741.0|0.09672107658149992   |0.9605744504857674|0.20101699067938336|\n",
      "|1741.0|0.08780940143753786   |1.0049203076709134|0.18917681753625126|\n",
      "+------+----------------------+------------------+-------------------+\n",
      "only showing top 25 rows\n",
      "\n"
     ]
    }
   ],
   "source": [
    "df.select(['key', 'X', 'Y', 'Z']).show(25 , False)"
   ]
  },
  {
   "cell_type": "code",
   "execution_count": 45,
   "metadata": {
    "collapsed": true
   },
   "outputs": [],
   "source": [
    "rdd_test = df.select('key','X', 'Y', 'Z', 'interval').rdd.map\\\n",
    "                 (lambda raw: (raw[0],([raw[1]], [raw[2]],  [raw[3]],  [raw[4]])))"
   ]
  },
  {
   "cell_type": "code",
   "execution_count": 46,
   "metadata": {
    "collapsed": true
   },
   "outputs": [],
   "source": [
    "rdd_test = rdd_test.reduceByKey(lambda x, y: (x[0] + y[0], x[1] + y[1], x[2] + y[2], x[3] + y[3]))"
   ]
  },
  {
   "cell_type": "code",
   "execution_count": 47,
   "metadata": {
    "collapsed": true
   },
   "outputs": [],
   "source": [
    "df_raw= rdd_test.map(lambda row : (row[0] ,row[1][0], row[1][1], row[1][2], row[1][3])).\\\n",
    "                       toDF(['key', 'X', 'Y', 'Z', 'interval'])\n"
   ]
  },
  {
   "cell_type": "code",
   "execution_count": 48,
   "metadata": {
    "collapsed": false
   },
   "outputs": [
    {
     "name": "stdout",
     "output_type": "stream",
     "text": [
      "+-------+--------------------+--------------------+--------------------+--------------------+\n",
      "|    key|                   X|                   Y|                   Z|            interval|\n",
      "+-------+--------------------+--------------------+--------------------+--------------------+\n",
      "|12590.0|[0.28632198706050...|[0.82812405663445...|[-0.4823275881834...|[141596621950, 14...|\n",
      "|13040.0|[0.92564838141756...|[-0.0091315938837...|[-0.3272873282107...|[141596643850, 14...|\n",
      "|13450.0|[0.89605250785223...|[-0.3789722799210...|[0.09013530686785...|[141596664450, 14...|\n",
      "|14670.0|[0.28530783043499...|[0.32870670526588...|[0.93734698900573...|[141596725550, 14...|\n",
      "|20000.0|[0.02633892612881...|[-1.0006468761304...|[-0.3797875468897...|[141596991950, 14...|\n",
      "+-------+--------------------+--------------------+--------------------+--------------------+\n",
      "only showing top 5 rows\n",
      "\n"
     ]
    }
   ],
   "source": [
    "df_raw.show(5)"
   ]
  },
  {
   "cell_type": "code",
   "execution_count": 49,
   "metadata": {
    "collapsed": true
   },
   "outputs": [],
   "source": [
    "sort_vec = udf(lambda X, Y: [x for _,x in sorted(zip(Y,X))])\n",
    "\n",
    "df_raw = df_raw.withColumn('X', sort_vec('X', 'interval'))\n",
    "df_raw = df_raw.withColumn('Y', sort_vec('Y', 'interval'))\n",
    "df_raw = df_raw.withColumn('Z', sort_vec('Z', 'interval'))"
   ]
  },
  {
   "cell_type": "code",
   "execution_count": 50,
   "metadata": {
    "collapsed": false
   },
   "outputs": [
    {
     "data": {
      "text/plain": [
       "[('key', 'double'),\n",
       " ('X', 'string'),\n",
       " ('Y', 'string'),\n",
       " ('Z', 'string'),\n",
       " ('interval', 'array<string>')]"
      ]
     },
     "execution_count": 50,
     "metadata": {},
     "output_type": "execute_result"
    }
   ],
   "source": [
    "df_raw.dtypes"
   ]
  },
  {
   "cell_type": "code",
   "execution_count": 51,
   "metadata": {
    "collapsed": true
   },
   "outputs": [],
   "source": [
    "df_raw = df_raw.withColumn(\"X\",  parse(\"X\"))\n",
    "df_raw = df_raw.withColumn(\"Y\",  parse(\"Y\"))\n",
    "df_raw = df_raw.withColumn(\"Z\",  parse(\"Z\"))\n"
   ]
  },
  {
   "cell_type": "code",
   "execution_count": 53,
   "metadata": {
    "collapsed": true
   },
   "outputs": [],
   "source": [
    "def slidind_window(axis, time_stamp, slide, window_size, freq):\n",
    "    #axis = eval(axis)\n",
    "    t = time_stamp[0]\n",
    "    windows = []\n",
    "    windows.append(axis[:(window_size*freq+1)])\n",
    "    for time1 in range(len(time_stamp)):\n",
    "        if float(time_stamp[time1]) >= float(t) + 100*slide:\n",
    "            if time1+window_size*freq < len(time_stamp):\n",
    "                windows.append(axis[time1:(time1+window_size*freq+1)])\n",
    "                t =  time_stamp[time1]\n",
    "    \n",
    "    return (windows)\n",
    "\n",
    "sliding_window_partial = partial(slidind_window, slide = 2.5, window_size = 5, freq = 50)"
   ]
  },
  {
   "cell_type": "code",
   "execution_count": 54,
   "metadata": {
    "collapsed": false
   },
   "outputs": [],
   "source": [
    "schema_for_sliding= ArrayType(ArrayType(FloatType(), False), False)\n",
    "sliding_window_udf = udf(sliding_window_partial, schema_for_sliding)\n"
   ]
  },
  {
   "cell_type": "code",
   "execution_count": 55,
   "metadata": {
    "collapsed": true
   },
   "outputs": [],
   "source": [
    "df_raw = df_raw.withColumn('X', sliding_window_udf('X', 'interval'))\n",
    "df_raw = df_raw.withColumn('Y', sliding_window_udf('Y', 'interval'))\n",
    "df_raw = df_raw.withColumn('Z', sliding_window_udf('Z', 'interval'))"
   ]
  },
  {
   "cell_type": "code",
   "execution_count": 56,
   "metadata": {
    "collapsed": false
   },
   "outputs": [
    {
     "data": {
      "text/plain": [
       "[('key', 'double'),\n",
       " ('X', 'array<array<float>>'),\n",
       " ('Y', 'array<array<float>>'),\n",
       " ('Z', 'array<array<float>>'),\n",
       " ('interval', 'array<string>')]"
      ]
     },
     "execution_count": 56,
     "metadata": {},
     "output_type": "execute_result"
    }
   ],
   "source": [
    "df_raw.dtypes"
   ]
  },
  {
   "cell_type": "code",
   "execution_count": 58,
   "metadata": {
    "collapsed": false
   },
   "outputs": [],
   "source": [
    "A = df_raw.take(2)"
   ]
  },
  {
   "cell_type": "code",
   "execution_count": 71,
   "metadata": {
    "collapsed": false
   },
   "outputs": [],
   "source": [
    "df_flat = df_raw.rdd.map(lambda raw:  (raw[0] , list(zip(raw[1], raw[2], raw[3]))))\n",
    "df_flat = df_flat.flatMapValues(lambda raw :raw)\n",
    "df_flat = df_flat.map(lambda raw: (raw[0],raw[1][0],raw[1][1],raw[1][2])).toDF(['key', 'X', 'Y', 'Z'])\n"
   ]
  },
  {
   "cell_type": "code",
   "execution_count": 22,
   "metadata": {
    "collapsed": false
   },
   "outputs": [
    {
     "name": "stdout",
     "output_type": "stream",
     "text": [
      "+-------+--------------------+--------------------+--------------------+\n",
      "|    key|                   X|                   Y|                   Z|\n",
      "+-------+--------------------+--------------------+--------------------+\n",
      "|12590.0|[0.28632199764251...|[0.82812404632568...|[-0.4823275804519...|\n",
      "|12590.0|[0.14670479297637...|[0.82017868757247...|[-0.5255244970321...|\n",
      "|12590.0|[0.19157606363296...|[0.78271335363388...|[-0.7888002395629...|\n",
      "|12590.0|[0.26038557291030...|[0.56054204702377...|[-0.7489655017852...|\n",
      "|12590.0|[0.30886235833168...|[0.54022121429443...|[-0.7411012649536...|\n",
      "|12590.0|[0.28801217675209...|[0.59268671274185...|[-0.7687094807624...|\n",
      "|12590.0|[0.26382794976234...|[0.62085336446762...|[-0.8120114207267...|\n",
      "|13040.0|[0.92564839124679...|[-0.0091315936297...|[-0.3272873163223...|\n",
      "|13040.0|[0.98133587837219...|[0.25678467750549...|[-0.4418890178203...|\n",
      "|13040.0|[1.32663416862487...|[0.09829099476337...|[-0.4729822278022...|\n",
      "|13040.0|[0.85930812358856...|[0.02770161628723...|[-0.2408806830644...|\n",
      "|13040.0|[1.03693568706512...|[-0.1345991790294...|[-0.3309266567230...|\n",
      "|13040.0|[1.23720371723175...|[0.19509257376194...|[-0.5557607412338...|\n",
      "|13040.0|[1.01420605182647...|[0.09591805189847...|[-0.2371551245450...|\n",
      "|13040.0|[1.02158355712890...|[0.15129967033863...|[-0.5556198358535...|\n",
      "|13040.0|[1.23166811466217...|[0.02188792638480...|[-0.4452974200248...|\n",
      "|13040.0|[1.02403926849365...|[0.01922900602221...|[-0.2369776368141...|\n",
      "|13040.0|[1.11448216438293...|[-0.0869411528110...|[-0.4921752214431...|\n",
      "|13040.0|[0.99955558776855...|[-0.0729074776172...|[-0.0677088573575...|\n",
      "|13040.0|[0.84497702121734...|[-0.3331699967384...|[-0.6094343662261...|\n",
      "|13040.0|[1.10840356349945...|[-0.1276447623968...|[-0.5628087520599...|\n",
      "|13040.0|[-0.8203530907630...|[0.57424950599670...|[0.01537756063044...|\n",
      "|13040.0|[-0.8093713521957...|[0.60238200426101...|[0.03898673877120...|\n",
      "|13040.0|[-0.8029358386993...|[0.54600512981414...|[-0.0433504767715...|\n",
      "|13040.0|[-1.0579822063446...|[0.56240618228912...|[-0.1140729263424...|\n",
      "+-------+--------------------+--------------------+--------------------+\n",
      "only showing top 25 rows\n",
      "\n"
     ]
    }
   ],
   "source": [
    "df_flat.show(25)"
   ]
  },
  {
   "cell_type": "code",
   "execution_count": 72,
   "metadata": {
    "collapsed": true
   },
   "outputs": [],
   "source": [
    "def project_gravity(x, y, z, num_samples_per_interval=None, round_up_or_down='down', return_only_vertical=False):\n",
    "    \"\"\"\n",
    "    Projection of 3D time signal to 2D\n",
    "    \n",
    "    Input:\n",
    "        x (1D numpy) - time signal X samples\n",
    "        y (1D numpy) - time signal Y samples\n",
    "        z (1D numpy) - time signal Z samples\n",
    "        num_samples_per_interval (integer) - cut the signal to num_samples_per_interval sub intervals\n",
    "                                     and preform the 2D projection on the sub intervals\n",
    "        round_up_or_down (string, down or up) - length(x)/num_samples_per_interval should \n",
    "                                                be ceil or floor\n",
    "        return_only_vertical (boolean) - If True return only vertical axis\n",
    "    \n",
    "    Output:\n",
    "        v (1D numpy) - vertical projection\n",
    "        h (1D numpy) - horizontal projection\n",
    "                                  \n",
    "    \"\"\"\n",
    "    if num_samples_per_interval is None:\n",
    "        v, h = project_gravity_xyz(x, y, z)\n",
    "        if return_only_vertical:\n",
    "            return v\n",
    "        else:\n",
    "            return v, h\n",
    "\n",
    "    # set number of intervals\n",
    "    n = len(x)/num_samples_per_interval\n",
    "    if round_up_or_down == 'down':\n",
    "        n = np.floor(n).astype(int)\n",
    "        n = np.max([1, n])\n",
    "    elif round_up_or_down == 'up':\n",
    "        n = np.ceil(n).astype(int)\n",
    "\n",
    "    # set window size\n",
    "    win_size = np.floor(len(x)/n).astype(int)\n",
    "\n",
    "    # perform sliding windows\n",
    "    idx_start = 0\n",
    "    v = []\n",
    "    h = []\n",
    "\n",
    "    # TODO Chunk the samples below evenly. Do this by dividing len(x) each time rather than the current implementation\n",
    "    for i in range(n):\n",
    "        idx_start = i * win_size\n",
    "        idx_end = (i + 1) * win_size\n",
    "        if i == n-1:  # last iteration\n",
    "            idx_end = -1\n",
    "        x_i = x[idx_start:idx_end]\n",
    "        y_i = y[idx_start:idx_end]\n",
    "        z_i = z[idx_start:idx_end]\n",
    "        ver_i, hor_i = project_gravity_xyz(x_i, y_i, z_i)\n",
    "        v.append(ver_i)\n",
    "        h.append(hor_i)\n",
    "    if return_only_vertical:\n",
    "        return np.hstack(v)\n",
    "    return np.hstack(v), np.hstack(h)\n",
    "\n",
    "\n",
    "def project_gravity_xyz(x, y, z):\n",
    "    xyz = np.stack((x, y, z), axis=1)\n",
    "    return project_gravity_core(xyz)\n",
    "\n",
    "\n",
    "def project_gravity_core(xyz):\n",
    "    \"\"\"\n",
    "    Projection of data set to 2 dim\n",
    "    \n",
    "    Input:\n",
    "        xyz (3d numpy array) - 0 dimension is number os samples, 1 dimension is length of signals\n",
    "                    and 2 dim is number of axis\n",
    "                    \n",
    "    Output:\n",
    "        ver (1d numpy) - Vertical projection\n",
    "        hor (1d numpy) - Horizontal projection\n",
    "        \n",
    "    \"\"\"\n",
    "    ver = []\n",
    "    hor = []\n",
    "    \n",
    "    # mean for each axis\n",
    "    G = [np.mean(xyz[:, 0]), np.mean(xyz[:, 1]), np.mean(xyz[:, 2])]\n",
    "    G_norm = G/np.sqrt(sum(np.power(G, 2)) + 0.0000001)\n",
    "    \n",
    "    # The projection is here\n",
    "    for i in range(len(xyz[:, 0])):\n",
    "        ver.append(float(np.dot([xyz[i, :]], G)))\n",
    "        hor.append(float(np.sqrt(np.dot(xyz[i, :]-ver[i]*G_norm, xyz[i, :]-ver[i]*G_norm))))\n",
    "        \n",
    "    ver = np.reshape(np.asarray(ver), len(ver))\n",
    "    return Vectors.dense(ver), Vectors.dense(hor)\n"
   ]
  },
  {
   "cell_type": "code",
   "execution_count": 73,
   "metadata": {
    "collapsed": false
   },
   "outputs": [
    {
     "name": "stdout",
     "output_type": "stream",
     "text": [
      "+-------+--------------------+--------------------+\n",
      "|    key|            proj_ver|            proj_hor|\n",
      "+-------+--------------------+--------------------+\n",
      "|12590.0|[0.96981579045316...|[0.17319772894329...|\n",
      "|12590.0|[0.95745235257911...|[0.19960889960922...|\n",
      "+-------+--------------------+--------------------+\n",
      "only showing top 2 rows\n",
      "\n"
     ]
    }
   ],
   "source": [
    "schema_for_proj = StructType([\n",
    "    StructField(\"proj_ver\", VectorUDT(), False),\n",
    "    StructField(\"proj_hor\", VectorUDT(), False)\n",
    "])\n",
    "\n",
    "proj_func = udf(project_gravity_xyz, schema_for_proj)\n",
    "\n",
    "\n",
    "df_proj = df_flat['X', 'Y', 'Z', 'key'].withColumn('proj', proj_func(\"X\", \"Y\", \"Z\"))\n",
    "df_proj = df_proj.select('key',\n",
    "                 'proj.proj_ver', \n",
    "                 'proj.proj_hor')\n",
    "df_proj.show(2)\n"
   ]
  },
  {
   "cell_type": "code",
   "execution_count": 74,
   "metadata": {
    "collapsed": false,
    "scrolled": true
   },
   "outputs": [
    {
     "name": "stdout",
     "output_type": "stream",
     "text": [
      "+-------+--------------------+--------------------+\n",
      "|    key|        denoised_ver|        denoised_hor|\n",
      "+-------+--------------------+--------------------+\n",
      "|12590.0|[0.09713335271840...|[0.10704233282524...|\n",
      "|12590.0|[0.07484846475425...|[0.16028882851580...|\n",
      "+-------+--------------------+--------------------+\n",
      "only showing top 2 rows\n",
      "\n"
     ]
    }
   ],
   "source": [
    "def denoise(data):\n",
    "    \"\"\"\n",
    "    Denoise the data with wavelet and\n",
    "    Input:\n",
    "        data - time signal\n",
    "    Output:\n",
    "        result - signal after denoising\n",
    "    \"\"\"\n",
    "    data = data - np.mean(data) + 0.1\n",
    "    WC = pywt.wavedec(data, 'sym8')\n",
    "    threshold = 0.01*np.sqrt(2*np.log2(256))\n",
    "    NWC = lmap(lambda x: pywt.threshold(x, threshold, 'soft'), WC)\n",
    "    result = pywt.waverec(NWC, 'sym8')\n",
    "    return  Vectors.dense(result)\n",
    "\n",
    "schema_for_denoise_func = ArrayType(FloatType(), False)\n",
    "denoise_func = udf(denoise,  VectorUDT())\n",
    "\n",
    "\n",
    "\n",
    "df_denoise = df_proj['proj_ver','proj_hor', 'key'].withColumn('denoised_ver',\n",
    "                    denoise_func(\"proj_ver\")).withColumn('denoised_hor',denoise_func(\"proj_hor\"))\n",
    "df_denoise = df_denoise.select('key', \"denoised_ver\", \"denoised_hor\") \n",
    "df_denoise.show(2)"
   ]
  },
  {
   "cell_type": "code",
   "execution_count": 75,
   "metadata": {
    "collapsed": false
   },
   "outputs": [
    {
     "name": "stdout",
     "output_type": "stream",
     "text": [
      "+-------+--------------------+--------------------+--------------------+--------------------+\n",
      "|    key|    rel_features_ver|   cont_features_ver|    rel_features_hor|   cont_features_hor|\n",
      "+-------+--------------------+--------------------+--------------------+--------------------+\n",
      "|12590.0|[0.0,0.05599426,0...|[3.469447E-17,0.0...|[0.0,0.08517329,0...|[5.551115E-17,0.1...|\n",
      "|12590.0|[2.220446E-16,0.0...|[7.8062556E-17,0....|[0.0,0.050331336,...|[9.020562E-17,0.0...|\n",
      "+-------+--------------------+--------------------+--------------------+--------------------+\n",
      "only showing top 2 rows\n",
      "\n"
     ]
    }
   ],
   "source": [
    "def toDWT(sig, rel = False):\n",
    "\n",
    "        x = np.arange(0, len(sig))\n",
    "        f = interpolate.interp1d(x, sig)\n",
    "        xnew = np.arange(0, len(sig)-1, float(len(sig)-1)/2**np.ceil(np.log2(len(sig))))\n",
    "        ynew = f(xnew)\n",
    "        x = pywt.wavedec(ynew - np.mean(ynew), pywt.Wavelet('db1'), mode='smooth')\n",
    "                \n",
    "        J = len(x)\n",
    "        res = np.zeros(J)\n",
    "        for j in range(J):\n",
    "            res[j] = float(np.sqrt(np.sum(x[j]**2)))\n",
    "        if rel is True:\n",
    "            res = res/np.sum(res + 10**(-10))\n",
    "            res = (np.log(float(1)/(1-res)))\n",
    "        \n",
    "        final_res = []\n",
    "        for not_kill in np.asarray(res):\n",
    "            final_res.append(float(not_kill))\n",
    "        return final_res\n",
    "\n",
    "schema = StructType([\n",
    "    StructField(\"F1\", FloatType(), False),\n",
    "    StructField(\"F2\", FloatType(), False),\n",
    "    StructField(\"F3\", FloatType(), False),\n",
    "    StructField(\"F4\", FloatType(), False),\n",
    "    StructField(\"F5\", FloatType(), False),\n",
    "    StructField(\"F6\", FloatType(), False),\n",
    "    StructField(\"F7\", FloatType(), False),\n",
    "    StructField(\"F8\", FloatType(), False),\n",
    "    StructField(\"F9\", FloatType(), False)\n",
    "])\n",
    "\n",
    "toDWT_relative = partial(toDWT, rel = True)\n",
    "toDWT_cont = partial(toDWT, rel = False)\n",
    "\n",
    "toDWT_relative_udf = udf(toDWT_relative,  schema)\n",
    "toDWT_cont_udf = udf(toDWT_cont,  schema)\n",
    "\n",
    "df_features = df_denoise[\"denoised_ver\", \"denoised_hor\", 'key'].withColumn('rel_features_ver', \n",
    "                        toDWT_relative_udf(\"denoised_ver\")).withColumn('cont_features_ver',\n",
    "                                          toDWT_cont_udf(\"denoised_ver\"))\n",
    "\n",
    "df_features = df_features[\"rel_features_ver\", \"cont_features_ver\", \"denoised_hor\", 'key'].withColumn('rel_features_hor', \n",
    "                        toDWT_relative_udf(\"denoised_hor\")).withColumn('cont_features_hor',\n",
    "                                          toDWT_cont_udf(\"denoised_hor\"))\n",
    "\n",
    "\n",
    "df_features = df_features.select('key', 'rel_features_ver', 'cont_features_ver',\n",
    "                                 'rel_features_hor', 'cont_features_hor')\n",
    "df_features.show(2)"
   ]
  },
  {
   "cell_type": "code",
   "execution_count": 76,
   "metadata": {
    "collapsed": true
   },
   "outputs": [],
   "source": [
    "def to_array(col):\n",
    "    def to_array_(v):\n",
    "        return v\n",
    "    return udf(to_array_, ArrayType(FloatType()))(col)\n",
    "\n",
    "ready_for_model = (df_features\n",
    "    .withColumn(\"rel_features_ver\", to_array(col(\"rel_features_ver\")))\n",
    "    .withColumn(\"cont_features_ver\", to_array(col(\"cont_features_ver\")))\n",
    "    .withColumn(\"rel_features_hor\", to_array(col(\"rel_features_hor\")))\n",
    "    .withColumn(\"cont_features_hor\", to_array(col(\"cont_features_hor\")))          \n",
    "    .select([\"key\"] + [col(\"rel_features_ver\")[i] for i in range(9)] + \n",
    "            [col(\"cont_features_ver\")[i] for i in range(9)] + \n",
    "            [col(\"rel_features_hor\")[i] for i in range(9)] +\n",
    "            [col(\"cont_features_hor\")[i] for i in range(9)]))"
   ]
  },
  {
   "cell_type": "code",
   "execution_count": 28,
   "metadata": {
    "collapsed": false
   },
   "outputs": [
    {
     "data": {
      "text/plain": [
       "[('key', 'double'),\n",
       " ('rel_features_ver[0]', 'float'),\n",
       " ('rel_features_ver[1]', 'float'),\n",
       " ('rel_features_ver[2]', 'float'),\n",
       " ('rel_features_ver[3]', 'float'),\n",
       " ('rel_features_ver[4]', 'float'),\n",
       " ('rel_features_ver[5]', 'float'),\n",
       " ('rel_features_ver[6]', 'float'),\n",
       " ('rel_features_ver[7]', 'float'),\n",
       " ('rel_features_ver[8]', 'float'),\n",
       " ('cont_features_ver[0]', 'float'),\n",
       " ('cont_features_ver[1]', 'float'),\n",
       " ('cont_features_ver[2]', 'float'),\n",
       " ('cont_features_ver[3]', 'float'),\n",
       " ('cont_features_ver[4]', 'float'),\n",
       " ('cont_features_ver[5]', 'float'),\n",
       " ('cont_features_ver[6]', 'float'),\n",
       " ('cont_features_ver[7]', 'float'),\n",
       " ('cont_features_ver[8]', 'float'),\n",
       " ('rel_features_hor[0]', 'float'),\n",
       " ('rel_features_hor[1]', 'float'),\n",
       " ('rel_features_hor[2]', 'float'),\n",
       " ('rel_features_hor[3]', 'float'),\n",
       " ('rel_features_hor[4]', 'float'),\n",
       " ('rel_features_hor[5]', 'float'),\n",
       " ('rel_features_hor[6]', 'float'),\n",
       " ('rel_features_hor[7]', 'float'),\n",
       " ('rel_features_hor[8]', 'float'),\n",
       " ('cont_features_hor[0]', 'float'),\n",
       " ('cont_features_hor[1]', 'float'),\n",
       " ('cont_features_hor[2]', 'float'),\n",
       " ('cont_features_hor[3]', 'float'),\n",
       " ('cont_features_hor[4]', 'float'),\n",
       " ('cont_features_hor[5]', 'float'),\n",
       " ('cont_features_hor[6]', 'float'),\n",
       " ('cont_features_hor[7]', 'float'),\n",
       " ('cont_features_hor[8]', 'float')]"
      ]
     },
     "execution_count": 28,
     "metadata": {},
     "output_type": "execute_result"
    }
   ],
   "source": [
    "ready_for_model.dtypes"
   ]
  },
  {
   "cell_type": "code",
   "execution_count": 33,
   "metadata": {
    "collapsed": false
   },
   "outputs": [
    {
     "data": {
      "text/plain": [
       "[('_c0', 'string'),\n",
       " ('SessionId', 'string'),\n",
       " ('DeviceID', 'string'),\n",
       " ('TS', 'string'),\n",
       " ('X', 'string'),\n",
       " ('Y', 'string'),\n",
       " ('Z', 'string'),\n",
       " ('AnnotationStrValue', 'string'),\n",
       " ('BradykinesiaGA', 'string'),\n",
       " ('DyskinesiaGA', 'string'),\n",
       " ('TremorGA', 'string'),\n",
       " ('TSStart', 'string'),\n",
       " ('TSEnd', 'string'),\n",
       " ('SubjectId', 'string'),\n",
       " ('IntelUsername', 'string')]"
      ]
     },
     "execution_count": 33,
     "metadata": {},
     "output_type": "execute_result"
    }
   ],
   "source": [
    "df.dtypes"
   ]
  },
  {
   "cell_type": "code",
   "execution_count": 66,
   "metadata": {
    "collapsed": false
   },
   "outputs": [],
   "source": [
    "A = df_flat.take(2)"
   ]
  },
  {
   "cell_type": "code",
   "execution_count": 70,
   "metadata": {
    "collapsed": false
   },
   "outputs": [
    {
     "data": {
      "text/plain": [
       "3"
      ]
     },
     "execution_count": 70,
     "metadata": {},
     "output_type": "execute_result"
    }
   ],
   "source": [
    "len(A[0][1][0][1])"
   ]
  },
  {
   "cell_type": "code",
   "execution_count": null,
   "metadata": {
    "collapsed": true
   },
   "outputs": [],
   "source": []
  }
 ],
 "metadata": {
  "kernelspec": {
   "display_name": "Python 3",
   "language": "python",
   "name": "python3"
  },
  "language_info": {
   "codemirror_mode": {
    "name": "ipython",
    "version": 3
   },
   "file_extension": ".py",
   "mimetype": "text/x-python",
   "name": "python",
   "nbconvert_exporter": "python",
   "pygments_lexer": "ipython3",
   "version": "3.6.0"
  }
 },
 "nbformat": 4,
 "nbformat_minor": 2
}
