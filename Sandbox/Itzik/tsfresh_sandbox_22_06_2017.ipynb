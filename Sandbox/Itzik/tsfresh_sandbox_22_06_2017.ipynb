{
 "cells": [
  {
   "cell_type": "code",
   "execution_count": 24,
   "metadata": {
    "collapsed": true
   },
   "outputs": [],
   "source": [
    "from tsfresh.feature_extraction import extract_features\n",
    "from tsfresh.feature_extraction.settings import ComprehensiveFCParameters, MinimalFCParameters, EfficientFCParameters\n",
    "from tsfresh.feature_extraction.settings import from_columns"
   ]
  },
  {
   "cell_type": "code",
   "execution_count": 3,
   "metadata": {},
   "outputs": [
    {
     "data": {
      "text/plain": [
       "{'length': None,\n",
       " 'maximum': None,\n",
       " 'mean': None,\n",
       " 'median': None,\n",
       " 'minimum': None,\n",
       " 'standard_deviation': None,\n",
       " 'sum_values': None,\n",
       " 'variance': None}"
      ]
     },
     "execution_count": 3,
     "metadata": {},
     "output_type": "execute_result"
    }
   ],
   "source": [
    "settings_minimal = MinimalFCParameters() # only a few basic features\n",
    "settings_minimal"
   ]
  },
  {
   "cell_type": "code",
   "execution_count": 4,
   "metadata": {
    "scrolled": true
   },
   "outputs": [
    {
     "data": {
      "text/plain": [
       "{'abs_energy': None,\n",
       " 'absolute_sum_of_changes': None,\n",
       " 'agg_linear_trend': [{'attr': 'rvalue', 'chunk_len': 5, 'f_agg': 'max'},\n",
       "  {'attr': 'rvalue', 'chunk_len': 5, 'f_agg': 'min'},\n",
       "  {'attr': 'rvalue', 'chunk_len': 5, 'f_agg': 'mean'},\n",
       "  {'attr': 'rvalue', 'chunk_len': 5, 'f_agg': 'var'},\n",
       "  {'attr': 'rvalue', 'chunk_len': 10, 'f_agg': 'max'},\n",
       "  {'attr': 'rvalue', 'chunk_len': 10, 'f_agg': 'min'},\n",
       "  {'attr': 'rvalue', 'chunk_len': 10, 'f_agg': 'mean'},\n",
       "  {'attr': 'rvalue', 'chunk_len': 10, 'f_agg': 'var'},\n",
       "  {'attr': 'rvalue', 'chunk_len': 50, 'f_agg': 'max'},\n",
       "  {'attr': 'rvalue', 'chunk_len': 50, 'f_agg': 'min'},\n",
       "  {'attr': 'rvalue', 'chunk_len': 50, 'f_agg': 'mean'},\n",
       "  {'attr': 'rvalue', 'chunk_len': 50, 'f_agg': 'var'},\n",
       "  {'attr': 'intercept', 'chunk_len': 5, 'f_agg': 'max'},\n",
       "  {'attr': 'intercept', 'chunk_len': 5, 'f_agg': 'min'},\n",
       "  {'attr': 'intercept', 'chunk_len': 5, 'f_agg': 'mean'},\n",
       "  {'attr': 'intercept', 'chunk_len': 5, 'f_agg': 'var'},\n",
       "  {'attr': 'intercept', 'chunk_len': 10, 'f_agg': 'max'},\n",
       "  {'attr': 'intercept', 'chunk_len': 10, 'f_agg': 'min'},\n",
       "  {'attr': 'intercept', 'chunk_len': 10, 'f_agg': 'mean'},\n",
       "  {'attr': 'intercept', 'chunk_len': 10, 'f_agg': 'var'},\n",
       "  {'attr': 'intercept', 'chunk_len': 50, 'f_agg': 'max'},\n",
       "  {'attr': 'intercept', 'chunk_len': 50, 'f_agg': 'min'},\n",
       "  {'attr': 'intercept', 'chunk_len': 50, 'f_agg': 'mean'},\n",
       "  {'attr': 'intercept', 'chunk_len': 50, 'f_agg': 'var'},\n",
       "  {'attr': 'slope', 'chunk_len': 5, 'f_agg': 'max'},\n",
       "  {'attr': 'slope', 'chunk_len': 5, 'f_agg': 'min'},\n",
       "  {'attr': 'slope', 'chunk_len': 5, 'f_agg': 'mean'},\n",
       "  {'attr': 'slope', 'chunk_len': 5, 'f_agg': 'var'},\n",
       "  {'attr': 'slope', 'chunk_len': 10, 'f_agg': 'max'},\n",
       "  {'attr': 'slope', 'chunk_len': 10, 'f_agg': 'min'},\n",
       "  {'attr': 'slope', 'chunk_len': 10, 'f_agg': 'mean'},\n",
       "  {'attr': 'slope', 'chunk_len': 10, 'f_agg': 'var'},\n",
       "  {'attr': 'slope', 'chunk_len': 50, 'f_agg': 'max'},\n",
       "  {'attr': 'slope', 'chunk_len': 50, 'f_agg': 'min'},\n",
       "  {'attr': 'slope', 'chunk_len': 50, 'f_agg': 'mean'},\n",
       "  {'attr': 'slope', 'chunk_len': 50, 'f_agg': 'var'},\n",
       "  {'attr': 'stderr', 'chunk_len': 5, 'f_agg': 'max'},\n",
       "  {'attr': 'stderr', 'chunk_len': 5, 'f_agg': 'min'},\n",
       "  {'attr': 'stderr', 'chunk_len': 5, 'f_agg': 'mean'},\n",
       "  {'attr': 'stderr', 'chunk_len': 5, 'f_agg': 'var'},\n",
       "  {'attr': 'stderr', 'chunk_len': 10, 'f_agg': 'max'},\n",
       "  {'attr': 'stderr', 'chunk_len': 10, 'f_agg': 'min'},\n",
       "  {'attr': 'stderr', 'chunk_len': 10, 'f_agg': 'mean'},\n",
       "  {'attr': 'stderr', 'chunk_len': 10, 'f_agg': 'var'},\n",
       "  {'attr': 'stderr', 'chunk_len': 50, 'f_agg': 'max'},\n",
       "  {'attr': 'stderr', 'chunk_len': 50, 'f_agg': 'min'},\n",
       "  {'attr': 'stderr', 'chunk_len': 50, 'f_agg': 'mean'},\n",
       "  {'attr': 'stderr', 'chunk_len': 50, 'f_agg': 'var'}],\n",
       " 'ar_coefficient': [{'coeff': 0, 'k': 10},\n",
       "  {'coeff': 1, 'k': 10},\n",
       "  {'coeff': 2, 'k': 10},\n",
       "  {'coeff': 3, 'k': 10},\n",
       "  {'coeff': 4, 'k': 10}],\n",
       " 'augmented_dickey_fuller': None,\n",
       " 'autocorrelation': [{'lag': 0},\n",
       "  {'lag': 1},\n",
       "  {'lag': 2},\n",
       "  {'lag': 3},\n",
       "  {'lag': 4},\n",
       "  {'lag': 5},\n",
       "  {'lag': 6},\n",
       "  {'lag': 7},\n",
       "  {'lag': 8},\n",
       "  {'lag': 9}],\n",
       " 'binned_entropy': [{'max_bins': 10}],\n",
       " 'count_above_mean': None,\n",
       " 'count_below_mean': None,\n",
       " 'cwt_coefficients': [{'coeff': 0, 'w': 2, 'widths': (2, 5, 10, 20)},\n",
       "  {'coeff': 0, 'w': 5, 'widths': (2, 5, 10, 20)},\n",
       "  {'coeff': 0, 'w': 10, 'widths': (2, 5, 10, 20)},\n",
       "  {'coeff': 0, 'w': 20, 'widths': (2, 5, 10, 20)},\n",
       "  {'coeff': 1, 'w': 2, 'widths': (2, 5, 10, 20)},\n",
       "  {'coeff': 1, 'w': 5, 'widths': (2, 5, 10, 20)},\n",
       "  {'coeff': 1, 'w': 10, 'widths': (2, 5, 10, 20)},\n",
       "  {'coeff': 1, 'w': 20, 'widths': (2, 5, 10, 20)},\n",
       "  {'coeff': 2, 'w': 2, 'widths': (2, 5, 10, 20)},\n",
       "  {'coeff': 2, 'w': 5, 'widths': (2, 5, 10, 20)},\n",
       "  {'coeff': 2, 'w': 10, 'widths': (2, 5, 10, 20)},\n",
       "  {'coeff': 2, 'w': 20, 'widths': (2, 5, 10, 20)},\n",
       "  {'coeff': 3, 'w': 2, 'widths': (2, 5, 10, 20)},\n",
       "  {'coeff': 3, 'w': 5, 'widths': (2, 5, 10, 20)},\n",
       "  {'coeff': 3, 'w': 10, 'widths': (2, 5, 10, 20)},\n",
       "  {'coeff': 3, 'w': 20, 'widths': (2, 5, 10, 20)},\n",
       "  {'coeff': 4, 'w': 2, 'widths': (2, 5, 10, 20)},\n",
       "  {'coeff': 4, 'w': 5, 'widths': (2, 5, 10, 20)},\n",
       "  {'coeff': 4, 'w': 10, 'widths': (2, 5, 10, 20)},\n",
       "  {'coeff': 4, 'w': 20, 'widths': (2, 5, 10, 20)},\n",
       "  {'coeff': 5, 'w': 2, 'widths': (2, 5, 10, 20)},\n",
       "  {'coeff': 5, 'w': 5, 'widths': (2, 5, 10, 20)},\n",
       "  {'coeff': 5, 'w': 10, 'widths': (2, 5, 10, 20)},\n",
       "  {'coeff': 5, 'w': 20, 'widths': (2, 5, 10, 20)},\n",
       "  {'coeff': 6, 'w': 2, 'widths': (2, 5, 10, 20)},\n",
       "  {'coeff': 6, 'w': 5, 'widths': (2, 5, 10, 20)},\n",
       "  {'coeff': 6, 'w': 10, 'widths': (2, 5, 10, 20)},\n",
       "  {'coeff': 6, 'w': 20, 'widths': (2, 5, 10, 20)},\n",
       "  {'coeff': 7, 'w': 2, 'widths': (2, 5, 10, 20)},\n",
       "  {'coeff': 7, 'w': 5, 'widths': (2, 5, 10, 20)},\n",
       "  {'coeff': 7, 'w': 10, 'widths': (2, 5, 10, 20)},\n",
       "  {'coeff': 7, 'w': 20, 'widths': (2, 5, 10, 20)},\n",
       "  {'coeff': 8, 'w': 2, 'widths': (2, 5, 10, 20)},\n",
       "  {'coeff': 8, 'w': 5, 'widths': (2, 5, 10, 20)},\n",
       "  {'coeff': 8, 'w': 10, 'widths': (2, 5, 10, 20)},\n",
       "  {'coeff': 8, 'w': 20, 'widths': (2, 5, 10, 20)},\n",
       "  {'coeff': 9, 'w': 2, 'widths': (2, 5, 10, 20)},\n",
       "  {'coeff': 9, 'w': 5, 'widths': (2, 5, 10, 20)},\n",
       "  {'coeff': 9, 'w': 10, 'widths': (2, 5, 10, 20)},\n",
       "  {'coeff': 9, 'w': 20, 'widths': (2, 5, 10, 20)},\n",
       "  {'coeff': 10, 'w': 2, 'widths': (2, 5, 10, 20)},\n",
       "  {'coeff': 10, 'w': 5, 'widths': (2, 5, 10, 20)},\n",
       "  {'coeff': 10, 'w': 10, 'widths': (2, 5, 10, 20)},\n",
       "  {'coeff': 10, 'w': 20, 'widths': (2, 5, 10, 20)},\n",
       "  {'coeff': 11, 'w': 2, 'widths': (2, 5, 10, 20)},\n",
       "  {'coeff': 11, 'w': 5, 'widths': (2, 5, 10, 20)},\n",
       "  {'coeff': 11, 'w': 10, 'widths': (2, 5, 10, 20)},\n",
       "  {'coeff': 11, 'w': 20, 'widths': (2, 5, 10, 20)},\n",
       "  {'coeff': 12, 'w': 2, 'widths': (2, 5, 10, 20)},\n",
       "  {'coeff': 12, 'w': 5, 'widths': (2, 5, 10, 20)},\n",
       "  {'coeff': 12, 'w': 10, 'widths': (2, 5, 10, 20)},\n",
       "  {'coeff': 12, 'w': 20, 'widths': (2, 5, 10, 20)},\n",
       "  {'coeff': 13, 'w': 2, 'widths': (2, 5, 10, 20)},\n",
       "  {'coeff': 13, 'w': 5, 'widths': (2, 5, 10, 20)},\n",
       "  {'coeff': 13, 'w': 10, 'widths': (2, 5, 10, 20)},\n",
       "  {'coeff': 13, 'w': 20, 'widths': (2, 5, 10, 20)},\n",
       "  {'coeff': 14, 'w': 2, 'widths': (2, 5, 10, 20)},\n",
       "  {'coeff': 14, 'w': 5, 'widths': (2, 5, 10, 20)},\n",
       "  {'coeff': 14, 'w': 10, 'widths': (2, 5, 10, 20)},\n",
       "  {'coeff': 14, 'w': 20, 'widths': (2, 5, 10, 20)}],\n",
       " 'fft_coefficient': [{'coeff': 0},\n",
       "  {'coeff': 1},\n",
       "  {'coeff': 2},\n",
       "  {'coeff': 3},\n",
       "  {'coeff': 4},\n",
       "  {'coeff': 5},\n",
       "  {'coeff': 6},\n",
       "  {'coeff': 7},\n",
       "  {'coeff': 8},\n",
       "  {'coeff': 9}],\n",
       " 'first_location_of_maximum': None,\n",
       " 'first_location_of_minimum': None,\n",
       " 'friedrich_coefficients': [{'coeff': 0, 'm': 3, 'r': 30},\n",
       "  {'coeff': 1, 'm': 3, 'r': 30},\n",
       "  {'coeff': 2, 'm': 3, 'r': 30},\n",
       "  {'coeff': 3, 'm': 3, 'r': 30}],\n",
       " 'has_duplicate': None,\n",
       " 'has_duplicate_max': None,\n",
       " 'has_duplicate_min': None,\n",
       " 'index_mass_quantile': [{'q': 0.1},\n",
       "  {'q': 0.2},\n",
       "  {'q': 0.3},\n",
       "  {'q': 0.4},\n",
       "  {'q': 0.6},\n",
       "  {'q': 0.7},\n",
       "  {'q': 0.8},\n",
       "  {'q': 0.9}],\n",
       " 'kurtosis': None,\n",
       " 'large_number_of_peaks': [{'n': 1}, {'n': 3}, {'n': 5}],\n",
       " 'large_standard_deviation': [{'r': 0.0},\n",
       "  {'r': 0.05},\n",
       "  {'r': 0.1},\n",
       "  {'r': 0.15000000000000002},\n",
       "  {'r': 0.2},\n",
       "  {'r': 0.25},\n",
       "  {'r': 0.30000000000000004},\n",
       "  {'r': 0.35000000000000003},\n",
       "  {'r': 0.4},\n",
       "  {'r': 0.45}],\n",
       " 'last_location_of_maximum': None,\n",
       " 'last_location_of_minimum': None,\n",
       " 'length': None,\n",
       " 'linear_trend': [{'attr': 'pvalue'},\n",
       "  {'attr': 'rvalue'},\n",
       "  {'attr': 'intercept'},\n",
       "  {'attr': 'slope'},\n",
       "  {'attr': 'stderr'}],\n",
       " 'longest_strike_above_mean': None,\n",
       " 'longest_strike_below_mean': None,\n",
       " 'max_langevin_fixed_point': [{'m': 3, 'r': 30}],\n",
       " 'maximum': None,\n",
       " 'mean': None,\n",
       " 'mean_abs_change': None,\n",
       " 'mean_abs_change_quantiles': [{'qh': 0.2, 'ql': 0.0},\n",
       "  {'qh': 0.4, 'ql': 0.0},\n",
       "  {'qh': 0.6, 'ql': 0.0},\n",
       "  {'qh': 0.8, 'ql': 0.0},\n",
       "  {'qh': 1.0, 'ql': 0.0},\n",
       "  {'qh': 0.2, 'ql': 0.2},\n",
       "  {'qh': 0.4, 'ql': 0.2},\n",
       "  {'qh': 0.6, 'ql': 0.2},\n",
       "  {'qh': 0.8, 'ql': 0.2},\n",
       "  {'qh': 1.0, 'ql': 0.2},\n",
       "  {'qh': 0.2, 'ql': 0.4},\n",
       "  {'qh': 0.4, 'ql': 0.4},\n",
       "  {'qh': 0.6, 'ql': 0.4},\n",
       "  {'qh': 0.8, 'ql': 0.4},\n",
       "  {'qh': 1.0, 'ql': 0.4},\n",
       "  {'qh': 0.2, 'ql': 0.6},\n",
       "  {'qh': 0.4, 'ql': 0.6},\n",
       "  {'qh': 0.6, 'ql': 0.6},\n",
       "  {'qh': 0.8, 'ql': 0.6},\n",
       "  {'qh': 1.0, 'ql': 0.6},\n",
       "  {'qh': 0.2, 'ql': 0.8},\n",
       "  {'qh': 0.4, 'ql': 0.8},\n",
       "  {'qh': 0.6, 'ql': 0.8},\n",
       "  {'qh': 0.8, 'ql': 0.8},\n",
       "  {'qh': 1.0, 'ql': 0.8}],\n",
       " 'mean_autocorrelation': None,\n",
       " 'mean_change': None,\n",
       " 'mean_second_derivate_central': None,\n",
       " 'median': None,\n",
       " 'minimum': None,\n",
       " 'number_cwt_peaks': [{'n': 1}, {'n': 5}],\n",
       " 'number_peaks': [{'n': 1}, {'n': 3}, {'n': 5}],\n",
       " 'percentage_of_reoccurring_datapoints_to_all_datapoints': None,\n",
       " 'percentage_of_reoccurring_values_to_all_values': None,\n",
       " 'quantile': [{'q': 0.1},\n",
       "  {'q': 0.2},\n",
       "  {'q': 0.3},\n",
       "  {'q': 0.4},\n",
       "  {'q': 0.6},\n",
       "  {'q': 0.7},\n",
       "  {'q': 0.8},\n",
       "  {'q': 0.9}],\n",
       " 'range_count': [{'max': 1, 'min': -1}],\n",
       " 'ratio_value_number_to_time_series_length': None,\n",
       " 'skewness': None,\n",
       " 'spkt_welch_density': [{'coeff': 2}, {'coeff': 5}, {'coeff': 8}],\n",
       " 'standard_deviation': None,\n",
       " 'sum_of_reoccurring_data_points': None,\n",
       " 'sum_of_reoccurring_values': None,\n",
       " 'sum_values': None,\n",
       " 'symmetry_looking': [{'r': 0.0},\n",
       "  {'r': 0.05},\n",
       "  {'r': 0.1},\n",
       "  {'r': 0.15000000000000002},\n",
       "  {'r': 0.2},\n",
       "  {'r': 0.25},\n",
       "  {'r': 0.30000000000000004},\n",
       "  {'r': 0.35000000000000003},\n",
       "  {'r': 0.4},\n",
       "  {'r': 0.45},\n",
       "  {'r': 0.5},\n",
       "  {'r': 0.55},\n",
       "  {'r': 0.6000000000000001},\n",
       "  {'r': 0.65},\n",
       "  {'r': 0.7000000000000001},\n",
       "  {'r': 0.75},\n",
       "  {'r': 0.8},\n",
       "  {'r': 0.8500000000000001},\n",
       "  {'r': 0.9},\n",
       "  {'r': 0.9500000000000001}],\n",
       " 'time_reversal_asymmetry_statistic': [{'lag': 1}, {'lag': 2}, {'lag': 3}],\n",
       " 'value_count': [{'value': 0},\n",
       "  {'value': 1},\n",
       "  {'value': nan},\n",
       "  {'value': inf},\n",
       "  {'value': -inf}],\n",
       " 'variance': None,\n",
       " 'variance_larger_than_standard_deviation': None}"
      ]
     },
     "execution_count": 4,
     "metadata": {},
     "output_type": "execute_result"
    }
   ],
   "source": [
    "settings_efficient = EfficientFCParameters()\n",
    "settings_efficient"
   ]
  },
  {
   "cell_type": "code",
   "execution_count": 18,
   "metadata": {
    "collapsed": true
   },
   "outputs": [],
   "source": [
    "import numpy as np\n",
    "import os\n",
    "os.chdir('./../../Utils/Features/')\n",
    "import TSFresh as tsf\n",
    "import pandas as pd"
   ]
  },
  {
   "cell_type": "code",
   "execution_count": 21,
   "metadata": {
    "collapsed": true
   },
   "outputs": [],
   "source": [
    "vals = [list(np.random.randint(low=0, high=20, size=250))]"
   ]
  },
  {
   "cell_type": "code",
   "execution_count": 22,
   "metadata": {},
   "outputs": [],
   "source": [
    "tsf_df = tsf.convert_signals_for_ts_fresh(vals, 'x')"
   ]
  },
  {
   "cell_type": "code",
   "execution_count": 26,
   "metadata": {},
   "outputs": [
    {
     "data": {
      "text/html": [
       "<div>\n",
       "<style>\n",
       "    .dataframe thead tr:only-child th {\n",
       "        text-align: right;\n",
       "    }\n",
       "\n",
       "    .dataframe thead th {\n",
       "        text-align: left;\n",
       "    }\n",
       "\n",
       "    .dataframe tbody tr th {\n",
       "        vertical-align: top;\n",
       "    }\n",
       "</style>\n",
       "<table border=\"1\" class=\"dataframe\">\n",
       "  <thead>\n",
       "    <tr style=\"text-align: right;\">\n",
       "      <th></th>\n",
       "      <th>signal_id</th>\n",
       "      <th>time</th>\n",
       "      <th>x</th>\n",
       "    </tr>\n",
       "  </thead>\n",
       "  <tbody>\n",
       "    <tr>\n",
       "      <th>0</th>\n",
       "      <td>0</td>\n",
       "      <td>0</td>\n",
       "      <td>2</td>\n",
       "    </tr>\n",
       "    <tr>\n",
       "      <th>1</th>\n",
       "      <td>0</td>\n",
       "      <td>1</td>\n",
       "      <td>7</td>\n",
       "    </tr>\n",
       "    <tr>\n",
       "      <th>2</th>\n",
       "      <td>0</td>\n",
       "      <td>2</td>\n",
       "      <td>8</td>\n",
       "    </tr>\n",
       "    <tr>\n",
       "      <th>3</th>\n",
       "      <td>0</td>\n",
       "      <td>3</td>\n",
       "      <td>6</td>\n",
       "    </tr>\n",
       "    <tr>\n",
       "      <th>4</th>\n",
       "      <td>0</td>\n",
       "      <td>4</td>\n",
       "      <td>13</td>\n",
       "    </tr>\n",
       "  </tbody>\n",
       "</table>\n",
       "</div>"
      ],
      "text/plain": [
       "   signal_id  time   x\n",
       "0          0     0   2\n",
       "1          0     1   7\n",
       "2          0     2   8\n",
       "3          0     3   6\n",
       "4          0     4  13"
      ]
     },
     "execution_count": 26,
     "metadata": {},
     "output_type": "execute_result"
    }
   ],
   "source": [
    "tsf_df.head()"
   ]
  },
  {
   "cell_type": "code",
   "execution_count": 34,
   "metadata": {},
   "outputs": [
    {
     "name": "stderr",
     "output_type": "stream",
     "text": [
      "Feature Extraction: 100%|████████████████████████████████████████████████████████████████| 1/1 [00:02<00:00,  2.19s/it]\n",
      "Feature Extraction: 100%|████████████████████████████████████████████████████████████████| 1/1 [00:02<00:00,  2.19s/it]\n",
      "Feature Extraction: 100%|████████████████████████████████████████████████████████████████| 1/1 [00:02<00:00,  2.17s/it]\n"
     ]
    }
   ],
   "source": [
    "default_feat = extract_features(tsf_df, default_fc_parameters=None,\n",
    "                                column_id='signal_id', column_sort='time')\n",
    "comp_feat = extract_features(tsf_df, default_fc_parameters=ComprehensiveFCParameters(),\n",
    "                             column_id='signal_id', column_sort='time')\n",
    "eff_feat = extract_features(tsf_df, default_fc_parameters=EfficientFCParameters(),\n",
    "                            column_id='signal_id', column_sort='time')"
   ]
  },
  {
   "cell_type": "code",
   "execution_count": 36,
   "metadata": {},
   "outputs": [
    {
     "name": "stdout",
     "output_type": "stream",
     "text": [
      "(1, 275)\n",
      "(1, 275)\n",
      "(1, 269)\n"
     ]
    }
   ],
   "source": [
    "print(default_feat.shape)\n",
    "print(comp_feat.shape)\n",
    "print(eff_feat.shape)"
   ]
  },
  {
   "cell_type": "code",
   "execution_count": 37,
   "metadata": {
    "collapsed": true
   },
   "outputs": [],
   "source": [
    "all_cols = comp_feat.columns\n",
    "eff_cols = eff_feat.columns\n",
    "delta_cols = [x for x in all_cols if x not in eff_cols]"
   ]
  },
  {
   "cell_type": "code",
   "execution_count": 38,
   "metadata": {},
   "outputs": [
    {
     "data": {
      "text/plain": [
       "['x__sample_entropy',\n",
       " 'x__approximate_entropy__m_2__r_0.1',\n",
       " 'x__approximate_entropy__m_2__r_0.3',\n",
       " 'x__approximate_entropy__m_2__r_0.5',\n",
       " 'x__approximate_entropy__m_2__r_0.7',\n",
       " 'x__approximate_entropy__m_2__r_0.9']"
      ]
     },
     "execution_count": 38,
     "metadata": {},
     "output_type": "execute_result"
    }
   ],
   "source": [
    "delta_cols"
   ]
  }
 ],
 "metadata": {
  "kernelspec": {
   "display_name": "Python 3",
   "language": "python",
   "name": "python3"
  },
  "language_info": {
   "codemirror_mode": {
    "name": "ipython",
    "version": 3
   },
   "file_extension": ".py",
   "mimetype": "text/x-python",
   "name": "python",
   "nbconvert_exporter": "python",
   "pygments_lexer": "ipython3",
   "version": "3.6.1"
  }
 },
 "nbformat": 4,
 "nbformat_minor": 2
}
