{
 "cells": [
  {
   "cell_type": "code",
   "execution_count": 29,
   "metadata": {
    "collapsed": true
   },
   "outputs": [],
   "source": [
    "import pandas as pd\n",
    "from datetime import timedelta\n",
    "from StateAnalysis import AutomaticStateAnalysis"
   ]
  },
  {
   "cell_type": "code",
   "execution_count": 6,
   "metadata": {
    "collapsed": true
   },
   "outputs": [],
   "source": [
    "def aggregate_raw_data_to_windows(raw_data_path, window_size):\n",
    "    df = pd.read_csv(raw_data_path)\n",
    "    df['ts'] = pd.to_datetime(df.timestamp)\n",
    "    patients_list = df.user.unique().tolist()\n",
    "    for patient in patients_list:\n",
    "        patient_df = df[df.user==patient]\n",
    "        "
   ]
  },
  {
   "cell_type": "code",
   "execution_count": 30,
   "metadata": {
    "collapsed": false
   },
   "outputs": [
    {
     "name": "stdout",
     "output_type": "stream",
     "text": [
      "patients: [142301L]\n",
      "Windows Finished: 0 percent\n",
      "Windows Finished: 50 percent\n",
      "Finished windows\n"
     ]
    }
   ],
   "source": [
    "raw_data_path = './../mini_trial/res/raw_data/sample_from_athena_10000.csv'\n",
    "window_size = 1\n",
    "df = pd.read_csv(raw_data_path)\n",
    "df['ts'] = pd.to_datetime(df.timestamp)\n",
    "patients_list = df.user.unique().tolist()\n",
    "print 'patients:', patients_list\n",
    "for patient in patients_list:\n",
    "    patient_df = df[df.user==patient]\n",
    "    stateAnalysis = AutomaticStateAnalysis(patient_df, static_win_duration=window_size, std_thresh=30)\n",
    "    stateAnalysis.calc_windows(verbose=True)\n",
    "    windows = cal.windows"
   ]
  },
  {
   "cell_type": "code",
   "execution_count": 31,
   "metadata": {
    "collapsed": false
   },
   "outputs": [
    {
     "data": {
      "text/html": [
       "<div>\n",
       "<table border=\"1\" class=\"dataframe\">\n",
       "  <thead>\n",
       "    <tr style=\"text-align: right;\">\n",
       "      <th></th>\n",
       "      <th>SampleId</th>\n",
       "      <th>TSstart</th>\n",
       "      <th>Duration</th>\n",
       "      <th>NumSamples</th>\n",
       "      <th>Xstd</th>\n",
       "      <th>Ystd</th>\n",
       "      <th>Zstd</th>\n",
       "      <th>Nstd</th>\n",
       "      <th>Xmean</th>\n",
       "      <th>Ymean</th>\n",
       "      <th>Zmean</th>\n",
       "      <th>Nmean</th>\n",
       "    </tr>\n",
       "  </thead>\n",
       "  <tbody>\n",
       "    <tr>\n",
       "      <th>0</th>\n",
       "      <td>1</td>\n",
       "      <td>2017-01-22 04:59:00</td>\n",
       "      <td>1</td>\n",
       "      <td>2200</td>\n",
       "      <td>8.4496</td>\n",
       "      <td>8.22916</td>\n",
       "      <td>17.1676</td>\n",
       "      <td>8.72428</td>\n",
       "      <td>96.8509</td>\n",
       "      <td>-979.178</td>\n",
       "      <td>286.789</td>\n",
       "      <td>1025.07</td>\n",
       "    </tr>\n",
       "    <tr>\n",
       "      <th>1</th>\n",
       "      <td>2</td>\n",
       "      <td>2017-01-22 05:00:00</td>\n",
       "      <td>1</td>\n",
       "      <td>2150</td>\n",
       "      <td>9.66729</td>\n",
       "      <td>9.40056</td>\n",
       "      <td>19.2246</td>\n",
       "      <td>10.3624</td>\n",
       "      <td>95.4047</td>\n",
       "      <td>-976.726</td>\n",
       "      <td>295.055</td>\n",
       "      <td>1024.99</td>\n",
       "    </tr>\n",
       "  </tbody>\n",
       "</table>\n",
       "</div>"
      ],
      "text/plain": [
       "   SampleId              TSstart  Duration  NumSamples     Xstd     Ystd  \\\n",
       "0         1  2017-01-22 04:59:00         1        2200   8.4496  8.22916   \n",
       "1         2  2017-01-22 05:00:00         1        2150  9.66729  9.40056   \n",
       "\n",
       "      Zstd     Nstd    Xmean    Ymean    Zmean    Nmean  \n",
       "0  17.1676  8.72428  96.8509 -979.178  286.789  1025.07  \n",
       "1  19.2246  10.3624  95.4047 -976.726  295.055  1024.99  "
      ]
     },
     "execution_count": 31,
     "metadata": {},
     "output_type": "execute_result"
    }
   ],
   "source": [
    "windows.head(10)"
   ]
  },
  {
   "cell_type": "code",
   "execution_count": null,
   "metadata": {
    "collapsed": true
   },
   "outputs": [],
   "source": [
    "cal = AutomaticCalibration(df, static_win_duration=win_size, std_thresh=30)"
   ]
  }
 ],
 "metadata": {
  "kernelspec": {
   "display_name": "Python 2",
   "language": "python",
   "name": "python2"
  },
  "language_info": {
   "codemirror_mode": {
    "name": "ipython",
    "version": 2
   },
   "file_extension": ".py",
   "mimetype": "text/x-python",
   "name": "python",
   "nbconvert_exporter": "python",
   "pygments_lexer": "ipython2",
   "version": "2.7.13"
  }
 },
 "nbformat": 4,
 "nbformat_minor": 2
}
